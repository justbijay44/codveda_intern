{
 "cells": [
  {
   "cell_type": "code",
   "execution_count": 1,
   "id": "b1f227a6",
   "metadata": {},
   "outputs": [],
   "source": [
    "import pandas as pd\n",
    "import matplotlib.pyplot as plt\n",
    "import numpy as np\n",
    "import seaborn as sns"
   ]
  },
  {
   "cell_type": "code",
   "execution_count": 2,
   "id": "c932d276",
   "metadata": {},
   "outputs": [],
   "source": [
    "sentiment_df = pd.read_csv(\"Sentiment dataset.csv\")"
   ]
  },
  {
   "cell_type": "code",
   "execution_count": 3,
   "id": "8f804316",
   "metadata": {},
   "outputs": [
    {
     "data": {
      "text/html": [
       "<div>\n",
       "<style scoped>\n",
       "    .dataframe tbody tr th:only-of-type {\n",
       "        vertical-align: middle;\n",
       "    }\n",
       "\n",
       "    .dataframe tbody tr th {\n",
       "        vertical-align: top;\n",
       "    }\n",
       "\n",
       "    .dataframe thead th {\n",
       "        text-align: right;\n",
       "    }\n",
       "</style>\n",
       "<table border=\"1\" class=\"dataframe\">\n",
       "  <thead>\n",
       "    <tr style=\"text-align: right;\">\n",
       "      <th></th>\n",
       "      <th>Unnamed: 0.1</th>\n",
       "      <th>Unnamed: 0</th>\n",
       "      <th>Text</th>\n",
       "      <th>Sentiment</th>\n",
       "      <th>Timestamp</th>\n",
       "      <th>User</th>\n",
       "      <th>Platform</th>\n",
       "      <th>Hashtags</th>\n",
       "      <th>Retweets</th>\n",
       "      <th>Likes</th>\n",
       "      <th>Country</th>\n",
       "      <th>Year</th>\n",
       "      <th>Month</th>\n",
       "      <th>Day</th>\n",
       "      <th>Hour</th>\n",
       "    </tr>\n",
       "  </thead>\n",
       "  <tbody>\n",
       "    <tr>\n",
       "      <th>0</th>\n",
       "      <td>0</td>\n",
       "      <td>0</td>\n",
       "      <td>Enjoying a beautiful day at the park!        ...</td>\n",
       "      <td>Positive</td>\n",
       "      <td>2023-01-15 12:30:00</td>\n",
       "      <td>User123</td>\n",
       "      <td>Twitter</td>\n",
       "      <td>#Nature #Park</td>\n",
       "      <td>15.0</td>\n",
       "      <td>30.0</td>\n",
       "      <td>USA</td>\n",
       "      <td>2023</td>\n",
       "      <td>1</td>\n",
       "      <td>15</td>\n",
       "      <td>12</td>\n",
       "    </tr>\n",
       "    <tr>\n",
       "      <th>1</th>\n",
       "      <td>1</td>\n",
       "      <td>1</td>\n",
       "      <td>Traffic was terrible this morning.           ...</td>\n",
       "      <td>Negative</td>\n",
       "      <td>2023-01-15 08:45:00</td>\n",
       "      <td>CommuterX</td>\n",
       "      <td>Twitter</td>\n",
       "      <td>#Traffic #Morning</td>\n",
       "      <td>5.0</td>\n",
       "      <td>10.0</td>\n",
       "      <td>Canada</td>\n",
       "      <td>2023</td>\n",
       "      <td>1</td>\n",
       "      <td>15</td>\n",
       "      <td>8</td>\n",
       "    </tr>\n",
       "    <tr>\n",
       "      <th>2</th>\n",
       "      <td>2</td>\n",
       "      <td>2</td>\n",
       "      <td>Just finished an amazing workout! 💪          ...</td>\n",
       "      <td>Positive</td>\n",
       "      <td>2023-01-15 15:45:00</td>\n",
       "      <td>FitnessFan</td>\n",
       "      <td>Instagram</td>\n",
       "      <td>#Fitness #Workout</td>\n",
       "      <td>20.0</td>\n",
       "      <td>40.0</td>\n",
       "      <td>USA</td>\n",
       "      <td>2023</td>\n",
       "      <td>1</td>\n",
       "      <td>15</td>\n",
       "      <td>15</td>\n",
       "    </tr>\n",
       "    <tr>\n",
       "      <th>3</th>\n",
       "      <td>3</td>\n",
       "      <td>3</td>\n",
       "      <td>Excited about the upcoming weekend getaway!  ...</td>\n",
       "      <td>Positive</td>\n",
       "      <td>2023-01-15 18:20:00</td>\n",
       "      <td>AdventureX</td>\n",
       "      <td>Facebook</td>\n",
       "      <td>#Travel #Adventure</td>\n",
       "      <td>8.0</td>\n",
       "      <td>15.0</td>\n",
       "      <td>UK</td>\n",
       "      <td>2023</td>\n",
       "      <td>1</td>\n",
       "      <td>15</td>\n",
       "      <td>18</td>\n",
       "    </tr>\n",
       "    <tr>\n",
       "      <th>4</th>\n",
       "      <td>4</td>\n",
       "      <td>4</td>\n",
       "      <td>Trying out a new recipe for dinner tonight.  ...</td>\n",
       "      <td>Neutral</td>\n",
       "      <td>2023-01-15 19:55:00</td>\n",
       "      <td>ChefCook</td>\n",
       "      <td>Instagram</td>\n",
       "      <td>#Cooking #Food</td>\n",
       "      <td>12.0</td>\n",
       "      <td>25.0</td>\n",
       "      <td>Australia</td>\n",
       "      <td>2023</td>\n",
       "      <td>1</td>\n",
       "      <td>15</td>\n",
       "      <td>19</td>\n",
       "    </tr>\n",
       "  </tbody>\n",
       "</table>\n",
       "</div>"
      ],
      "text/plain": [
       "   Unnamed: 0.1  Unnamed: 0  \\\n",
       "0             0           0   \n",
       "1             1           1   \n",
       "2             2           2   \n",
       "3             3           3   \n",
       "4             4           4   \n",
       "\n",
       "                                                Text    Sentiment  \\\n",
       "0   Enjoying a beautiful day at the park!        ...   Positive     \n",
       "1   Traffic was terrible this morning.           ...   Negative     \n",
       "2   Just finished an amazing workout! 💪          ...   Positive     \n",
       "3   Excited about the upcoming weekend getaway!  ...   Positive     \n",
       "4   Trying out a new recipe for dinner tonight.  ...   Neutral      \n",
       "\n",
       "             Timestamp            User     Platform  \\\n",
       "0  2023-01-15 12:30:00   User123          Twitter     \n",
       "1  2023-01-15 08:45:00   CommuterX        Twitter     \n",
       "2  2023-01-15 15:45:00   FitnessFan      Instagram    \n",
       "3  2023-01-15 18:20:00   AdventureX       Facebook    \n",
       "4  2023-01-15 19:55:00   ChefCook        Instagram    \n",
       "\n",
       "                                     Hashtags  Retweets  Likes       Country  \\\n",
       "0   #Nature #Park                                  15.0   30.0     USA         \n",
       "1   #Traffic #Morning                               5.0   10.0     Canada      \n",
       "2   #Fitness #Workout                              20.0   40.0   USA           \n",
       "3   #Travel #Adventure                              8.0   15.0     UK          \n",
       "4   #Cooking #Food                                 12.0   25.0    Australia    \n",
       "\n",
       "   Year  Month  Day  Hour  \n",
       "0  2023      1   15    12  \n",
       "1  2023      1   15     8  \n",
       "2  2023      1   15    15  \n",
       "3  2023      1   15    18  \n",
       "4  2023      1   15    19  "
      ]
     },
     "execution_count": 3,
     "metadata": {},
     "output_type": "execute_result"
    }
   ],
   "source": [
    "sentiment_df.head()"
   ]
  },
  {
   "cell_type": "code",
   "execution_count": 4,
   "id": "e0519096",
   "metadata": {},
   "outputs": [
    {
     "name": "stdout",
     "output_type": "stream",
     "text": [
      "<class 'pandas.core.frame.DataFrame'>\n",
      "RangeIndex: 732 entries, 0 to 731\n",
      "Data columns (total 15 columns):\n",
      " #   Column        Non-Null Count  Dtype  \n",
      "---  ------        --------------  -----  \n",
      " 0   Unnamed: 0.1  732 non-null    int64  \n",
      " 1   Unnamed: 0    732 non-null    int64  \n",
      " 2   Text          732 non-null    object \n",
      " 3   Sentiment     732 non-null    object \n",
      " 4   Timestamp     732 non-null    object \n",
      " 5   User          732 non-null    object \n",
      " 6   Platform      732 non-null    object \n",
      " 7   Hashtags      732 non-null    object \n",
      " 8   Retweets      732 non-null    float64\n",
      " 9   Likes         732 non-null    float64\n",
      " 10  Country       732 non-null    object \n",
      " 11  Year          732 non-null    int64  \n",
      " 12  Month         732 non-null    int64  \n",
      " 13  Day           732 non-null    int64  \n",
      " 14  Hour          732 non-null    int64  \n",
      "dtypes: float64(2), int64(6), object(7)\n",
      "memory usage: 85.9+ KB\n"
     ]
    }
   ],
   "source": [
    "sentiment_df.info()"
   ]
  },
  {
   "cell_type": "code",
   "execution_count": 5,
   "id": "91493de7",
   "metadata": {},
   "outputs": [
    {
     "data": {
      "text/plain": [
       "np.int64(0)"
      ]
     },
     "execution_count": 5,
     "metadata": {},
     "output_type": "execute_result"
    }
   ],
   "source": [
    "sentiment_df.duplicated().sum()"
   ]
  },
  {
   "cell_type": "code",
   "execution_count": 6,
   "id": "c5f77397",
   "metadata": {},
   "outputs": [
    {
     "name": "stdout",
     "output_type": "stream",
     "text": [
      "Unnamed: 0.1 has 732 unique values\n",
      "Unnamed: 0 has 732 unique values\n",
      "Text has 707 unique values\n",
      "Sentiment has 279 unique values\n",
      "Timestamp has 683 unique values\n",
      "User has 685 unique values\n",
      "Platform has 4 unique values\n",
      "Hashtags has 697 unique values\n",
      "Retweets has 26 unique values\n",
      "Likes has 38 unique values\n",
      "Country has 115 unique values\n",
      "Year has 14 unique values\n",
      "Month has 12 unique values\n",
      "Day has 31 unique values\n",
      "Hour has 22 unique values\n"
     ]
    }
   ],
   "source": [
    "for val in sentiment_df.columns:\n",
    "    print(val,\"has\",sentiment_df[val].nunique(),'unique values')"
   ]
  },
  {
   "cell_type": "code",
   "execution_count": 7,
   "id": "b71abac3",
   "metadata": {},
   "outputs": [
    {
     "data": {
      "text/html": [
       "<div>\n",
       "<style scoped>\n",
       "    .dataframe tbody tr th:only-of-type {\n",
       "        vertical-align: middle;\n",
       "    }\n",
       "\n",
       "    .dataframe tbody tr th {\n",
       "        vertical-align: top;\n",
       "    }\n",
       "\n",
       "    .dataframe thead th {\n",
       "        text-align: right;\n",
       "    }\n",
       "</style>\n",
       "<table border=\"1\" class=\"dataframe\">\n",
       "  <thead>\n",
       "    <tr style=\"text-align: right;\">\n",
       "      <th></th>\n",
       "      <th>count</th>\n",
       "    </tr>\n",
       "    <tr>\n",
       "      <th>Country</th>\n",
       "      <th></th>\n",
       "    </tr>\n",
       "  </thead>\n",
       "  <tbody>\n",
       "    <tr>\n",
       "      <th>USA</th>\n",
       "      <td>59</td>\n",
       "    </tr>\n",
       "    <tr>\n",
       "      <th>USA</th>\n",
       "      <td>55</td>\n",
       "    </tr>\n",
       "    <tr>\n",
       "      <th>UK</th>\n",
       "      <td>49</td>\n",
       "    </tr>\n",
       "    <tr>\n",
       "      <th>Canada</th>\n",
       "      <td>44</td>\n",
       "    </tr>\n",
       "    <tr>\n",
       "      <th>Australia</th>\n",
       "      <td>41</td>\n",
       "    </tr>\n",
       "    <tr>\n",
       "      <th>...</th>\n",
       "      <td>...</td>\n",
       "    </tr>\n",
       "    <tr>\n",
       "      <th>Ireland</th>\n",
       "      <td>1</td>\n",
       "    </tr>\n",
       "    <tr>\n",
       "      <th>Scotland</th>\n",
       "      <td>1</td>\n",
       "    </tr>\n",
       "    <tr>\n",
       "      <th>Kenya</th>\n",
       "      <td>1</td>\n",
       "    </tr>\n",
       "    <tr>\n",
       "      <th>Jamaica</th>\n",
       "      <td>1</td>\n",
       "    </tr>\n",
       "    <tr>\n",
       "      <th>Thailand</th>\n",
       "      <td>1</td>\n",
       "    </tr>\n",
       "  </tbody>\n",
       "</table>\n",
       "<p>115 rows × 1 columns</p>\n",
       "</div>"
      ],
      "text/plain": [
       "            count\n",
       "Country          \n",
       "USA            59\n",
       "USA            55\n",
       "UK             49\n",
       "Canada         44\n",
       "Australia      41\n",
       "...           ...\n",
       "Ireland         1\n",
       "Scotland        1\n",
       "Kenya           1\n",
       "Jamaica         1\n",
       "Thailand        1\n",
       "\n",
       "[115 rows x 1 columns]"
      ]
     },
     "execution_count": 7,
     "metadata": {},
     "output_type": "execute_result"
    }
   ],
   "source": [
    "countries = sentiment_df['Country'].value_counts()\n",
    "pd.DataFrame(countries)"
   ]
  },
  {
   "cell_type": "code",
   "execution_count": 8,
   "id": "d2c2a0fb",
   "metadata": {},
   "outputs": [
    {
     "data": {
      "text/plain": [
       "Platform\n",
       "Instagram     258\n",
       "Facebook      231\n",
       "Twitter       128\n",
       "Twitter       115\n",
       "Name: count, dtype: int64"
      ]
     },
     "execution_count": 8,
     "metadata": {},
     "output_type": "execute_result"
    }
   ],
   "source": [
    "sentiment_df['Platform'].value_counts()"
   ]
  },
  {
   "cell_type": "code",
   "execution_count": 9,
   "id": "1403bb41",
   "metadata": {},
   "outputs": [
    {
     "name": "stdout",
     "output_type": "stream",
     "text": [
      "2023\n",
      "2010\n"
     ]
    }
   ],
   "source": [
    "print(sentiment_df['Year'].max())\n",
    "print(sentiment_df['Year'].min())\n"
   ]
  },
  {
   "cell_type": "markdown",
   "id": "9a3e49e2",
   "metadata": {},
   "source": [
    "So the data ranges from 2010 to 2023"
   ]
  },
  {
   "cell_type": "code",
   "execution_count": 10,
   "id": "be3f754d",
   "metadata": {},
   "outputs": [
    {
     "data": {
      "text/html": [
       "<div>\n",
       "<style scoped>\n",
       "    .dataframe tbody tr th:only-of-type {\n",
       "        vertical-align: middle;\n",
       "    }\n",
       "\n",
       "    .dataframe tbody tr th {\n",
       "        vertical-align: top;\n",
       "    }\n",
       "\n",
       "    .dataframe thead th {\n",
       "        text-align: right;\n",
       "    }\n",
       "</style>\n",
       "<table border=\"1\" class=\"dataframe\">\n",
       "  <thead>\n",
       "    <tr style=\"text-align: right;\">\n",
       "      <th></th>\n",
       "      <th>Unnamed: 0.1</th>\n",
       "      <th>Unnamed: 0</th>\n",
       "      <th>Text</th>\n",
       "      <th>Sentiment</th>\n",
       "      <th>Timestamp</th>\n",
       "      <th>User</th>\n",
       "      <th>Platform</th>\n",
       "      <th>Hashtags</th>\n",
       "      <th>Retweets</th>\n",
       "      <th>Likes</th>\n",
       "      <th>Country</th>\n",
       "      <th>Year</th>\n",
       "      <th>Month</th>\n",
       "      <th>Day</th>\n",
       "      <th>Hour</th>\n",
       "    </tr>\n",
       "  </thead>\n",
       "  <tbody>\n",
       "    <tr>\n",
       "      <th>0</th>\n",
       "      <td>0</td>\n",
       "      <td>0</td>\n",
       "      <td>Enjoying a beautiful day at the park!        ...</td>\n",
       "      <td>Positive</td>\n",
       "      <td>2023-01-15 12:30:00</td>\n",
       "      <td>User123</td>\n",
       "      <td>Twitter</td>\n",
       "      <td>#Nature #Park</td>\n",
       "      <td>15.0</td>\n",
       "      <td>30.0</td>\n",
       "      <td>USA</td>\n",
       "      <td>2023</td>\n",
       "      <td>1</td>\n",
       "      <td>15</td>\n",
       "      <td>12</td>\n",
       "    </tr>\n",
       "    <tr>\n",
       "      <th>1</th>\n",
       "      <td>1</td>\n",
       "      <td>1</td>\n",
       "      <td>Traffic was terrible this morning.           ...</td>\n",
       "      <td>Negative</td>\n",
       "      <td>2023-01-15 08:45:00</td>\n",
       "      <td>CommuterX</td>\n",
       "      <td>Twitter</td>\n",
       "      <td>#Traffic #Morning</td>\n",
       "      <td>5.0</td>\n",
       "      <td>10.0</td>\n",
       "      <td>Canada</td>\n",
       "      <td>2023</td>\n",
       "      <td>1</td>\n",
       "      <td>15</td>\n",
       "      <td>8</td>\n",
       "    </tr>\n",
       "    <tr>\n",
       "      <th>2</th>\n",
       "      <td>2</td>\n",
       "      <td>2</td>\n",
       "      <td>Just finished an amazing workout! 💪          ...</td>\n",
       "      <td>Positive</td>\n",
       "      <td>2023-01-15 15:45:00</td>\n",
       "      <td>FitnessFan</td>\n",
       "      <td>Instagram</td>\n",
       "      <td>#Fitness #Workout</td>\n",
       "      <td>20.0</td>\n",
       "      <td>40.0</td>\n",
       "      <td>USA</td>\n",
       "      <td>2023</td>\n",
       "      <td>1</td>\n",
       "      <td>15</td>\n",
       "      <td>15</td>\n",
       "    </tr>\n",
       "    <tr>\n",
       "      <th>3</th>\n",
       "      <td>3</td>\n",
       "      <td>3</td>\n",
       "      <td>Excited about the upcoming weekend getaway!  ...</td>\n",
       "      <td>Positive</td>\n",
       "      <td>2023-01-15 18:20:00</td>\n",
       "      <td>AdventureX</td>\n",
       "      <td>Facebook</td>\n",
       "      <td>#Travel #Adventure</td>\n",
       "      <td>8.0</td>\n",
       "      <td>15.0</td>\n",
       "      <td>UK</td>\n",
       "      <td>2023</td>\n",
       "      <td>1</td>\n",
       "      <td>15</td>\n",
       "      <td>18</td>\n",
       "    </tr>\n",
       "    <tr>\n",
       "      <th>4</th>\n",
       "      <td>4</td>\n",
       "      <td>4</td>\n",
       "      <td>Trying out a new recipe for dinner tonight.  ...</td>\n",
       "      <td>Neutral</td>\n",
       "      <td>2023-01-15 19:55:00</td>\n",
       "      <td>ChefCook</td>\n",
       "      <td>Instagram</td>\n",
       "      <td>#Cooking #Food</td>\n",
       "      <td>12.0</td>\n",
       "      <td>25.0</td>\n",
       "      <td>Australia</td>\n",
       "      <td>2023</td>\n",
       "      <td>1</td>\n",
       "      <td>15</td>\n",
       "      <td>19</td>\n",
       "    </tr>\n",
       "  </tbody>\n",
       "</table>\n",
       "</div>"
      ],
      "text/plain": [
       "   Unnamed: 0.1  Unnamed: 0  \\\n",
       "0             0           0   \n",
       "1             1           1   \n",
       "2             2           2   \n",
       "3             3           3   \n",
       "4             4           4   \n",
       "\n",
       "                                                Text    Sentiment  \\\n",
       "0   Enjoying a beautiful day at the park!        ...   Positive     \n",
       "1   Traffic was terrible this morning.           ...   Negative     \n",
       "2   Just finished an amazing workout! 💪          ...   Positive     \n",
       "3   Excited about the upcoming weekend getaway!  ...   Positive     \n",
       "4   Trying out a new recipe for dinner tonight.  ...   Neutral      \n",
       "\n",
       "             Timestamp            User     Platform  \\\n",
       "0  2023-01-15 12:30:00   User123          Twitter     \n",
       "1  2023-01-15 08:45:00   CommuterX        Twitter     \n",
       "2  2023-01-15 15:45:00   FitnessFan      Instagram    \n",
       "3  2023-01-15 18:20:00   AdventureX       Facebook    \n",
       "4  2023-01-15 19:55:00   ChefCook        Instagram    \n",
       "\n",
       "                                     Hashtags  Retweets  Likes       Country  \\\n",
       "0   #Nature #Park                                  15.0   30.0     USA         \n",
       "1   #Traffic #Morning                               5.0   10.0     Canada      \n",
       "2   #Fitness #Workout                              20.0   40.0   USA           \n",
       "3   #Travel #Adventure                              8.0   15.0     UK          \n",
       "4   #Cooking #Food                                 12.0   25.0    Australia    \n",
       "\n",
       "   Year  Month  Day  Hour  \n",
       "0  2023      1   15    12  \n",
       "1  2023      1   15     8  \n",
       "2  2023      1   15    15  \n",
       "3  2023      1   15    18  \n",
       "4  2023      1   15    19  "
      ]
     },
     "execution_count": 10,
     "metadata": {},
     "output_type": "execute_result"
    }
   ],
   "source": [
    "sentiment_df.head()"
   ]
  },
  {
   "cell_type": "markdown",
   "id": "2df51eea",
   "metadata": {},
   "source": [
    "- Remove 2 unnamed cols.\n",
    "- Convert the timestamp to datetime\n",
    "- No null  and duplicate values\n",
    "- the text col we need to tokenize for ml to understand\n",
    "- remove # from hastag col\n",
    "- remove the m/d/y or timestamp as both serve the same purpose\n",
    "- remove user col as not important\n",
    "- has 279 unique sentiments\n",
    "- twitter duplicate value"
   ]
  },
  {
   "cell_type": "markdown",
   "id": "b97695a1",
   "metadata": {},
   "source": [
    "## Cleaning and Improvement"
   ]
  },
  {
   "cell_type": "code",
   "execution_count": 11,
   "id": "f82ef26b",
   "metadata": {},
   "outputs": [],
   "source": [
    "sentiment_df.drop(columns=['Unnamed: 0.1', 'Unnamed: 0', 'Year', 'Month', 'Day', 'Hour', 'User'], inplace=True)\n",
    "\n",
    "sentiment_df['Timestamp'] = pd.to_datetime(sentiment_df['Timestamp'])\n",
    "\n",
    "sentiment_df['Platform'] = sentiment_df['Platform'].str.strip().str.lower()\n",
    "\n",
    "sentiment_df['Hashtags'] = (sentiment_df['Hashtags']\n",
    "                                    .str.replace('#', '')\n",
    "                                    .str.split()\n",
    "                                    .str.join(','))"
   ]
  },
  {
   "cell_type": "code",
   "execution_count": 12,
   "id": "cd35f809",
   "metadata": {},
   "outputs": [
    {
     "data": {
      "text/html": [
       "<div>\n",
       "<style scoped>\n",
       "    .dataframe tbody tr th:only-of-type {\n",
       "        vertical-align: middle;\n",
       "    }\n",
       "\n",
       "    .dataframe tbody tr th {\n",
       "        vertical-align: top;\n",
       "    }\n",
       "\n",
       "    .dataframe thead th {\n",
       "        text-align: right;\n",
       "    }\n",
       "</style>\n",
       "<table border=\"1\" class=\"dataframe\">\n",
       "  <thead>\n",
       "    <tr style=\"text-align: right;\">\n",
       "      <th></th>\n",
       "      <th>Text</th>\n",
       "      <th>Sentiment</th>\n",
       "      <th>Timestamp</th>\n",
       "      <th>Platform</th>\n",
       "      <th>Hashtags</th>\n",
       "      <th>Retweets</th>\n",
       "      <th>Likes</th>\n",
       "      <th>Country</th>\n",
       "    </tr>\n",
       "  </thead>\n",
       "  <tbody>\n",
       "    <tr>\n",
       "      <th>0</th>\n",
       "      <td>Enjoying a beautiful day at the park!        ...</td>\n",
       "      <td>Positive</td>\n",
       "      <td>2023-01-15 12:30:00</td>\n",
       "      <td>twitter</td>\n",
       "      <td>Nature,Park</td>\n",
       "      <td>15.0</td>\n",
       "      <td>30.0</td>\n",
       "      <td>USA</td>\n",
       "    </tr>\n",
       "    <tr>\n",
       "      <th>1</th>\n",
       "      <td>Traffic was terrible this morning.           ...</td>\n",
       "      <td>Negative</td>\n",
       "      <td>2023-01-15 08:45:00</td>\n",
       "      <td>twitter</td>\n",
       "      <td>Traffic,Morning</td>\n",
       "      <td>5.0</td>\n",
       "      <td>10.0</td>\n",
       "      <td>Canada</td>\n",
       "    </tr>\n",
       "    <tr>\n",
       "      <th>2</th>\n",
       "      <td>Just finished an amazing workout! 💪          ...</td>\n",
       "      <td>Positive</td>\n",
       "      <td>2023-01-15 15:45:00</td>\n",
       "      <td>instagram</td>\n",
       "      <td>Fitness,Workout</td>\n",
       "      <td>20.0</td>\n",
       "      <td>40.0</td>\n",
       "      <td>USA</td>\n",
       "    </tr>\n",
       "    <tr>\n",
       "      <th>3</th>\n",
       "      <td>Excited about the upcoming weekend getaway!  ...</td>\n",
       "      <td>Positive</td>\n",
       "      <td>2023-01-15 18:20:00</td>\n",
       "      <td>facebook</td>\n",
       "      <td>Travel,Adventure</td>\n",
       "      <td>8.0</td>\n",
       "      <td>15.0</td>\n",
       "      <td>UK</td>\n",
       "    </tr>\n",
       "    <tr>\n",
       "      <th>4</th>\n",
       "      <td>Trying out a new recipe for dinner tonight.  ...</td>\n",
       "      <td>Neutral</td>\n",
       "      <td>2023-01-15 19:55:00</td>\n",
       "      <td>instagram</td>\n",
       "      <td>Cooking,Food</td>\n",
       "      <td>12.0</td>\n",
       "      <td>25.0</td>\n",
       "      <td>Australia</td>\n",
       "    </tr>\n",
       "  </tbody>\n",
       "</table>\n",
       "</div>"
      ],
      "text/plain": [
       "                                                Text    Sentiment  \\\n",
       "0   Enjoying a beautiful day at the park!        ...   Positive     \n",
       "1   Traffic was terrible this morning.           ...   Negative     \n",
       "2   Just finished an amazing workout! 💪          ...   Positive     \n",
       "3   Excited about the upcoming weekend getaway!  ...   Positive     \n",
       "4   Trying out a new recipe for dinner tonight.  ...   Neutral      \n",
       "\n",
       "            Timestamp   Platform          Hashtags  Retweets  Likes  \\\n",
       "0 2023-01-15 12:30:00    twitter       Nature,Park      15.0   30.0   \n",
       "1 2023-01-15 08:45:00    twitter   Traffic,Morning       5.0   10.0   \n",
       "2 2023-01-15 15:45:00  instagram   Fitness,Workout      20.0   40.0   \n",
       "3 2023-01-15 18:20:00   facebook  Travel,Adventure       8.0   15.0   \n",
       "4 2023-01-15 19:55:00  instagram      Cooking,Food      12.0   25.0   \n",
       "\n",
       "        Country  \n",
       "0     USA        \n",
       "1     Canada     \n",
       "2   USA          \n",
       "3     UK         \n",
       "4    Australia   "
      ]
     },
     "execution_count": 12,
     "metadata": {},
     "output_type": "execute_result"
    }
   ],
   "source": [
    "sentiment_df.head()"
   ]
  },
  {
   "cell_type": "code",
   "execution_count": 13,
   "id": "75689755",
   "metadata": {},
   "outputs": [
    {
     "data": {
      "text/plain": [
       "(732, 8)"
      ]
     },
     "execution_count": 13,
     "metadata": {},
     "output_type": "execute_result"
    }
   ],
   "source": [
    "sentiment_df.shape"
   ]
  },
  {
   "cell_type": "code",
   "execution_count": 14,
   "id": "21cd9fba",
   "metadata": {},
   "outputs": [
    {
     "name": "stdout",
     "output_type": "stream",
     "text": [
      "<class 'pandas.core.frame.DataFrame'>\n",
      "RangeIndex: 732 entries, 0 to 731\n",
      "Data columns (total 8 columns):\n",
      " #   Column     Non-Null Count  Dtype         \n",
      "---  ------     --------------  -----         \n",
      " 0   Text       732 non-null    object        \n",
      " 1   Sentiment  732 non-null    object        \n",
      " 2   Timestamp  732 non-null    datetime64[ns]\n",
      " 3   Platform   732 non-null    object        \n",
      " 4   Hashtags   732 non-null    object        \n",
      " 5   Retweets   732 non-null    float64       \n",
      " 6   Likes      732 non-null    float64       \n",
      " 7   Country    732 non-null    object        \n",
      "dtypes: datetime64[ns](1), float64(2), object(5)\n",
      "memory usage: 45.9+ KB\n"
     ]
    }
   ],
   "source": [
    "sentiment_df.info()"
   ]
  },
  {
   "cell_type": "code",
   "execution_count": 15,
   "id": "e53cab4f",
   "metadata": {},
   "outputs": [],
   "source": [
    "sentiment_df['Likes'] = sentiment_df['Likes'].astype(int)\n",
    "sentiment_df['Retweets'] = sentiment_df['Retweets'].astype(int)"
   ]
  },
  {
   "cell_type": "code",
   "execution_count": 16,
   "id": "97b37977",
   "metadata": {},
   "outputs": [
    {
     "name": "stderr",
     "output_type": "stream",
     "text": [
      "[nltk_data] Downloading package punkt to ./nltk_data...\n",
      "[nltk_data]   Package punkt is already up-to-date!\n",
      "[nltk_data] Downloading package punkt_tab to ./nltk_data...\n",
      "[nltk_data]   Package punkt_tab is already up-to-date!\n",
      "[nltk_data] Downloading package stopwords to ./nltk_data...\n",
      "[nltk_data]   Package stopwords is already up-to-date!\n",
      "[nltk_data] Downloading package wordnet to ./nltk_data...\n",
      "[nltk_data]   Package wordnet is already up-to-date!\n"
     ]
    }
   ],
   "source": [
    "from nltk.tokenize import word_tokenize\n",
    "from nltk.corpus import stopwords\n",
    "from nltk.stem import PorterStemmer\n",
    "\n",
    "import nltk\n",
    "import re\n",
    "import os\n",
    "\n",
    "nltk_data_path = './nltk_data'\n",
    "nltk.download('punkt', download_dir=nltk_data_path)\n",
    "nltk.download('punkt_tab', download_dir=nltk_data_path) \n",
    "nltk.download('stopwords', download_dir=nltk_data_path)\n",
    "nltk.download('wordnet', download_dir=nltk_data_path)\n",
    "\n",
    "nltk.data.path.append('./nltk_data')\n",
    "\n",
    "stop_words = set(stopwords.words('english'))\n",
    "porter = PorterStemmer()"
   ]
  },
  {
   "cell_type": "code",
   "execution_count": 17,
   "id": "2d143816",
   "metadata": {},
   "outputs": [],
   "source": [
    "def preprocess_text(text):\n",
    "    text = text.lower()\n",
    "\n",
    "    text = re.sub(r'[^a-z0-9\\s]', '', text)\n",
    "\n",
    "    tokens = word_tokenize(text)\n",
    "    \n",
    "    tokens = [w for w in tokens if w not in stop_words]\n",
    "\n",
    "    tokens = [porter.stem(w) for w in tokens]\n",
    "    \n",
    "    return tokens"
   ]
  },
  {
   "cell_type": "code",
   "execution_count": 18,
   "id": "3c07e964",
   "metadata": {},
   "outputs": [
    {
     "data": {
      "text/html": [
       "<div>\n",
       "<style scoped>\n",
       "    .dataframe tbody tr th:only-of-type {\n",
       "        vertical-align: middle;\n",
       "    }\n",
       "\n",
       "    .dataframe tbody tr th {\n",
       "        vertical-align: top;\n",
       "    }\n",
       "\n",
       "    .dataframe thead th {\n",
       "        text-align: right;\n",
       "    }\n",
       "</style>\n",
       "<table border=\"1\" class=\"dataframe\">\n",
       "  <thead>\n",
       "    <tr style=\"text-align: right;\">\n",
       "      <th></th>\n",
       "      <th>Text</th>\n",
       "      <th>Sentiment</th>\n",
       "      <th>Timestamp</th>\n",
       "      <th>Platform</th>\n",
       "      <th>Hashtags</th>\n",
       "      <th>Retweets</th>\n",
       "      <th>Likes</th>\n",
       "      <th>Country</th>\n",
       "    </tr>\n",
       "  </thead>\n",
       "  <tbody>\n",
       "    <tr>\n",
       "      <th>0</th>\n",
       "      <td>Enjoying a beautiful day at the park!        ...</td>\n",
       "      <td>Positive</td>\n",
       "      <td>2023-01-15 12:30:00</td>\n",
       "      <td>twitter</td>\n",
       "      <td>Nature,Park</td>\n",
       "      <td>15</td>\n",
       "      <td>30</td>\n",
       "      <td>USA</td>\n",
       "    </tr>\n",
       "    <tr>\n",
       "      <th>1</th>\n",
       "      <td>Traffic was terrible this morning.           ...</td>\n",
       "      <td>Negative</td>\n",
       "      <td>2023-01-15 08:45:00</td>\n",
       "      <td>twitter</td>\n",
       "      <td>Traffic,Morning</td>\n",
       "      <td>5</td>\n",
       "      <td>10</td>\n",
       "      <td>Canada</td>\n",
       "    </tr>\n",
       "    <tr>\n",
       "      <th>2</th>\n",
       "      <td>Just finished an amazing workout! 💪          ...</td>\n",
       "      <td>Positive</td>\n",
       "      <td>2023-01-15 15:45:00</td>\n",
       "      <td>instagram</td>\n",
       "      <td>Fitness,Workout</td>\n",
       "      <td>20</td>\n",
       "      <td>40</td>\n",
       "      <td>USA</td>\n",
       "    </tr>\n",
       "    <tr>\n",
       "      <th>3</th>\n",
       "      <td>Excited about the upcoming weekend getaway!  ...</td>\n",
       "      <td>Positive</td>\n",
       "      <td>2023-01-15 18:20:00</td>\n",
       "      <td>facebook</td>\n",
       "      <td>Travel,Adventure</td>\n",
       "      <td>8</td>\n",
       "      <td>15</td>\n",
       "      <td>UK</td>\n",
       "    </tr>\n",
       "    <tr>\n",
       "      <th>4</th>\n",
       "      <td>Trying out a new recipe for dinner tonight.  ...</td>\n",
       "      <td>Neutral</td>\n",
       "      <td>2023-01-15 19:55:00</td>\n",
       "      <td>instagram</td>\n",
       "      <td>Cooking,Food</td>\n",
       "      <td>12</td>\n",
       "      <td>25</td>\n",
       "      <td>Australia</td>\n",
       "    </tr>\n",
       "  </tbody>\n",
       "</table>\n",
       "</div>"
      ],
      "text/plain": [
       "                                                Text    Sentiment  \\\n",
       "0   Enjoying a beautiful day at the park!        ...   Positive     \n",
       "1   Traffic was terrible this morning.           ...   Negative     \n",
       "2   Just finished an amazing workout! 💪          ...   Positive     \n",
       "3   Excited about the upcoming weekend getaway!  ...   Positive     \n",
       "4   Trying out a new recipe for dinner tonight.  ...   Neutral      \n",
       "\n",
       "            Timestamp   Platform          Hashtags  Retweets  Likes  \\\n",
       "0 2023-01-15 12:30:00    twitter       Nature,Park        15     30   \n",
       "1 2023-01-15 08:45:00    twitter   Traffic,Morning         5     10   \n",
       "2 2023-01-15 15:45:00  instagram   Fitness,Workout        20     40   \n",
       "3 2023-01-15 18:20:00   facebook  Travel,Adventure         8     15   \n",
       "4 2023-01-15 19:55:00  instagram      Cooking,Food        12     25   \n",
       "\n",
       "        Country  \n",
       "0     USA        \n",
       "1     Canada     \n",
       "2   USA          \n",
       "3     UK         \n",
       "4    Australia   "
      ]
     },
     "execution_count": 18,
     "metadata": {},
     "output_type": "execute_result"
    }
   ],
   "source": [
    "sentiment_df.head()"
   ]
  },
  {
   "cell_type": "code",
   "execution_count": 19,
   "id": "eedd89d0",
   "metadata": {},
   "outputs": [],
   "source": [
    "sentiment_df['tokens'] = sentiment_df['Text'].apply(preprocess_text)"
   ]
  },
  {
   "cell_type": "code",
   "execution_count": 20,
   "id": "3e81b6e8",
   "metadata": {},
   "outputs": [],
   "source": [
    "sentiment_df['tokens'] = sentiment_df['tokens'].apply(lambda x: ' '.join(x))"
   ]
  },
  {
   "cell_type": "code",
   "execution_count": 21,
   "id": "3106fb58",
   "metadata": {},
   "outputs": [],
   "source": [
    "sentiment_df.drop(columns='Text', inplace=True)\n",
    "sentiment_df.rename(columns={'tokens':'Text'}, inplace=True)"
   ]
  },
  {
   "cell_type": "code",
   "execution_count": 22,
   "id": "7a0ae86a",
   "metadata": {},
   "outputs": [],
   "source": [
    "cat_col = ['Platform','Country','Hashtags','Sentiment']\n",
    "\n",
    "for val in cat_col:\n",
    "    sentiment_df[val] = sentiment_df[val].str.strip().str.lower()"
   ]
  },
  {
   "cell_type": "code",
   "execution_count": 23,
   "id": "a18f12dd",
   "metadata": {},
   "outputs": [
    {
     "data": {
      "text/plain": [
       "<Axes: xlabel='Country'>"
      ]
     },
     "execution_count": 23,
     "metadata": {},
     "output_type": "execute_result"
    },
    {
     "data": {
      "image/png": "[encoded data removed]",
      "text/plain": [
       "<Figure size 2000x800 with 1 Axes>"
      ]
     },
     "metadata": {},
     "output_type": "display_data"
    }
   ],
   "source": [
    "plt.figure(figsize=(20,8))\n",
    "sentiment_df['Country'].value_counts().plot(kind='bar')"
   ]
  },
  {
   "cell_type": "code",
   "execution_count": 24,
   "id": "1cceb554",
   "metadata": {},
   "outputs": [
    {
     "name": "stdout",
     "output_type": "stream",
     "text": [
      "Total rows for countries with count < 20: 121\n"
     ]
    }
   ],
   "source": [
    "country_count = sentiment_df['Country'].value_counts()\n",
    "\n",
    "total_count = country_count[country_count < 20].sum()\n",
    "print(f\"Total rows for countries with count < 20: {total_count}\")"
   ]
  },
  {
   "cell_type": "code",
   "execution_count": 25,
   "id": "e1cbded7",
   "metadata": {},
   "outputs": [],
   "source": [
    "less_count_countries = country_count[country_count < 20].index\n",
    "sentiment_df['Country'] = sentiment_df['Country'].apply(lambda x: 'other' if x in less_count_countries else x)"
   ]
  },
  {
   "cell_type": "code",
   "execution_count": 26,
   "id": "81c9e537",
   "metadata": {},
   "outputs": [
    {
     "data": {
      "text/plain": [
       "<Axes: xlabel='Country'>"
      ]
     },
     "execution_count": 26,
     "metadata": {},
     "output_type": "execute_result"
    },
    {
     "data": {
      "image/png": "[encoded data removed]",
      "text/plain": [
       "<Figure size 2000x800 with 1 Axes>"
      ]
     },
     "metadata": {},
     "output_type": "display_data"
    }
   ],
   "source": [
    "plt.figure(figsize=(20,8))\n",
    "sentiment_df['Country'].value_counts().plot(kind='bar')"
   ]
  },
  {
   "cell_type": "code",
   "execution_count": 27,
   "id": "2c9341a3",
   "metadata": {},
   "outputs": [
    {
     "data": {
      "text/plain": [
       "Country\n",
       "usa          188\n",
       "uk           143\n",
       "canada       135\n",
       "other        121\n",
       "australia     75\n",
       "india         70\n",
       "Name: count, dtype: int64"
      ]
     },
     "execution_count": 27,
     "metadata": {},
     "output_type": "execute_result"
    }
   ],
   "source": [
    "sentiment_df['Country'].value_counts()"
   ]
  },
  {
   "cell_type": "code",
   "execution_count": 28,
   "id": "47254f48",
   "metadata": {},
   "outputs": [
    {
     "data": {
      "text/html": [
       "<div>\n",
       "<style scoped>\n",
       "    .dataframe tbody tr th:only-of-type {\n",
       "        vertical-align: middle;\n",
       "    }\n",
       "\n",
       "    .dataframe tbody tr th {\n",
       "        vertical-align: top;\n",
       "    }\n",
       "\n",
       "    .dataframe thead th {\n",
       "        text-align: right;\n",
       "    }\n",
       "</style>\n",
       "<table border=\"1\" class=\"dataframe\">\n",
       "  <thead>\n",
       "    <tr style=\"text-align: right;\">\n",
       "      <th></th>\n",
       "      <th>Sentiment</th>\n",
       "      <th>Timestamp</th>\n",
       "      <th>Platform</th>\n",
       "      <th>Hashtags</th>\n",
       "      <th>Retweets</th>\n",
       "      <th>Likes</th>\n",
       "      <th>Country</th>\n",
       "      <th>Text</th>\n",
       "    </tr>\n",
       "  </thead>\n",
       "  <tbody>\n",
       "    <tr>\n",
       "      <th>0</th>\n",
       "      <td>positive</td>\n",
       "      <td>2023-01-15 12:30:00</td>\n",
       "      <td>twitter</td>\n",
       "      <td>nature,park</td>\n",
       "      <td>15</td>\n",
       "      <td>30</td>\n",
       "      <td>usa</td>\n",
       "      <td>enjoy beauti day park</td>\n",
       "    </tr>\n",
       "    <tr>\n",
       "      <th>1</th>\n",
       "      <td>negative</td>\n",
       "      <td>2023-01-15 08:45:00</td>\n",
       "      <td>twitter</td>\n",
       "      <td>traffic,morning</td>\n",
       "      <td>5</td>\n",
       "      <td>10</td>\n",
       "      <td>canada</td>\n",
       "      <td>traffic terribl morn</td>\n",
       "    </tr>\n",
       "    <tr>\n",
       "      <th>2</th>\n",
       "      <td>positive</td>\n",
       "      <td>2023-01-15 15:45:00</td>\n",
       "      <td>instagram</td>\n",
       "      <td>fitness,workout</td>\n",
       "      <td>20</td>\n",
       "      <td>40</td>\n",
       "      <td>usa</td>\n",
       "      <td>finish amaz workout</td>\n",
       "    </tr>\n",
       "    <tr>\n",
       "      <th>3</th>\n",
       "      <td>positive</td>\n",
       "      <td>2023-01-15 18:20:00</td>\n",
       "      <td>facebook</td>\n",
       "      <td>travel,adventure</td>\n",
       "      <td>8</td>\n",
       "      <td>15</td>\n",
       "      <td>uk</td>\n",
       "      <td>excit upcom weekend getaway</td>\n",
       "    </tr>\n",
       "    <tr>\n",
       "      <th>4</th>\n",
       "      <td>neutral</td>\n",
       "      <td>2023-01-15 19:55:00</td>\n",
       "      <td>instagram</td>\n",
       "      <td>cooking,food</td>\n",
       "      <td>12</td>\n",
       "      <td>25</td>\n",
       "      <td>australia</td>\n",
       "      <td>tri new recip dinner tonight</td>\n",
       "    </tr>\n",
       "  </tbody>\n",
       "</table>\n",
       "</div>"
      ],
      "text/plain": [
       "  Sentiment           Timestamp   Platform          Hashtags  Retweets  Likes  \\\n",
       "0  positive 2023-01-15 12:30:00    twitter       nature,park        15     30   \n",
       "1  negative 2023-01-15 08:45:00    twitter   traffic,morning         5     10   \n",
       "2  positive 2023-01-15 15:45:00  instagram   fitness,workout        20     40   \n",
       "3  positive 2023-01-15 18:20:00   facebook  travel,adventure         8     15   \n",
       "4   neutral 2023-01-15 19:55:00  instagram      cooking,food        12     25   \n",
       "\n",
       "     Country                          Text  \n",
       "0        usa         enjoy beauti day park  \n",
       "1     canada          traffic terribl morn  \n",
       "2        usa           finish amaz workout  \n",
       "3         uk   excit upcom weekend getaway  \n",
       "4  australia  tri new recip dinner tonight  "
      ]
     },
     "execution_count": 28,
     "metadata": {},
     "output_type": "execute_result"
    }
   ],
   "source": [
    "sentiment_df.head()"
   ]
  },
  {
   "cell_type": "code",
   "execution_count": 29,
   "id": "7d243b56",
   "metadata": {},
   "outputs": [
    {
     "name": "stdout",
     "output_type": "stream",
     "text": [
      "Sentiment has 191 unique values\n",
      "Timestamp has 683 unique values\n",
      "Platform has 3 unique values\n",
      "Hashtags has 692 unique values\n",
      "Retweets has 26 unique values\n",
      "Likes has 38 unique values\n",
      "Country has 6 unique values\n",
      "Text has 705 unique values\n"
     ]
    }
   ],
   "source": [
    "for val in sentiment_df.columns:\n",
    "    print(val,\"has\",sentiment_df[val].nunique(),'unique values')"
   ]
  },
  {
   "cell_type": "code",
   "execution_count": 30,
   "id": "485bdea0",
   "metadata": {},
   "outputs": [
    {
     "data": {
      "text/plain": [
       "<Axes: xlabel='Sentiment'>"
      ]
     },
     "execution_count": 30,
     "metadata": {},
     "output_type": "execute_result"
    },
    {
     "data": {
      "image/png": "[encoded data removed]",
      "text/plain": [
       "<Figure size 2000x800 with 1 Axes>"
      ]
     },
     "metadata": {},
     "output_type": "display_data"
    }
   ],
   "source": [
    "plt.figure(figsize=(20,8))\n",
    "sentiment_df['Sentiment'].value_counts().plot(kind='bar')"
   ]
  },
  {
   "cell_type": "code",
   "execution_count": 31,
   "id": "ea4156f0",
   "metadata": {},
   "outputs": [],
   "source": [
    "very_positive = [\n",
    "'Love', 'Enjoyment', 'Adoration', 'Love', 'Enjoyment', 'Adoration', 'Elation', 'Euphoria', 'Elation', 'Euphoria', 'Elation', 'Elation',\n",
    "'Euphoria', 'Elation', 'Euphoria', 'Elation', 'Zest', 'Zest', 'Overjoyed', 'Blessed', 'Elation', 'DreamChaser', 'Radiance', 'Rejuvenation',\n",
    "'Euphoria', 'FestiveJoy', 'Dazzle', 'Adrenaline', 'Radiance', 'Rejuvenation', 'Euphoria', 'Spark', 'Marvel', 'Love', 'Success', 'Amazement',\n",
    "'Grandeur', 'Ecstasy', 'Connection', 'Iconic', 'Euphoria', 'Triumph', 'Heartwarming'\n",
    "]\n",
    "\n",
    "positive = [\n",
    "    'Positive', 'Positive', 'Positive', 'Positive', 'Positive', 'Positive', 'Positive', 'Positive', 'Positive', 'Positive', 'Positive', 'Positive',\n",
    "    'Positive', 'Positive', 'Positive', 'Positive', 'Positive', 'Positive', 'Positive', 'Positive', 'Positive', 'Positive', 'Positive', 'Positive',\n",
    "    'Positive', 'Positive', 'Positive', 'Positive', 'Positive', 'Positive', 'Positive', 'Positive', 'Positive', 'Positive', 'Positive', 'Positive',\n",
    "    'Positive', 'Positive', 'Positive', 'Positive', 'Positive', 'Positive', 'Positive', 'Positive', 'Happiness', 'Joy', 'Amusement', 'Admiration',\n",
    "    'Affection', 'Awe', 'Anticipation', 'Calmness', 'Excitement', 'Kind', 'Pride', 'Happiness', 'Joy', 'Amusement', 'Admiration', 'Affection', 'Awe', 'Anticipation', 'Calmness', 'Excitement', 'Kind', 'Pride', 'Excitement', 'Calmness', 'Excitement', 'Kind', 'Pride', 'Contentment', 'Serenity', 'Gratitude', 'Hope', 'Empowerment', 'Compassion', 'Tenderness', 'Arousal', 'Enthusiasm', 'Fulfillment', 'Reverence', 'Contentment', 'Serenity', 'Gratitude', 'Hope', 'Empowerment', 'Compassion', 'Tenderness', 'Arousal', 'Enthusiasm', 'Fulfillment', 'Reverence', 'Contentment', 'Serenity', 'Gratitude', 'Hope', 'Empowerment', 'Compassion', 'Tenderness', 'Arousal', 'Enthusiasm', 'Fulfillment', 'Reverence', 'Contentment', 'Serenity', 'Gratitude', 'Hope', 'Empowerment', 'Compassion', 'Tenderness', 'Arousal', 'Enthusiasm', 'Fulfillment', 'Reverence', 'Determination', 'Serenity', 'Determination', 'Serenity', 'Determination', 'Serenity', 'Determination', 'Serenity', 'Determination', 'Serenity', 'Contentment', 'Hopeful', 'Proud', 'Grateful', 'Compassionate', 'Free-spirited', 'Inspired', 'Hopeful', 'Confident', 'Serenity', 'Grateful', 'Compassionate', 'Proud', 'Hopeful', 'Inspired', 'Contentment', 'Free-spirited', 'Grateful', 'Confident', 'Hopeful', 'Inspired', 'Hopeful', 'Compassionate', 'Proud', 'Hopeful', 'Inspired', 'Contentment', 'Free-spirited', 'Grateful', 'Confident', 'Hopeful', 'Inspired', 'Hopeful', 'Compassionate', 'Proud', 'Hopeful', 'Awe', 'Determination', 'Thrill', 'Calmness', 'Excitement', 'Gratitude', 'Admiration', 'Inspiration', 'Motivation', 'Gratitude', 'Empowerment', 'Amusement', 'JoyfulReunion', 'Excitement', 'Satisfaction', 'Serenity', 'Anticipation', 'Appreciation', 'Confidence', 'Contentment', 'Enthusiasm', 'Accomplishment', 'Wonderment', 'Optimism', 'Pride', 'Happiness', 'PlayfulJoy', 'Mindfulness', 'Elegance', 'Whimsy', 'Thrill', 'Harmony', 'Creativity', 'Inspiration', 'Coziness', 'Gratitude', 'Adventure', 'Awe', 'Melodic', 'InnerJourney', 'Freedom', 'Whimsy', 'Harmony', 'ArtisticBurst', 'Inspiration', 'Coziness', 'Gratitude', 'CulinaryOdyssey', 'Awe', 'Excitement', 'Contentment', 'Immersion', 'Gratitude', 'Serenity', 'Joy', 'Happiness', 'Contentment', 'Enthusiasm', 'Gratitude', 'Accomplishment', 'Positivity', 'Joy', 'Kindness', 'Friendship', 'Joy', 'Excitement', 'Gratitude', 'Inspiration', 'Happiness', 'Thrill', 'Excitement', 'Joy', 'Exploration', 'Awe', 'Serenity', 'Romance', 'Awe', 'Excitement', 'Captivation', 'Serenity', 'Awe', 'Accomplishment', 'Exploration', 'Adventure', 'Tranquility', 'Energy', 'Serenity', 'Joy', 'Celebration', 'Hope', 'Enthusiasm', 'Creativity', 'Colorful', 'Pride', 'Hypnotic', 'Excitement', 'Pride', 'Touched', 'Gratitude', 'Inspiration', 'Satisfaction', 'Joy', 'Inspiration', 'Excitement', 'Admiration', 'Captivation', 'Awe', 'Thrill', 'Determination', 'Renewed Effort', 'Tranquility', 'Adventure', 'Creativity', 'Breakthrough', 'Harmony', 'Joy in Baking', 'Imagination', 'Vibrancy', 'Mesmerizing', 'Culinary Adventure', 'Winter Magic', 'Thrilling Journey', \"Nature's Beauty\",\n",
    "    'Celestial Wonder', 'Creative Inspiration', 'Runway Creativity', 'Excitement', 'Joy', 'Satisfaction', 'Joy', 'Excitement', 'Joy', 'Excitement', 'Joy', 'Pride', 'Excitement', 'Joy', 'Joy', 'Excitement', 'Contentment', 'Gratitude', 'Contentment', 'Joy', 'Joy', 'Contentment', 'Joy', 'Joy', 'Contentment', 'Contentment', 'Contentment', 'Joy', 'Gratitude', 'Contentment', 'Joy', 'Joy', 'Gratitude', 'Excitement', 'Joy', 'Joy', 'Contentment', 'Joy', 'Joy', 'Joy', 'Contentment', 'Joy', 'Excitement', 'Gratitude', 'Excitement', 'Joy', 'Joy', 'Joy', 'Gratitude', 'Joy', 'Gratitude', 'Excitement', 'Excitement', 'Excitement', 'Joy', 'Excitement', 'Positive', 'Excitement', 'Joy', 'Joy', 'Joy', 'Excitement', 'Excitement', 'Joy', 'Excitement', 'Excitement', 'Joy', 'Excitement', 'Excitement', 'Joy', 'Joy', 'Excitement', 'Joy', 'Excitement', 'Joy', 'Excitement', 'Joy', 'Excitement', 'Joy', 'Excitement', 'Joy', 'Excitement', 'Happy', 'Happy', 'Happy', 'Happy', 'Happy', 'Happy', 'Happy', 'Happy', 'Happy', 'Happy', 'Happy', 'Happy', 'Happy', 'Happy'\n",
    "]\n",
    "\n",
    "neutral = [\n",
    "    'Neutral', 'Neutral', 'Neutral', 'Neutral', 'Surprise', 'Acceptance', 'Confusion', 'Surprise', 'Acceptance', 'Confusion', 'Acceptance', 'Confusion', 'Curiosity', 'Indifference', 'Confusion', 'Numbness', 'Nostalgia', 'Ambivalence', 'Acceptance', 'Curiosity', 'Indifference', 'Confusion', 'Numbness', 'Nostalgia', 'Ambivalence', 'Acceptance', 'Curiosity', 'Indifference', 'Confusion', 'Numbness', 'Nostalgia', 'Ambivalence', 'Acceptance', 'Indifference', 'Confusion', 'Numbness', 'Nostalgia', 'Ambivalence', 'Acceptance', 'Curiosity', 'Indifference', 'Confusion', 'Numbness', 'Nostalgia', 'Ambivalence', 'Acceptance', 'Curiosity', 'Numbness', 'Empathetic', 'Playful', 'Curiosity', 'Ambivalence', 'Playful', 'Empathetic', 'Playful', 'Playful', 'Empathetic', 'Playful', 'Playful', 'Nostalgia', 'Curiosity', 'Contemplation', 'Reflection', 'Nostalgia', 'Surprise', 'Curiosity', 'Enchantment', 'Pensive', 'Wonder', 'Enchantment', 'Reflection', 'Wonder', 'Curiosity', 'Resilience', 'Nostalgia', 'Resilience', 'Nostalgia', 'Solitude', 'Surprise', 'Curiosity', 'Reflection', 'Enchantment', 'Wonder', 'Emotion', 'Enchantment', 'Nostalgia', 'Charm', 'Emotion', 'Journey', 'Nostalgia', 'Engagement', 'Contemplation', 'Suspense', 'Reflection', 'Sympathy', 'Solace', 'Envisioning History', \"Ocean's Freedom\", 'Surprise', 'Indifference', 'Surprise', 'Curiosity', 'Curiosity', 'Curiosity', 'Curiosity', 'Curiosity', 'Curiosity', 'Relief', 'Neutral', 'Neutral', 'Neutral', 'Neutral', 'Neutral', 'Neutral', 'Neutral', 'Neutral', 'Neutral', 'Neutral', 'Neutral', 'Neutral', 'Neutral', 'Neutral'\n",
    "]\n",
    "\n",
    "negative = [\n",
    "    'Negative', 'Negative', 'Negative', 'Negative', 'Anger', 'Fear', 'Sadness', 'Disgust', 'Disappointed', 'Bitter', 'Shame', 'Anger', 'Fear', 'Sadness', 'Disgust', 'Disappointed', 'Bitter', 'Shame', 'Bitter', 'Shame', 'Loneliness', 'Resentment', 'Frustration', 'Boredom', 'Anxiety', 'Intimidation', 'Helplessness', 'Envy', 'Regret', 'Disgust', 'Loneliness', 'Resentment', 'Frustration', 'Boredom', 'Anxiety', 'Intimidation', 'Helplessness', 'Envy', 'Regret', 'Disgust', 'Loneliness', 'Resentment', 'Frustration', 'Boredom', 'Melancholy', 'Melancholy', 'Melancholy', 'Melancholy', 'Melancholy', 'Bitterness', 'Loneliness', 'Yearning', 'Fearful', 'Apprehensive', 'Overwhelmed', 'Frustrated', 'Envious', 'Dismissive', 'Frustrated', 'Loneliness', 'Fearful', 'Bitterness', 'Overwhelmed', 'Frustrated', 'Envious', 'Dismissive', 'Bitterness', 'Loneliness', 'Yearning', 'Fearful', 'Apprehensive', 'Overwhelmed', 'Frustrated', 'Envious', 'Dismissive', 'Frustrated', 'Loneliness', 'Overwhelmed', 'Intrigue', 'Loneliness', 'Regret', 'Isolation', 'Disappointment', 'Melancholy', 'Bitterness', 'Regret', 'Loneliness', 'Bitterness', 'Isolation', 'Regret', 'Regret', 'Disappointment', 'Frustration', 'Obstacle', 'Pressure', 'Miscalculation', 'Challenge', 'Boredom', 'Frustration', 'Disgust', 'Frustration', 'Embarrassed', 'Embarrassed', 'Embarrassed', 'Embarrassed', 'Embarrassed', 'Embarrassed', 'Embarrassed', 'Embarrassed', 'Sad', 'Bad', 'Sad', 'Bad', 'Sad', 'Sad', 'Bad', 'Sad', 'Bad', 'Sad', 'Sad', 'Bad', 'Sad', 'Bad', 'Sad'\n",
    "]\n",
    "\n",
    "very_negative = ['Despair', 'Grief', 'Jealousy', 'Despair', 'Grief', 'Jealousy', 'Despair', 'Grief', 'Jealousy', 'Despair', 'Jealous', 'Devastated', 'Jealous', 'Devastated', 'Despair', 'Jealous', 'Devastated', 'Bittersweet', 'Heartbreak', 'Grief', 'Despair', 'Betrayal', 'Suffering', 'EmotionalStorm', 'Grief', 'LostLove', 'Despair', 'Exhaustion', 'Sorrow', 'Darkness', 'Desperation', 'Ruins', 'Desolation', 'Grief', 'Desolation', 'Heartbreak', 'Grief', 'Betrayal', 'Despair', 'Sorrow', 'Desolation', 'Grief', 'Betrayal', 'Heartbreak', 'Despair', 'Loss', 'Heartache', 'Grief', 'Betrayal', 'Despair', 'Desolation', 'Loss', 'Betrayal', 'Despair', 'Whispers of the Past', 'Mischievous', 'Mischievous', 'Hate', 'Hate', 'Hate', 'Hate', 'Hate', 'Hate']"
   ]
  },
  {
   "cell_type": "code",
   "execution_count": 32,
   "id": "2eb05500",
   "metadata": {},
   "outputs": [],
   "source": [
    "very_positive = list(set(very_positive))\n",
    "positive = list(set(positive))\n",
    "neutral = list(set(neutral))\n",
    "negative = list(set(negative))\n",
    "very_negative = list(set(very_negative))\n"
   ]
  },
  {
   "cell_type": "code",
   "execution_count": 33,
   "id": "030c743f",
   "metadata": {},
   "outputs": [],
   "source": [
    "very_positive = pd.Series(very_positive)\n",
    "positive = pd.Series(positive)\n",
    "neutral = pd.Series(neutral)\n",
    "negative = pd.Series(negative)\n",
    "very_negative = pd.Series(very_negative)"
   ]
  },
  {
   "cell_type": "code",
   "execution_count": 34,
   "id": "7518c88f",
   "metadata": {},
   "outputs": [
    {
     "name": "stdout",
     "output_type": "stream",
     "text": [
      "24\n",
      "81\n",
      "28\n",
      "36\n",
      "22\n"
     ]
    }
   ],
   "source": [
    "print(len(very_positive.unique()))\n",
    "print(len(positive.unique()))\n",
    "print(len(neutral.unique()))\n",
    "print(len(negative.unique()))\n",
    "print(len(very_negative.unique()))\n"
   ]
  },
  {
   "cell_type": "code",
   "execution_count": 35,
   "id": "0197c0fc",
   "metadata": {},
   "outputs": [],
   "source": [
    "very_positive = [x.lower() for x in very_positive]\n",
    "positive = [x.lower() for x in positive]\n",
    "neutral = [x.lower() for x in neutral]\n",
    "negative = [x.lower() for x in negative]\n",
    "very_negative = [x.lower() for x in very_negative]\n",
    "\n",
    "def map_sentiment(s):\n",
    "    s = str(s).lower().strip() \n",
    "    if s in very_positive:\n",
    "        return 'Very Positive'\n",
    "    elif s in positive:\n",
    "        return 'Positive'\n",
    "    elif s in neutral:\n",
    "        return 'Neutral'\n",
    "    elif s in negative:\n",
    "        return 'Negative'\n",
    "    elif s in very_negative:\n",
    "        return 'Very Negative'\n",
    "    else:\n",
    "        return 'Neutral'"
   ]
  },
  {
   "cell_type": "code",
   "execution_count": 36,
   "id": "ed1bb664",
   "metadata": {},
   "outputs": [],
   "source": [
    "sentiment_df['Sentiment'] = sentiment_df['Sentiment'].apply(map_sentiment) "
   ]
  },
  {
   "cell_type": "code",
   "execution_count": 37,
   "id": "b16dc11a",
   "metadata": {},
   "outputs": [
    {
     "data": {
      "text/plain": [
       "<Axes: xlabel='Sentiment'>"
      ]
     },
     "execution_count": 37,
     "metadata": {},
     "output_type": "execute_result"
    },
    {
     "data": {
      "image/png": "[encoded data removed]",
      "text/plain": [
       "<Figure size 640x480 with 1 Axes>"
      ]
     },
     "metadata": {},
     "output_type": "display_data"
    }
   ],
   "source": [
    "sentiment_df['Sentiment'].value_counts().plot(kind='bar')"
   ]
  },
  {
   "cell_type": "code",
   "execution_count": 38,
   "id": "e7ad0ace",
   "metadata": {},
   "outputs": [
    {
     "name": "stdout",
     "output_type": "stream",
     "text": [
      "<class 'pandas.core.frame.DataFrame'>\n",
      "RangeIndex: 732 entries, 0 to 731\n",
      "Data columns (total 8 columns):\n",
      " #   Column     Non-Null Count  Dtype         \n",
      "---  ------     --------------  -----         \n",
      " 0   Sentiment  732 non-null    object        \n",
      " 1   Timestamp  732 non-null    datetime64[ns]\n",
      " 2   Platform   732 non-null    object        \n",
      " 3   Hashtags   732 non-null    object        \n",
      " 4   Retweets   732 non-null    int64         \n",
      " 5   Likes      732 non-null    int64         \n",
      " 6   Country    732 non-null    object        \n",
      " 7   Text       732 non-null    object        \n",
      "dtypes: datetime64[ns](1), int64(2), object(5)\n",
      "memory usage: 45.9+ KB\n"
     ]
    }
   ],
   "source": [
    "sentiment_df.info()"
   ]
  },
  {
   "cell_type": "code",
   "execution_count": 39,
   "id": "9d89c576",
   "metadata": {},
   "outputs": [
    {
     "name": "stdout",
     "output_type": "stream",
     "text": [
      "Sentiment has 5 unique values\n",
      "Timestamp has 683 unique values\n",
      "Platform has 3 unique values\n",
      "Hashtags has 692 unique values\n",
      "Retweets has 26 unique values\n",
      "Likes has 38 unique values\n",
      "Country has 6 unique values\n",
      "Text has 705 unique values\n"
     ]
    }
   ],
   "source": [
    "for val in sentiment_df.columns:\n",
    "    print(val,\"has\",sentiment_df[val].nunique(),'unique values')"
   ]
  },
  {
   "cell_type": "code",
   "execution_count": 40,
   "id": "ce3f97c6",
   "metadata": {},
   "outputs": [
    {
     "data": {
      "text/plain": [
       "<Axes: xlabel='Platform', ylabel='count'>"
      ]
     },
     "execution_count": 40,
     "metadata": {},
     "output_type": "execute_result"
    },
    {
     "data": {
      "image/png": "[encoded data removed]",
      "text/plain": [
       "<Figure size 640x480 with 1 Axes>"
      ]
     },
     "metadata": {},
     "output_type": "display_data"
    }
   ],
   "source": [
    "sns.countplot(x='Platform', hue='Sentiment', data=sentiment_df)"
   ]
  },
  {
   "cell_type": "code",
   "execution_count": 41,
   "id": "ea1af9bf",
   "metadata": {},
   "outputs": [
    {
     "data": {
      "text/plain": [
       "<Axes: xlabel='Country', ylabel='count'>"
      ]
     },
     "execution_count": 41,
     "metadata": {},
     "output_type": "execute_result"
    },
    {
     "data": {
      "image/png": "[encoded data removed]",
      "text/plain": [
       "<Figure size 640x480 with 1 Axes>"
      ]
     },
     "metadata": {},
     "output_type": "display_data"
    }
   ],
   "source": [
    "sns.countplot(x='Country', hue='Sentiment', data=sentiment_df)"
   ]
  },
  {
   "cell_type": "code",
   "execution_count": 42,
   "id": "37e4e220",
   "metadata": {},
   "outputs": [
    {
     "data": {
      "text/html": [
       "<div>\n",
       "<style scoped>\n",
       "    .dataframe tbody tr th:only-of-type {\n",
       "        vertical-align: middle;\n",
       "    }\n",
       "\n",
       "    .dataframe tbody tr th {\n",
       "        vertical-align: top;\n",
       "    }\n",
       "\n",
       "    .dataframe thead th {\n",
       "        text-align: right;\n",
       "    }\n",
       "</style>\n",
       "<table border=\"1\" class=\"dataframe\">\n",
       "  <thead>\n",
       "    <tr style=\"text-align: right;\">\n",
       "      <th></th>\n",
       "      <th>Sentiment</th>\n",
       "      <th>Timestamp</th>\n",
       "      <th>Platform</th>\n",
       "      <th>Hashtags</th>\n",
       "      <th>Retweets</th>\n",
       "      <th>Likes</th>\n",
       "      <th>Country</th>\n",
       "      <th>Text</th>\n",
       "    </tr>\n",
       "  </thead>\n",
       "  <tbody>\n",
       "    <tr>\n",
       "      <th>0</th>\n",
       "      <td>Positive</td>\n",
       "      <td>2023-01-15 12:30:00</td>\n",
       "      <td>twitter</td>\n",
       "      <td>nature,park</td>\n",
       "      <td>15</td>\n",
       "      <td>30</td>\n",
       "      <td>usa</td>\n",
       "      <td>enjoy beauti day park</td>\n",
       "    </tr>\n",
       "    <tr>\n",
       "      <th>1</th>\n",
       "      <td>Negative</td>\n",
       "      <td>2023-01-15 08:45:00</td>\n",
       "      <td>twitter</td>\n",
       "      <td>traffic,morning</td>\n",
       "      <td>5</td>\n",
       "      <td>10</td>\n",
       "      <td>canada</td>\n",
       "      <td>traffic terribl morn</td>\n",
       "    </tr>\n",
       "    <tr>\n",
       "      <th>2</th>\n",
       "      <td>Positive</td>\n",
       "      <td>2023-01-15 15:45:00</td>\n",
       "      <td>instagram</td>\n",
       "      <td>fitness,workout</td>\n",
       "      <td>20</td>\n",
       "      <td>40</td>\n",
       "      <td>usa</td>\n",
       "      <td>finish amaz workout</td>\n",
       "    </tr>\n",
       "    <tr>\n",
       "      <th>3</th>\n",
       "      <td>Positive</td>\n",
       "      <td>2023-01-15 18:20:00</td>\n",
       "      <td>facebook</td>\n",
       "      <td>travel,adventure</td>\n",
       "      <td>8</td>\n",
       "      <td>15</td>\n",
       "      <td>uk</td>\n",
       "      <td>excit upcom weekend getaway</td>\n",
       "    </tr>\n",
       "    <tr>\n",
       "      <th>4</th>\n",
       "      <td>Neutral</td>\n",
       "      <td>2023-01-15 19:55:00</td>\n",
       "      <td>instagram</td>\n",
       "      <td>cooking,food</td>\n",
       "      <td>12</td>\n",
       "      <td>25</td>\n",
       "      <td>australia</td>\n",
       "      <td>tri new recip dinner tonight</td>\n",
       "    </tr>\n",
       "  </tbody>\n",
       "</table>\n",
       "</div>"
      ],
      "text/plain": [
       "  Sentiment           Timestamp   Platform          Hashtags  Retweets  Likes  \\\n",
       "0  Positive 2023-01-15 12:30:00    twitter       nature,park        15     30   \n",
       "1  Negative 2023-01-15 08:45:00    twitter   traffic,morning         5     10   \n",
       "2  Positive 2023-01-15 15:45:00  instagram   fitness,workout        20     40   \n",
       "3  Positive 2023-01-15 18:20:00   facebook  travel,adventure         8     15   \n",
       "4   Neutral 2023-01-15 19:55:00  instagram      cooking,food        12     25   \n",
       "\n",
       "     Country                          Text  \n",
       "0        usa         enjoy beauti day park  \n",
       "1     canada          traffic terribl morn  \n",
       "2        usa           finish amaz workout  \n",
       "3         uk   excit upcom weekend getaway  \n",
       "4  australia  tri new recip dinner tonight  "
      ]
     },
     "execution_count": 42,
     "metadata": {},
     "output_type": "execute_result"
    }
   ],
   "source": [
    "sentiment_df.head()"
   ]
  },
  {
   "cell_type": "code",
   "execution_count": 43,
   "id": "ae9672fc",
   "metadata": {},
   "outputs": [],
   "source": [
    "from sklearn.model_selection import train_test_split\n",
    "\n",
    "X = sentiment_df['Text']\n",
    "y = sentiment_df['Sentiment']\n",
    "\n",
    "X_train, X_test, y_train, y_test = train_test_split(X,y, test_size=0.2, random_state=42, stratify=y)"
   ]
  },
  {
   "cell_type": "code",
   "execution_count": 44,
   "id": "13f5e6aa",
   "metadata": {},
   "outputs": [],
   "source": [
    "from sklearn.feature_extraction.text import TfidfVectorizer\n",
    "from sklearn.preprocessing import LabelEncoder\n",
    "\n",
    "tfidf = TfidfVectorizer(max_features=600)\n",
    "X_train_tfidf = tfidf.fit_transform(X_train)\n",
    "X_test_tfidf = tfidf.transform(X_test)\n",
    "\n",
    "le = LabelEncoder()\n",
    "y_train_enc = le.fit_transform(y_train)\n",
    "y_test_enc = le.transform(y_test)\n"
   ]
  },
  {
   "cell_type": "markdown",
   "id": "89731190",
   "metadata": {},
   "source": [
    "## Logistic Regression"
   ]
  },
  {
   "cell_type": "code",
   "execution_count": 45,
   "id": "eb641602",
   "metadata": {},
   "outputs": [
    {
     "name": "stdout",
     "output_type": "stream",
     "text": [
      "Accuracy: 0.7211\n",
      "Confusion Matrix:\n",
      " [[16  1  5  3  0]\n",
      " [ 1 13  9  0  1]\n",
      " [ 2  6 62  0  6]\n",
      " [ 0  0  3 10  0]\n",
      " [ 0  0  4  0  5]]\n",
      "               precision    recall  f1-score   support\n",
      "\n",
      "     Negative       0.84      0.64      0.73        25\n",
      "      Neutral       0.65      0.54      0.59        24\n",
      "     Positive       0.75      0.82      0.78        76\n",
      "Very Negative       0.77      0.77      0.77        13\n",
      "Very Positive       0.42      0.56      0.48         9\n",
      "\n",
      "     accuracy                           0.72       147\n",
      "    macro avg       0.68      0.66      0.67       147\n",
      " weighted avg       0.73      0.72      0.72       147\n",
      "\n"
     ]
    },
    {
     "name": "stderr",
     "output_type": "stream",
     "text": [
      "c:\\Users\\Bijay\\Downloads\\DJANGO_PROJECTS\\ML\\codveda\\venv\\Lib\\site-packages\\sklearn\\linear_model\\_logistic.py:1247: FutureWarning: 'multi_class' was deprecated in version 1.5 and will be removed in 1.7. From then on, it will always use 'multinomial'. Leave it to its default value to avoid this warning.\n",
      "  warnings.warn(\n"
     ]
    }
   ],
   "source": [
    "from sklearn.linear_model import LogisticRegression\n",
    "from sklearn.metrics import classification_report, accuracy_score, confusion_matrix\n",
    "\n",
    "log = LogisticRegression(\n",
    "    class_weight='balanced',\n",
    "    multi_class='multinomial',\n",
    "    random_state=42\n",
    ")\n",
    "\n",
    "log.fit(X_train_tfidf, y_train_enc)\n",
    "y_pred_log = log.predict(X_test_tfidf)\n",
    "\n",
    "accuracy = accuracy_score(y_test_enc, y_pred_log)\n",
    "\n",
    "print(f\"Accuracy: {accuracy:.4f}\")\n",
    "\n",
    "cm = confusion_matrix(y_test_enc, y_pred_log)\n",
    "print(\"Confusion Matrix:\\n\", cm)\n",
    "\n",
    "print(classification_report(y_test_enc, y_pred_log, target_names=le.classes_))\n"
   ]
  },
  {
   "cell_type": "code",
   "execution_count": 46,
   "id": "09932b79",
   "metadata": {},
   "outputs": [
    {
     "name": "stdout",
     "output_type": "stream",
     "text": [
      "Random Forest Accuracy: 0.7347\n",
      "               precision    recall  f1-score   support\n",
      "\n",
      "     Negative       0.54      0.80      0.65        25\n",
      "      Neutral       0.90      0.38      0.53        24\n",
      "     Positive       0.77      0.88      0.82        76\n",
      "Very Negative       0.90      0.69      0.78        13\n",
      "Very Positive       1.00      0.33      0.50         9\n",
      "\n",
      "     accuracy                           0.73       147\n",
      "    macro avg       0.82      0.62      0.66       147\n",
      " weighted avg       0.78      0.73      0.72       147\n",
      "\n",
      "Confusion Matrix:\n",
      " [[20  0  4  1  0]\n",
      " [ 4  9 11  0  0]\n",
      " [ 9  0 67  0  0]\n",
      " [ 2  0  2  9  0]\n",
      " [ 2  1  3  0  3]]\n"
     ]
    }
   ],
   "source": [
    "from sklearn.ensemble import RandomForestClassifier\n",
    "from sklearn.metrics import classification_report, accuracy_score, confusion_matrix\n",
    "import seaborn as sns\n",
    "import matplotlib.pyplot as plt\n",
    "\n",
    "rf = RandomForestClassifier(\n",
    "    n_estimators=300,\n",
    "    class_weight='balanced',\n",
    "    random_state=42\n",
    ")\n",
    "\n",
    "rf.fit(X_train_tfidf, y_train_enc)\n",
    "\n",
    "y_pred_rf = rf.predict(X_test_tfidf)\n",
    "\n",
    "accuracy = accuracy_score(y_test_enc, y_pred_rf)\n",
    "print(f\"Random Forest Accuracy: {accuracy:.4f}\")\n",
    "\n",
    "print(classification_report(y_test_enc, y_pred_rf, target_names=le.classes_))\n",
    "\n",
    "cm = confusion_matrix(y_test_enc, y_pred_rf)\n",
    "print(\"Confusion Matrix:\\n\", cm)"
   ]
  },
  {
   "cell_type": "code",
   "execution_count": null,
   "id": "9bfe50d0",
   "metadata": {},
   "outputs": [],
   "source": []
  }
 ],
 "metadata": {
  "kernelspec": {
   "display_name": "venv",
   "language": "python",
   "name": "python3"
  },
  "language_info": {
   "codemirror_mode": {
    "name": "ipython",
    "version": 3
   },
   "file_extension": ".py",
   "mimetype": "text/x-python",
   "name": "python",
   "nbconvert_exporter": "python",
   "pygments_lexer": "ipython3",
   "version": "3.12.4"
  }
 },
 "nbformat": 4,
 "nbformat_minor": 5
}
