{
 "cells": [
  {
   "cell_type": "code",
   "execution_count": 19,
   "id": "14793693",
   "metadata": {},
   "outputs": [],
   "source": [
    "import pandas as pd\n",
    "import numpy as np\n",
    "import matplotlib.pyplot as plt"
   ]
  },
  {
   "cell_type": "code",
   "execution_count": 2,
   "id": "96d48d76",
   "metadata": {},
   "outputs": [],
   "source": [
    "df = pd.read_csv('cleaned_stock.csv')"
   ]
  },
  {
   "cell_type": "code",
   "execution_count": 3,
   "id": "73b8e96f",
   "metadata": {},
   "outputs": [
    {
     "data": {
      "text/html": [
       "<div>\n",
       "<style scoped>\n",
       "    .dataframe tbody tr th:only-of-type {\n",
       "        vertical-align: middle;\n",
       "    }\n",
       "\n",
       "    .dataframe tbody tr th {\n",
       "        vertical-align: top;\n",
       "    }\n",
       "\n",
       "    .dataframe thead th {\n",
       "        text-align: right;\n",
       "    }\n",
       "</style>\n",
       "<table border=\"1\" class=\"dataframe\">\n",
       "  <thead>\n",
       "    <tr style=\"text-align: right;\">\n",
       "      <th></th>\n",
       "      <th>symbol</th>\n",
       "      <th>date</th>\n",
       "      <th>open</th>\n",
       "      <th>high</th>\n",
       "      <th>low</th>\n",
       "      <th>close</th>\n",
       "      <th>volume</th>\n",
       "    </tr>\n",
       "  </thead>\n",
       "  <tbody>\n",
       "    <tr>\n",
       "      <th>0</th>\n",
       "      <td>AAL</td>\n",
       "      <td>2014-01-02</td>\n",
       "      <td>25.0700</td>\n",
       "      <td>25.8200</td>\n",
       "      <td>25.0600</td>\n",
       "      <td>25.3600</td>\n",
       "      <td>8998943</td>\n",
       "    </tr>\n",
       "    <tr>\n",
       "      <th>1</th>\n",
       "      <td>AAPL</td>\n",
       "      <td>2014-01-02</td>\n",
       "      <td>79.3828</td>\n",
       "      <td>79.5756</td>\n",
       "      <td>78.8601</td>\n",
       "      <td>79.0185</td>\n",
       "      <td>58791957</td>\n",
       "    </tr>\n",
       "    <tr>\n",
       "      <th>2</th>\n",
       "      <td>AAP</td>\n",
       "      <td>2014-01-02</td>\n",
       "      <td>110.3600</td>\n",
       "      <td>111.8800</td>\n",
       "      <td>109.2900</td>\n",
       "      <td>109.7400</td>\n",
       "      <td>542711</td>\n",
       "    </tr>\n",
       "    <tr>\n",
       "      <th>3</th>\n",
       "      <td>ABBV</td>\n",
       "      <td>2014-01-02</td>\n",
       "      <td>52.1200</td>\n",
       "      <td>52.3300</td>\n",
       "      <td>51.5200</td>\n",
       "      <td>51.9800</td>\n",
       "      <td>4569061</td>\n",
       "    </tr>\n",
       "    <tr>\n",
       "      <th>4</th>\n",
       "      <td>ABC</td>\n",
       "      <td>2014-01-02</td>\n",
       "      <td>70.1100</td>\n",
       "      <td>70.2300</td>\n",
       "      <td>69.4800</td>\n",
       "      <td>69.8900</td>\n",
       "      <td>1148391</td>\n",
       "    </tr>\n",
       "  </tbody>\n",
       "</table>\n",
       "</div>"
      ],
      "text/plain": [
       "  symbol        date      open      high       low     close    volume\n",
       "0    AAL  2014-01-02   25.0700   25.8200   25.0600   25.3600   8998943\n",
       "1   AAPL  2014-01-02   79.3828   79.5756   78.8601   79.0185  58791957\n",
       "2    AAP  2014-01-02  110.3600  111.8800  109.2900  109.7400    542711\n",
       "3   ABBV  2014-01-02   52.1200   52.3300   51.5200   51.9800   4569061\n",
       "4    ABC  2014-01-02   70.1100   70.2300   69.4800   69.8900   1148391"
      ]
     },
     "execution_count": 3,
     "metadata": {},
     "output_type": "execute_result"
    }
   ],
   "source": [
    "df.head()"
   ]
  },
  {
   "cell_type": "markdown",
   "id": "22d6bf3a",
   "metadata": {},
   "source": [
    "## Training"
   ]
  },
  {
   "cell_type": "code",
   "execution_count": 5,
   "id": "cffecb15",
   "metadata": {},
   "outputs": [],
   "source": [
    "df_single_symbol = df[df['symbol'] == 'AAPL'].copy()\n",
    "\n",
    "features = ['open','high','low','close','volume']\n",
    "\n",
    "X = df_single_symbol[features]\n",
    "y = df_single_symbol['close'].shift(-1)\n",
    "\n",
    "X = X[:-1]\n",
    "y = y[:-1]\n",
    "\n",
    "#there is no next day for last day\n"
   ]
  },
  {
   "cell_type": "markdown",
   "id": "49013ce9",
   "metadata": {},
   "source": [
    "- Basically we are taking in X features of a single symbol and for y we are taking close which is for the next days close"
   ]
  },
  {
   "cell_type": "code",
   "execution_count": null,
   "id": "dd325156",
   "metadata": {},
   "outputs": [],
   "source": [
    "from sklearn.model_selection import train_test_split\n",
    "\n",
    "X_train, X_test, y_train, y_test = train_test_split(X,y,test_size=0.2, shuffle=False)"
   ]
  },
  {
   "cell_type": "markdown",
   "id": "cd6e85b8",
   "metadata": {},
   "source": [
    "- As we are working with time series data we dont want the data to be randomly distributed so shuffle=False"
   ]
  },
  {
   "cell_type": "code",
   "execution_count": 7,
   "id": "b60d2cda",
   "metadata": {},
   "outputs": [
    {
     "data": {
      "text/html": [
       "<div>\n",
       "<style scoped>\n",
       "    .dataframe tbody tr th:only-of-type {\n",
       "        vertical-align: middle;\n",
       "    }\n",
       "\n",
       "    .dataframe tbody tr th {\n",
       "        vertical-align: top;\n",
       "    }\n",
       "\n",
       "    .dataframe thead th {\n",
       "        text-align: right;\n",
       "    }\n",
       "</style>\n",
       "<table border=\"1\" class=\"dataframe\">\n",
       "  <thead>\n",
       "    <tr style=\"text-align: right;\">\n",
       "      <th></th>\n",
       "      <th>open</th>\n",
       "      <th>high</th>\n",
       "      <th>low</th>\n",
       "      <th>close</th>\n",
       "      <th>volume</th>\n",
       "    </tr>\n",
       "  </thead>\n",
       "  <tbody>\n",
       "    <tr>\n",
       "      <th>14008</th>\n",
       "      <td>76.3799</td>\n",
       "      <td>77.8356</td>\n",
       "      <td>76.3142</td>\n",
       "      <td>77.7756</td>\n",
       "      <td>76960156</td>\n",
       "    </tr>\n",
       "    <tr>\n",
       "      <th>136090</th>\n",
       "      <td>126.0600</td>\n",
       "      <td>127.4800</td>\n",
       "      <td>125.5700</td>\n",
       "      <td>126.4600</td>\n",
       "      <td>74474466</td>\n",
       "    </tr>\n",
       "    <tr>\n",
       "      <th>247604</th>\n",
       "      <td>98.6800</td>\n",
       "      <td>100.1300</td>\n",
       "      <td>96.4300</td>\n",
       "      <td>96.4500</td>\n",
       "      <td>81094428</td>\n",
       "    </tr>\n",
       "    <tr>\n",
       "      <th>319629</th>\n",
       "      <td>105.5800</td>\n",
       "      <td>106.0000</td>\n",
       "      <td>105.2800</td>\n",
       "      <td>105.8700</td>\n",
       "      <td>27408650</td>\n",
       "    </tr>\n",
       "    <tr>\n",
       "      <th>467215</th>\n",
       "      <td>154.1800</td>\n",
       "      <td>155.4400</td>\n",
       "      <td>154.0500</td>\n",
       "      <td>155.3900</td>\n",
       "      <td>21283769</td>\n",
       "    </tr>\n",
       "    <tr>\n",
       "      <th>...</th>\n",
       "      <td>...</td>\n",
       "      <td>...</td>\n",
       "      <td>...</td>\n",
       "      <td>...</td>\n",
       "      <td>...</td>\n",
       "    </tr>\n",
       "    <tr>\n",
       "      <th>51280</th>\n",
       "      <td>92.3142</td>\n",
       "      <td>92.7670</td>\n",
       "      <td>91.8013</td>\n",
       "      <td>92.4785</td>\n",
       "      <td>75951141</td>\n",
       "    </tr>\n",
       "    <tr>\n",
       "      <th>131200</th>\n",
       "      <td>116.3200</td>\n",
       "      <td>119.1900</td>\n",
       "      <td>115.5600</td>\n",
       "      <td>118.9000</td>\n",
       "      <td>84436432</td>\n",
       "    </tr>\n",
       "    <tr>\n",
       "      <th>423482</th>\n",
       "      <td>153.5800</td>\n",
       "      <td>155.4500</td>\n",
       "      <td>152.8900</td>\n",
       "      <td>155.4500</td>\n",
       "      <td>27770715</td>\n",
       "    </tr>\n",
       "    <tr>\n",
       "      <th>212033</th>\n",
       "      <td>113.2500</td>\n",
       "      <td>115.5000</td>\n",
       "      <td>112.3700</td>\n",
       "      <td>115.0000</td>\n",
       "      <td>50219475</td>\n",
       "    </tr>\n",
       "    <tr>\n",
       "      <th>49340</th>\n",
       "      <td>91.1399</td>\n",
       "      <td>92.0242</td>\n",
       "      <td>89.8428</td>\n",
       "      <td>90.4285</td>\n",
       "      <td>141005137</td>\n",
       "    </tr>\n",
       "  </tbody>\n",
       "</table>\n",
       "<p>804 rows × 5 columns</p>\n",
       "</div>"
      ],
      "text/plain": [
       "            open      high       low     close     volume\n",
       "14008    76.3799   77.8356   76.3142   77.7756   76960156\n",
       "136090  126.0600  127.4800  125.5700  126.4600   74474466\n",
       "247604   98.6800  100.1300   96.4300   96.4500   81094428\n",
       "319629  105.5800  106.0000  105.2800  105.8700   27408650\n",
       "467215  154.1800  155.4400  154.0500  155.3900   21283769\n",
       "...          ...       ...       ...       ...        ...\n",
       "51280    92.3142   92.7670   91.8013   92.4785   75951141\n",
       "131200  116.3200  119.1900  115.5600  118.9000   84436432\n",
       "423482  153.5800  155.4500  152.8900  155.4500   27770715\n",
       "212033  113.2500  115.5000  112.3700  115.0000   50219475\n",
       "49340    91.1399   92.0242   89.8428   90.4285  141005137\n",
       "\n",
       "[804 rows x 5 columns]"
      ]
     },
     "execution_count": 7,
     "metadata": {},
     "output_type": "execute_result"
    }
   ],
   "source": [
    "X_train"
   ]
  },
  {
   "cell_type": "code",
   "execution_count": 8,
   "id": "c24d6709",
   "metadata": {},
   "outputs": [
    {
     "data": {
      "text/plain": [
       "14008      77.7128\n",
       "136090    127.0800\n",
       "247604     96.9600\n",
       "319629    107.4800\n",
       "467215    155.3000\n",
       "            ...   \n",
       "51280      92.2242\n",
       "131200    117.1600\n",
       "423482    153.9300\n",
       "212033    114.7100\n",
       "49340      89.8071\n",
       "Name: close, Length: 804, dtype: float64"
      ]
     },
     "execution_count": 8,
     "metadata": {},
     "output_type": "execute_result"
    }
   ],
   "source": [
    "y_train"
   ]
  },
  {
   "cell_type": "markdown",
   "id": "06db289e",
   "metadata": {},
   "source": [
    "## Regression Problems\n",
    "- Linear\n",
    "- Decision Tree\n",
    "- KNN"
   ]
  },
  {
   "cell_type": "code",
   "execution_count": 9,
   "id": "752a76f6",
   "metadata": {},
   "outputs": [],
   "source": [
    "from sklearn.linear_model import LinearRegression\n",
    "from sklearn.tree import DecisionTreeRegressor\n",
    "from sklearn.neighbors import KNeighborsRegressor\n",
    "\n",
    "from sklearn.metrics import mean_squared_error,r2_score"
   ]
  },
  {
   "cell_type": "code",
   "execution_count": 36,
   "id": "3cdfb69a",
   "metadata": {},
   "outputs": [
    {
     "name": "stdout",
     "output_type": "stream",
     "text": [
      "Linear Regression -  R2: 0.9956, RMSE: 1.5881\n",
      "DecisionTree Regressor -  R2: 0.9934, RMSE: 1.9441\n",
      "KNeighbors Regressor -  R2: 0.9939, RMSE: 1.8804\n"
     ]
    }
   ],
   "source": [
    "from sklearn.preprocessing import StandardScaler\n",
    "\n",
    "scaler = StandardScaler()\n",
    "\n",
    "X_train_scaled = scaler.fit_transform(X_train)\n",
    "X_test_scaled = scaler.transform(X_test)\n",
    "\n",
    "reg_models = {\n",
    "    \"Linear Regression\" : LinearRegression(),\n",
    "    \"DecisionTree Regressor\" : DecisionTreeRegressor(max_depth=5),\n",
    "    \"KNeighbors Regressor\" : KNeighborsRegressor(n_neighbors=5)\n",
    "}\n",
    "\n",
    "results = {}\n",
    "\n",
    "for name, model in reg_models.items():\n",
    "    model.fit(X_train_scaled, y_train)\n",
    "\n",
    "    y_pred_scale = model.predict(X_test_scaled)\n",
    "    rmse = np.sqrt(mean_squared_error(y_test, y_pred_scale))\n",
    "    r2 = r2_score(y_test, y_pred_scale)\n",
    "    results[name] = {\"RMSE\": rmse, \"R2\": r2}\n",
    "\n",
    "for name, metrics in results.items():\n",
    "    print(f\"{name} -  R2: {metrics['R2']:.4f}, RMSE: {metrics['RMSE']:.4f}\")"
   ]
  },
  {
   "cell_type": "code",
   "execution_count": 37,
   "id": "b246707f",
   "metadata": {},
   "outputs": [
    {
     "data": {
      "image/png": "[encoded data removed]",
      "text/plain": [
       "<Figure size 800x500 with 1 Axes>"
      ]
     },
     "metadata": {},
     "output_type": "display_data"
    }
   ],
   "source": [
    "k_values = range(1,21)\n",
    "rmse_values = []\n",
    "\n",
    "for i in k_values:\n",
    "    knn_reg=KNeighborsRegressor(n_neighbors=i)\n",
    "    knn_reg.fit(X_train, y_train)\n",
    "    y_pred = knn_reg.predict(X_test)\n",
    "    rmse = np.sqrt(mean_squared_error(y_test, y_pred))\n",
    "    rmse_values.append(rmse)\n",
    "\n",
    "plt.figure(figsize=(8,5))\n",
    "plt.plot(k_values, rmse_values, marker='o')\n",
    "plt.xlabel(\"Number of Neighbors (k)\")\n",
    "plt.ylabel(\"RMSE\")\n",
    "plt.title(\"Elbow Method for Optimal k in KNN\")\n",
    "plt.show()"
   ]
  },
  {
   "cell_type": "markdown",
   "id": "169b34fc",
   "metadata": {},
   "source": [
    "## Predicting the Next Days closing price using linear reg. (the best one)"
   ]
  },
  {
   "cell_type": "code",
   "execution_count": 50,
   "id": "164f7154",
   "metadata": {},
   "outputs": [],
   "source": [
    "best_reg_model = LinearRegression()\n",
    "best_reg_model.fit(X_train_scaled, y_train)\n",
    "\n",
    "def predict_next_day_price(open_price,high_price,low_price,close_price, volume):\n",
    "\n",
    "    input_data = np.array([[open_price, high_price, low_price, close_price, volume]])\n",
    "    input_data_scale = scaler.transform(input_data)\n",
    "\n",
    "    predict_price = best_reg_model.predict(input_data_scale)\n",
    "\n",
    "    return predict_price[0]"
   ]
  },
  {
   "cell_type": "code",
   "execution_count": 54,
   "id": "b85fba64",
   "metadata": {},
   "outputs": [
    {
     "name": "stdout",
     "output_type": "stream",
     "text": [
      "Based on the provided data, the predicted closing price for the next day is: $77.47\n"
     ]
    },
    {
     "name": "stderr",
     "output_type": "stream",
     "text": [
      "c:\\Users\\Bijay\\Downloads\\DJANGO_PROJECTS\\ML\\codveda\\venv\\Lib\\site-packages\\sklearn\\utils\\validation.py:2749: UserWarning: X does not have valid feature names, but StandardScaler was fitted with feature names\n",
      "  warnings.warn(\n"
     ]
    }
   ],
   "source": [
    "sample_data = {\n",
    "    'open': 78.98,\n",
    "    'high': 79.09,\n",
    "    'low': 77.20,\n",
    "    'close': 77.28,\n",
    "    'volume': 98303870\n",
    "}\n",
    "\n",
    "next_day_prediction = predict_next_day_price(\n",
    "    sample_data['open'],\n",
    "    sample_data['high'],\n",
    "    sample_data['low'],\n",
    "    sample_data['close'],\n",
    "    sample_data['volume']\n",
    ")\n",
    "\n",
    "print(f\"Based on the provided data, the predicted closing price for the next day is: ${next_day_prediction:.2f}\")\n"
   ]
  },
  {
   "cell_type": "code",
   "execution_count": 48,
   "id": "b8e62b06",
   "metadata": {},
   "outputs": [
    {
     "name": "stdout",
     "output_type": "stream",
     "text": [
      "       symbol        date      open      high       low     close     volume\n",
      "1        AAPL  2014-01-02   79.3828   79.5756   78.8601   79.0185   58791957\n",
      "484      AAPL  2014-01-03   78.9799   79.0999   77.2042   77.2828   98303870\n",
      "967      AAPL  2014-01-06   76.7785   78.1142   76.2285   77.7042  103359151\n",
      "1450     AAPL  2014-01-07   77.7599   77.9942   76.8464   77.1481   79432766\n",
      "1933     AAPL  2014-01-08   76.9728   77.9371   76.9556   77.6371   64686685\n",
      "...       ...         ...       ...       ...       ...       ...        ...\n",
      "494948   AAPL  2017-12-22  174.6800  175.4240  174.5000  175.0100   16349444\n",
      "495453   AAPL  2017-12-26  170.8000  171.4700  169.6790  170.5700   33185536\n",
      "495958   AAPL  2017-12-27  170.1000  170.7800  169.7100  170.6000   21498213\n",
      "496463   AAPL  2017-12-28  171.0000  171.8500  170.4800  171.0800   16480187\n",
      "496968   AAPL  2017-12-29  170.5200  170.5900  169.2200  169.2300   25999922\n",
      "\n",
      "[1007 rows x 7 columns]\n"
     ]
    }
   ],
   "source": [
    "df_aapl = df[df['symbol'] == 'AAPL']\n",
    "print(df_aapl)\n"
   ]
  },
  {
   "cell_type": "markdown",
   "id": "046fe181",
   "metadata": {},
   "source": [
    "## Categorical Problem\n",
    "- Logistc\n",
    "- Decision Tree\n",
    "- KNN"
   ]
  },
  {
   "cell_type": "code",
   "execution_count": 58,
   "id": "5b0c00d8",
   "metadata": {},
   "outputs": [],
   "source": [
    "from sklearn.linear_model import LogisticRegression\n",
    "from sklearn.tree import DecisionTreeClassifier\n",
    "from sklearn.neighbors import KNeighborsClassifier\n",
    "from sklearn.metrics import accuracy_score"
   ]
  },
  {
   "cell_type": "code",
   "execution_count": 56,
   "id": "32c0f4d7",
   "metadata": {},
   "outputs": [],
   "source": [
    "X_cat = X\n",
    "\n",
    "price_change = df_single_symbol['close'].diff().shift(-1)\n",
    "y_cat = (price_change > 0).astype(int)\n",
    "\n",
    "y_cat = y_cat[:-1]\n",
    "\n",
    "scaler = StandardScaler()\n",
    "X_scaled_cat = scaler.fit_transform(X_cat)\n",
    "X_train_Cat, X_test_Cat, y_train_Cat, y_test_Cat = train_test_split(X_scaled_cat, y_cat, test_size=0.2, shuffle=False)"
   ]
  },
  {
   "cell_type": "code",
   "execution_count": 77,
   "id": "bf09f42d",
   "metadata": {},
   "outputs": [
    {
     "name": "stdout",
     "output_type": "stream",
     "text": [
      "Logistic Regression: 48.02%\n",
      "Decision Tree: 51.98%\n",
      "KNN: 52.97%\n"
     ]
    }
   ],
   "source": [
    "class_models = {\n",
    "    \"Logistic Regression\": LogisticRegression(random_state=42),\n",
    "    \"Decision Tree\": DecisionTreeClassifier(random_state=42, max_depth=3),\n",
    "    \"KNN\": KNeighborsClassifier(n_neighbors=5)\n",
    "}\n",
    "\n",
    "results_cat = {}\n",
    "\n",
    "for name,model in class_models.items():\n",
    "    model.fit(X_train_Cat, y_train_Cat)\n",
    "    y_pred_cat = model.predict(X_test_Cat)\n",
    "\n",
    "    accuracy = accuracy_score(y_test_Cat, y_pred_cat)\n",
    "\n",
    "    results_cat[name] = accuracy\n",
    "\n",
    "for name, acc in results_cat.items():\n",
    "\n",
    "    print(f\"{name}: {acc*100:.2f}%\")"
   ]
  },
  {
   "cell_type": "markdown",
   "id": "b0f5c171",
   "metadata": {},
   "source": [
    "- The results arent that great but it also reflect but difficult it can be to predict if the price might go up or down\n",
    "- Similarly although we got a great accuracy on daily price prediction as it was a daily basis but it cannt calculate that well"
   ]
  },
  {
   "cell_type": "markdown",
   "id": "bfba5ba2",
   "metadata": {},
   "source": [
    "## KMeans"
   ]
  },
  {
   "cell_type": "code",
   "execution_count": 78,
   "id": "dd72e8c9",
   "metadata": {},
   "outputs": [],
   "source": [
    "df['daily_return'] =  df.groupby('symbol')['close'].pct_change()"
   ]
  },
  {
   "cell_type": "code",
   "execution_count": 99,
   "id": "86a71410",
   "metadata": {},
   "outputs": [
    {
     "data": {
      "text/html": [
       "<div>\n",
       "<style scoped>\n",
       "    .dataframe tbody tr th:only-of-type {\n",
       "        vertical-align: middle;\n",
       "    }\n",
       "\n",
       "    .dataframe tbody tr th {\n",
       "        vertical-align: top;\n",
       "    }\n",
       "\n",
       "    .dataframe thead th {\n",
       "        text-align: right;\n",
       "    }\n",
       "</style>\n",
       "<table border=\"1\" class=\"dataframe\">\n",
       "  <thead>\n",
       "    <tr style=\"text-align: right;\">\n",
       "      <th></th>\n",
       "      <th>symbol</th>\n",
       "      <th>date</th>\n",
       "      <th>open</th>\n",
       "      <th>high</th>\n",
       "      <th>low</th>\n",
       "      <th>close</th>\n",
       "      <th>volume</th>\n",
       "      <th>daily_return</th>\n",
       "    </tr>\n",
       "  </thead>\n",
       "  <tbody>\n",
       "    <tr>\n",
       "      <th>0</th>\n",
       "      <td>AAL</td>\n",
       "      <td>2014-01-02</td>\n",
       "      <td>25.0700</td>\n",
       "      <td>25.8200</td>\n",
       "      <td>25.0600</td>\n",
       "      <td>25.3600</td>\n",
       "      <td>8998943</td>\n",
       "      <td>0.0</td>\n",
       "    </tr>\n",
       "    <tr>\n",
       "      <th>1</th>\n",
       "      <td>AAPL</td>\n",
       "      <td>2014-01-02</td>\n",
       "      <td>79.3828</td>\n",
       "      <td>79.5756</td>\n",
       "      <td>78.8601</td>\n",
       "      <td>79.0185</td>\n",
       "      <td>58791957</td>\n",
       "      <td>0.0</td>\n",
       "    </tr>\n",
       "    <tr>\n",
       "      <th>2</th>\n",
       "      <td>AAP</td>\n",
       "      <td>2014-01-02</td>\n",
       "      <td>110.3600</td>\n",
       "      <td>111.8800</td>\n",
       "      <td>109.2900</td>\n",
       "      <td>109.7400</td>\n",
       "      <td>542711</td>\n",
       "      <td>0.0</td>\n",
       "    </tr>\n",
       "    <tr>\n",
       "      <th>3</th>\n",
       "      <td>ABBV</td>\n",
       "      <td>2014-01-02</td>\n",
       "      <td>52.1200</td>\n",
       "      <td>52.3300</td>\n",
       "      <td>51.5200</td>\n",
       "      <td>51.9800</td>\n",
       "      <td>4569061</td>\n",
       "      <td>0.0</td>\n",
       "    </tr>\n",
       "    <tr>\n",
       "      <th>4</th>\n",
       "      <td>ABC</td>\n",
       "      <td>2014-01-02</td>\n",
       "      <td>70.1100</td>\n",
       "      <td>70.2300</td>\n",
       "      <td>69.4800</td>\n",
       "      <td>69.8900</td>\n",
       "      <td>1148391</td>\n",
       "      <td>0.0</td>\n",
       "    </tr>\n",
       "  </tbody>\n",
       "</table>\n",
       "</div>"
      ],
      "text/plain": [
       "  symbol        date      open      high       low     close    volume  \\\n",
       "0    AAL  2014-01-02   25.0700   25.8200   25.0600   25.3600   8998943   \n",
       "1   AAPL  2014-01-02   79.3828   79.5756   78.8601   79.0185  58791957   \n",
       "2    AAP  2014-01-02  110.3600  111.8800  109.2900  109.7400    542711   \n",
       "3   ABBV  2014-01-02   52.1200   52.3300   51.5200   51.9800   4569061   \n",
       "4    ABC  2014-01-02   70.1100   70.2300   69.4800   69.8900   1148391   \n",
       "\n",
       "   daily_return  \n",
       "0           0.0  \n",
       "1           0.0  \n",
       "2           0.0  \n",
       "3           0.0  \n",
       "4           0.0  "
      ]
     },
     "execution_count": 99,
     "metadata": {},
     "output_type": "execute_result"
    }
   ],
   "source": [
    "df.head()"
   ]
  },
  {
   "cell_type": "code",
   "execution_count": 103,
   "id": "d10b6937",
   "metadata": {},
   "outputs": [
    {
     "data": {
      "text/plain": [
       "symbol\n",
       "YUM     1007\n",
       "XYL     1007\n",
       "XRX     1007\n",
       "XRAY    1007\n",
       "XOM     1007\n",
       "        ... \n",
       "DXC      189\n",
       "BHGE     126\n",
       "BHF      117\n",
       "DWDP      83\n",
       "APTV      18\n",
       "Name: count, Length: 505, dtype: int64"
      ]
     },
     "execution_count": 103,
     "metadata": {},
     "output_type": "execute_result"
    }
   ],
   "source": [
    "df['symbol'].value_counts()"
   ]
  },
  {
   "cell_type": "code",
   "execution_count": 98,
   "id": "c93f8ddc",
   "metadata": {},
   "outputs": [],
   "source": [
    "df['daily_return'].fillna(0, inplace=True)"
   ]
  },
  {
   "cell_type": "code",
   "execution_count": null,
   "id": "df65e9f6",
   "metadata": {},
   "outputs": [],
   "source": [
    "new = df.groupby('symbol')['daily_return'].agg(['mean','std']).rename(columns={'mean':'avg_return','std':'volatility'})\n",
    "\n",
    "new.dropna(inplace=True)\n",
    "new.replace([np.inf,-np.inf], np.nan, inplace=True)\n",
    "new.dropna(inplace=True)\n",
    "\n",
    "X_mean = new[['avg_return','volatility']].values\n",
    "X_scaled_mean = scaler.fit_transform(X_mean)\n"
   ]
  },
  {
   "cell_type": "code",
   "execution_count": 101,
   "id": "f994e0e1",
   "metadata": {},
   "outputs": [],
   "source": [
    "from sklearn.cluster import KMeans\n",
    "\n",
    "kmeans = KMeans(n_clusters=4, random_state=42, n_init=10)\n",
    "kmeans.fit(X_scaled_mean)\n",
    "\n",
    "new['cluster'] = kmeans.labels_"
   ]
  },
  {
   "cell_type": "code",
   "execution_count": 105,
   "id": "16f914e3",
   "metadata": {},
   "outputs": [
    {
     "data": {
      "image/png": "[encoded data removed]",
      "text/plain": [
       "<Figure size 1000x600 with 1 Axes>"
      ]
     },
     "metadata": {},
     "output_type": "display_data"
    }
   ],
   "source": [
    "import seaborn as sns\n",
    "\n",
    "plt.figure(figsize=(10,6))\n",
    "sns.scatterplot(x=new['volatility'], y=new['avg_return'], hue=new['cluster'], palette='viridis', s=100, alpha=0.7)\n",
    "plt.xlabel('Volatility')\n",
    "plt.ylabel('Average Daily Return')\n",
    "plt.title('Stock Clusters')\n",
    "plt.show()"
   ]
  },
  {
   "cell_type": "code",
   "execution_count": 106,
   "id": "c6c17919",
   "metadata": {},
   "outputs": [
    {
     "data": {
      "application/vnd.plotly.v1+json": {
       "config": {
        "plotlyServerURL": "https://plot.ly"
       },
       "data": [
        {
         "customdata": [
          [
           "A"
          ],
          [
           "AAL"
          ],
          [
           "AAP"
          ],
          [
           "AAPL"
          ],
          [
           "ABBV"
          ],
          [
           "ABC"
          ],
          [
           "ABT"
          ],
          [
           "ACN"
          ],
          [
           "ADBE"
          ],
          [
           "ADI"
          ],
          [
           "ADM"
          ],
          [
           "ADP"
          ],
          [
           "ADS"
          ],
          [
           "ADSK"
          ],
          [
           "AEE"
          ],
          [
           "AEP"
          ],
          [
           "AES"
          ],
          [
           "AET"
          ],
          [
           "AFL"
          ],
          [
           "AGN"
          ],
          [
           "AIG"
          ],
          [
           "AIV"
          ],
          [
           "AIZ"
          ],
          [
           "AJG"
          ],
          [
           "AKAM"
          ],
          [
           "ALB"
          ],
          [
           "ALGN"
          ],
          [
           "ALK"
          ],
          [
           "ALL"
          ],
          [
           "ALLE"
          ],
          [
           "ALXN"
          ],
          [
           "AMAT"
          ],
          [
           "AMD"
          ],
          [
           "AME"
          ],
          [
           "AMG"
          ],
          [
           "AMGN"
          ],
          [
           "AMP"
          ],
          [
           "AMT"
          ],
          [
           "AMZN"
          ],
          [
           "ANDV"
          ],
          [
           "ANSS"
          ],
          [
           "ANTM"
          ],
          [
           "AON"
          ],
          [
           "AOS"
          ],
          [
           "APA"
          ],
          [
           "APC"
          ],
          [
           "APD"
          ],
          [
           "APH"
          ],
          [
           "APTV"
          ],
          [
           "ARE"
          ],
          [
           "ARNC"
          ],
          [
           "ATVI"
          ],
          [
           "AVB"
          ],
          [
           "AVGO"
          ],
          [
           "AVY"
          ],
          [
           "AWK"
          ],
          [
           "AXP"
          ],
          [
           "AYI"
          ],
          [
           "AZO"
          ],
          [
           "BA"
          ],
          [
           "BAC"
          ],
          [
           "BAX"
          ],
          [
           "BBT"
          ],
          [
           "BBY"
          ],
          [
           "BDX"
          ],
          [
           "BEN"
          ],
          [
           "BF.B"
          ],
          [
           "BHF"
          ],
          [
           "BHGE"
          ],
          [
           "BIIB"
          ],
          [
           "BK"
          ],
          [
           "BLK"
          ],
          [
           "BLL"
          ],
          [
           "BMY"
          ],
          [
           "BRK.B"
          ],
          [
           "BSX"
          ],
          [
           "BWA"
          ],
          [
           "BXP"
          ],
          [
           "C"
          ],
          [
           "CA"
          ],
          [
           "CAG"
          ],
          [
           "CAH"
          ],
          [
           "CAT"
          ],
          [
           "CB"
          ],
          [
           "CBG"
          ],
          [
           "CBOE"
          ],
          [
           "CBS"
          ],
          [
           "CCI"
          ],
          [
           "CCL"
          ],
          [
           "CDNS"
          ],
          [
           "CELG"
          ],
          [
           "CERN"
          ],
          [
           "CF"
          ],
          [
           "CFG"
          ],
          [
           "CHD"
          ],
          [
           "CHK"
          ],
          [
           "CHRW"
          ],
          [
           "CHTR"
          ],
          [
           "CI"
          ],
          [
           "CINF"
          ],
          [
           "CL"
          ],
          [
           "CLX"
          ],
          [
           "CMA"
          ],
          [
           "CMCSA"
          ],
          [
           "CME"
          ],
          [
           "CMG"
          ],
          [
           "CMI"
          ],
          [
           "CMS"
          ],
          [
           "CNC"
          ],
          [
           "CNP"
          ],
          [
           "COF"
          ],
          [
           "COG"
          ],
          [
           "COL"
          ],
          [
           "COO"
          ],
          [
           "COP"
          ],
          [
           "COST"
          ],
          [
           "COTY"
          ],
          [
           "CPB"
          ],
          [
           "CRM"
          ],
          [
           "CSCO"
          ],
          [
           "CSRA"
          ],
          [
           "CSX"
          ],
          [
           "CTAS"
          ],
          [
           "CTL"
          ],
          [
           "CTSH"
          ],
          [
           "CTXS"
          ],
          [
           "CVS"
          ],
          [
           "CVX"
          ],
          [
           "CXO"
          ],
          [
           "D"
          ],
          [
           "DAL"
          ],
          [
           "DE"
          ],
          [
           "DFS"
          ],
          [
           "DG"
          ],
          [
           "DGX"
          ],
          [
           "DHI"
          ],
          [
           "DHR"
          ],
          [
           "DIS"
          ],
          [
           "DISCA"
          ],
          [
           "DISCK"
          ],
          [
           "DISH"
          ],
          [
           "DLR"
          ],
          [
           "DLTR"
          ],
          [
           "DOV"
          ],
          [
           "DPS"
          ],
          [
           "DRE"
          ],
          [
           "DRI"
          ],
          [
           "DTE"
          ],
          [
           "DUK"
          ],
          [
           "DVA"
          ],
          [
           "DVN"
          ],
          [
           "DWDP"
          ],
          [
           "DXC"
          ],
          [
           "EA"
          ],
          [
           "EBAY"
          ],
          [
           "ECL"
          ],
          [
           "ED"
          ],
          [
           "EFX"
          ],
          [
           "EIX"
          ],
          [
           "EL"
          ],
          [
           "EMN"
          ],
          [
           "EMR"
          ],
          [
           "EOG"
          ],
          [
           "EQIX"
          ],
          [
           "EQR"
          ],
          [
           "EQT"
          ],
          [
           "ES"
          ],
          [
           "ESRX"
          ],
          [
           "ESS"
          ],
          [
           "ETFC"
          ],
          [
           "ETN"
          ],
          [
           "ETR"
          ],
          [
           "EVHC"
          ],
          [
           "EW"
          ],
          [
           "EXC"
          ],
          [
           "EXPD"
          ],
          [
           "EXPE"
          ],
          [
           "EXR"
          ],
          [
           "F"
          ],
          [
           "FAST"
          ],
          [
           "FB"
          ],
          [
           "FBHS"
          ],
          [
           "FCX"
          ],
          [
           "FDX"
          ],
          [
           "FE"
          ],
          [
           "FFIV"
          ],
          [
           "FIS"
          ],
          [
           "FISV"
          ],
          [
           "FITB"
          ],
          [
           "FL"
          ],
          [
           "FLIR"
          ],
          [
           "FLR"
          ],
          [
           "FLS"
          ],
          [
           "FMC"
          ],
          [
           "FOX"
          ],
          [
           "FOXA"
          ],
          [
           "FRT"
          ],
          [
           "FTI"
          ],
          [
           "FTV"
          ],
          [
           "GD"
          ],
          [
           "GE"
          ],
          [
           "GGP"
          ],
          [
           "GILD"
          ],
          [
           "GIS"
          ],
          [
           "GLW"
          ],
          [
           "GM"
          ],
          [
           "GOOG"
          ],
          [
           "GOOGL"
          ],
          [
           "GPC"
          ],
          [
           "GPN"
          ],
          [
           "GPS"
          ],
          [
           "GRMN"
          ],
          [
           "GS"
          ],
          [
           "GT"
          ],
          [
           "GWW"
          ],
          [
           "HAL"
          ],
          [
           "HAS"
          ],
          [
           "HBAN"
          ],
          [
           "HBI"
          ],
          [
           "HCA"
          ],
          [
           "HCN"
          ],
          [
           "HCP"
          ],
          [
           "HD"
          ],
          [
           "HES"
          ],
          [
           "HIG"
          ],
          [
           "HII"
          ],
          [
           "HLT"
          ],
          [
           "HOG"
          ],
          [
           "HOLX"
          ],
          [
           "HON"
          ],
          [
           "HP"
          ],
          [
           "HPE"
          ],
          [
           "HPQ"
          ],
          [
           "HRB"
          ],
          [
           "HRL"
          ],
          [
           "HRS"
          ],
          [
           "HSIC"
          ],
          [
           "HST"
          ],
          [
           "HSY"
          ],
          [
           "HUM"
          ],
          [
           "IBM"
          ],
          [
           "ICE"
          ],
          [
           "IDXX"
          ],
          [
           "IFF"
          ],
          [
           "ILMN"
          ],
          [
           "INCY"
          ],
          [
           "INFO"
          ],
          [
           "INTC"
          ],
          [
           "INTU"
          ],
          [
           "IP"
          ],
          [
           "IPG"
          ],
          [
           "IQV"
          ],
          [
           "IR"
          ],
          [
           "IRM"
          ],
          [
           "ISRG"
          ],
          [
           "IT"
          ],
          [
           "ITW"
          ],
          [
           "IVZ"
          ],
          [
           "JBHT"
          ],
          [
           "JCI"
          ],
          [
           "JEC"
          ],
          [
           "JNJ"
          ],
          [
           "JNPR"
          ],
          [
           "JPM"
          ],
          [
           "JWN"
          ],
          [
           "K"
          ],
          [
           "KEY"
          ],
          [
           "KHC"
          ],
          [
           "KIM"
          ],
          [
           "KLAC"
          ],
          [
           "KMB"
          ],
          [
           "KMI"
          ],
          [
           "KMX"
          ],
          [
           "KO"
          ],
          [
           "KORS"
          ],
          [
           "KR"
          ],
          [
           "KSS"
          ],
          [
           "KSU"
          ],
          [
           "L"
          ],
          [
           "LB"
          ],
          [
           "LEG"
          ],
          [
           "LEN"
          ],
          [
           "LH"
          ],
          [
           "LKQ"
          ],
          [
           "LLL"
          ],
          [
           "LLY"
          ],
          [
           "LMT"
          ],
          [
           "LNC"
          ],
          [
           "LNT"
          ],
          [
           "LOW"
          ],
          [
           "LRCX"
          ],
          [
           "LUK"
          ],
          [
           "LUV"
          ],
          [
           "LYB"
          ],
          [
           "M"
          ],
          [
           "MA"
          ],
          [
           "MAA"
          ],
          [
           "MAC"
          ],
          [
           "MAR"
          ],
          [
           "MAS"
          ],
          [
           "MAT"
          ],
          [
           "MCD"
          ],
          [
           "MCHP"
          ],
          [
           "MCK"
          ],
          [
           "MCO"
          ],
          [
           "MDLZ"
          ],
          [
           "MDT"
          ],
          [
           "MET"
          ],
          [
           "MGM"
          ],
          [
           "MHK"
          ],
          [
           "MKC"
          ],
          [
           "MLM"
          ],
          [
           "MMC"
          ],
          [
           "MMM"
          ],
          [
           "MNST"
          ],
          [
           "MO"
          ],
          [
           "MON"
          ],
          [
           "MOS"
          ],
          [
           "MPC"
          ],
          [
           "MRK"
          ],
          [
           "MRO"
          ],
          [
           "MS"
          ],
          [
           "MSFT"
          ],
          [
           "MSI"
          ],
          [
           "MTB"
          ],
          [
           "MTD"
          ],
          [
           "MU"
          ],
          [
           "MYL"
          ],
          [
           "NAVI"
          ],
          [
           "NBL"
          ],
          [
           "NCLH"
          ],
          [
           "NDAQ"
          ],
          [
           "NEE"
          ],
          [
           "NEM"
          ],
          [
           "NFLX"
          ],
          [
           "NFX"
          ],
          [
           "NI"
          ],
          [
           "NKE"
          ],
          [
           "NLSN"
          ],
          [
           "NOC"
          ],
          [
           "NOV"
          ],
          [
           "NRG"
          ],
          [
           "NSC"
          ],
          [
           "NTAP"
          ],
          [
           "NTRS"
          ],
          [
           "NUE"
          ],
          [
           "NVDA"
          ],
          [
           "NWL"
          ],
          [
           "NWS"
          ],
          [
           "NWSA"
          ],
          [
           "O"
          ],
          [
           "OKE"
          ],
          [
           "OMC"
          ],
          [
           "ORCL"
          ],
          [
           "ORLY"
          ],
          [
           "OXY"
          ],
          [
           "PAYX"
          ],
          [
           "PBCT"
          ],
          [
           "PCAR"
          ],
          [
           "PCG"
          ],
          [
           "PCLN"
          ],
          [
           "PDCO"
          ],
          [
           "PEG"
          ],
          [
           "PEP"
          ],
          [
           "PFE"
          ],
          [
           "PFG"
          ],
          [
           "PG"
          ],
          [
           "PGR"
          ],
          [
           "PH"
          ],
          [
           "PHM"
          ],
          [
           "PKG"
          ],
          [
           "PKI"
          ],
          [
           "PLD"
          ],
          [
           "PM"
          ],
          [
           "PNC"
          ],
          [
           "PNR"
          ],
          [
           "PNW"
          ],
          [
           "PPG"
          ],
          [
           "PPL"
          ],
          [
           "PRGO"
          ],
          [
           "PRU"
          ],
          [
           "PSA"
          ],
          [
           "PSX"
          ],
          [
           "PVH"
          ],
          [
           "PWR"
          ],
          [
           "PX"
          ],
          [
           "PXD"
          ],
          [
           "PYPL"
          ],
          [
           "QCOM"
          ],
          [
           "QRVO"
          ],
          [
           "RCL"
          ],
          [
           "RE"
          ],
          [
           "REG"
          ],
          [
           "REGN"
          ],
          [
           "RF"
          ],
          [
           "RHI"
          ],
          [
           "RHT"
          ],
          [
           "RJF"
          ],
          [
           "RL"
          ],
          [
           "RMD"
          ],
          [
           "ROK"
          ],
          [
           "ROP"
          ],
          [
           "ROST"
          ],
          [
           "RRC"
          ],
          [
           "RSG"
          ],
          [
           "RTN"
          ],
          [
           "SBAC"
          ],
          [
           "SBUX"
          ],
          [
           "SCG"
          ],
          [
           "SCHW"
          ],
          [
           "SEE"
          ],
          [
           "SHW"
          ],
          [
           "SIG"
          ],
          [
           "SJM"
          ],
          [
           "SLB"
          ],
          [
           "SLG"
          ],
          [
           "SNA"
          ],
          [
           "SNI"
          ],
          [
           "SNPS"
          ],
          [
           "SO"
          ],
          [
           "SPG"
          ],
          [
           "SPGI"
          ],
          [
           "SRCL"
          ],
          [
           "SRE"
          ],
          [
           "STI"
          ],
          [
           "STT"
          ],
          [
           "STX"
          ],
          [
           "STZ"
          ],
          [
           "SWK"
          ],
          [
           "SWKS"
          ],
          [
           "SYF"
          ],
          [
           "SYK"
          ],
          [
           "SYMC"
          ],
          [
           "SYY"
          ],
          [
           "T"
          ],
          [
           "TAP"
          ],
          [
           "TDG"
          ],
          [
           "TEL"
          ],
          [
           "TGT"
          ],
          [
           "TIF"
          ],
          [
           "TJX"
          ],
          [
           "TMK"
          ],
          [
           "TMO"
          ],
          [
           "TPR"
          ],
          [
           "TRIP"
          ],
          [
           "TROW"
          ],
          [
           "TRV"
          ],
          [
           "TSCO"
          ],
          [
           "TSN"
          ],
          [
           "TSS"
          ],
          [
           "TWX"
          ],
          [
           "TXN"
          ],
          [
           "TXT"
          ],
          [
           "UA"
          ],
          [
           "UAA"
          ],
          [
           "UAL"
          ],
          [
           "UDR"
          ],
          [
           "UHS"
          ],
          [
           "ULTA"
          ],
          [
           "UNH"
          ],
          [
           "UNM"
          ],
          [
           "UNP"
          ],
          [
           "UPS"
          ],
          [
           "URI"
          ],
          [
           "USB"
          ],
          [
           "UTX"
          ],
          [
           "V"
          ],
          [
           "VAR"
          ],
          [
           "VFC"
          ],
          [
           "VIAB"
          ],
          [
           "VLO"
          ],
          [
           "VMC"
          ],
          [
           "VNO"
          ],
          [
           "VRSK"
          ],
          [
           "VRSN"
          ],
          [
           "VRTX"
          ],
          [
           "VTR"
          ],
          [
           "VZ"
          ],
          [
           "WAT"
          ],
          [
           "WBA"
          ],
          [
           "WDC"
          ],
          [
           "WEC"
          ],
          [
           "WFC"
          ],
          [
           "WHR"
          ],
          [
           "WLTW"
          ],
          [
           "WM"
          ],
          [
           "WMB"
          ],
          [
           "WMT"
          ],
          [
           "WRK"
          ],
          [
           "WU"
          ],
          [
           "WY"
          ],
          [
           "WYN"
          ],
          [
           "WYNN"
          ],
          [
           "XEC"
          ],
          [
           "XEL"
          ],
          [
           "XL"
          ],
          [
           "XLNX"
          ],
          [
           "XOM"
          ],
          [
           "XRAY"
          ],
          [
           "XRX"
          ],
          [
           "XYL"
          ],
          [
           "YUM"
          ],
          [
           "ZBH"
          ],
          [
           "ZION"
          ],
          [
           "ZTS"
          ]
         ],
         "hovertemplate": "volatility=%{x}<br>avg_return=%{y}<br>symbol=%{customdata[0]}<br>cluster=%{marker.color}<extra></extra>",
         "legendgroup": "",
         "marker": {
          "color": {
           "bdata": "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",
           "dtype": "i4"
          },
          "coloraxis": "coloraxis",
          "symbol": "circle"
         },
         "mode": "markers",
         "name": "",
         "orientation": "v",
         "showlegend": false,
         "type": "scatter",
         "x": {
          "bdata": "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",
          "dtype": "f8"
         },
         "xaxis": "x",
         "y": {
          "bdata": "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",
          "dtype": "f8"
         },
         "yaxis": "y"
        }
       ],
       "layout": {
        "coloraxis": {
         "colorbar": {
          "title": {
           "text": "cluster"
          }
         },
         "colorscale": [
          [
           0,
           "#0d0887"
          ],
          [
           0.1111111111111111,
           "#46039f"
          ],
          [
           0.2222222222222222,
           "#7201a8"
          ],
          [
           0.3333333333333333,
           "#9c179e"
          ],
          [
           0.4444444444444444,
           "#bd3786"
          ],
          [
           0.5555555555555556,
           "#d8576b"
          ],
          [
           0.6666666666666666,
           "#ed7953"
          ],
          [
           0.7777777777777778,
           "#fb9f3a"
          ],
          [
           0.8888888888888888,
           "#fdca26"
          ],
          [
           1,
           "#f0f921"
          ]
         ]
        },
        "legend": {
         "tracegroupgap": 0
        },
        "template": {
         "data": {
          "bar": [
           {
            "error_x": {
             "color": "#2a3f5f"
            },
            "error_y": {
             "color": "#2a3f5f"
            },
            "marker": {
             "line": {
              "color": "#E5ECF6",
              "width": 0.5
             },
             "pattern": {
              "fillmode": "overlay",
              "size": 10,
              "solidity": 0.2
             }
            },
            "type": "bar"
           }
          ],
          "barpolar": [
           {
            "marker": {
             "line": {
              "color": "#E5ECF6",
              "width": 0.5
             },
             "pattern": {
              "fillmode": "overlay",
              "size": 10,
              "solidity": 0.2
             }
            },
            "type": "barpolar"
           }
          ],
          "carpet": [
           {
            "aaxis": {
             "endlinecolor": "#2a3f5f",
             "gridcolor": "white",
             "linecolor": "white",
             "minorgridcolor": "white",
             "startlinecolor": "#2a3f5f"
            },
            "baxis": {
             "endlinecolor": "#2a3f5f",
             "gridcolor": "white",
             "linecolor": "white",
             "minorgridcolor": "white",
             "startlinecolor": "#2a3f5f"
            },
            "type": "carpet"
           }
          ],
          "choropleth": [
           {
            "colorbar": {
             "outlinewidth": 0,
             "ticks": ""
            },
            "type": "choropleth"
           }
          ],
          "contour": [
           {
            "colorbar": {
             "outlinewidth": 0,
             "ticks": ""
            },
            "colorscale": [
             [
              0,
              "#0d0887"
             ],
             [
              0.1111111111111111,
              "#46039f"
             ],
             [
              0.2222222222222222,
              "#7201a8"
             ],
             [
              0.3333333333333333,
              "#9c179e"
             ],
             [
              0.4444444444444444,
              "#bd3786"
             ],
             [
              0.5555555555555556,
              "#d8576b"
             ],
             [
              0.6666666666666666,
              "#ed7953"
             ],
             [
              0.7777777777777778,
              "#fb9f3a"
             ],
             [
              0.8888888888888888,
              "#fdca26"
             ],
             [
              1,
              "#f0f921"
             ]
            ],
            "type": "contour"
           }
          ],
          "contourcarpet": [
           {
            "colorbar": {
             "outlinewidth": 0,
             "ticks": ""
            },
            "type": "contourcarpet"
           }
          ],
          "heatmap": [
           {
            "colorbar": {
             "outlinewidth": 0,
             "ticks": ""
            },
            "colorscale": [
             [
              0,
              "#0d0887"
             ],
             [
              0.1111111111111111,
              "#46039f"
             ],
             [
              0.2222222222222222,
              "#7201a8"
             ],
             [
              0.3333333333333333,
              "#9c179e"
             ],
             [
              0.4444444444444444,
              "#bd3786"
             ],
             [
              0.5555555555555556,
              "#d8576b"
             ],
             [
              0.6666666666666666,
              "#ed7953"
             ],
             [
              0.7777777777777778,
              "#fb9f3a"
             ],
             [
              0.8888888888888888,
              "#fdca26"
             ],
             [
              1,
              "#f0f921"
             ]
            ],
            "type": "heatmap"
           }
          ],
          "histogram": [
           {
            "marker": {
             "pattern": {
              "fillmode": "overlay",
              "size": 10,
              "solidity": 0.2
             }
            },
            "type": "histogram"
           }
          ],
          "histogram2d": [
           {
            "colorbar": {
             "outlinewidth": 0,
             "ticks": ""
            },
            "colorscale": [
             [
              0,
              "#0d0887"
             ],
             [
              0.1111111111111111,
              "#46039f"
             ],
             [
              0.2222222222222222,
              "#7201a8"
             ],
             [
              0.3333333333333333,
              "#9c179e"
             ],
             [
              0.4444444444444444,
              "#bd3786"
             ],
             [
              0.5555555555555556,
              "#d8576b"
             ],
             [
              0.6666666666666666,
              "#ed7953"
             ],
             [
              0.7777777777777778,
              "#fb9f3a"
             ],
             [
              0.8888888888888888,
              "#fdca26"
             ],
             [
              1,
              "#f0f921"
             ]
            ],
            "type": "histogram2d"
           }
          ],
          "histogram2dcontour": [
           {
            "colorbar": {
             "outlinewidth": 0,
             "ticks": ""
            },
            "colorscale": [
             [
              0,
              "#0d0887"
             ],
             [
              0.1111111111111111,
              "#46039f"
             ],
             [
              0.2222222222222222,
              "#7201a8"
             ],
             [
              0.3333333333333333,
              "#9c179e"
             ],
             [
              0.4444444444444444,
              "#bd3786"
             ],
             [
              0.5555555555555556,
              "#d8576b"
             ],
             [
              0.6666666666666666,
              "#ed7953"
             ],
             [
              0.7777777777777778,
              "#fb9f3a"
             ],
             [
              0.8888888888888888,
              "#fdca26"
             ],
             [
              1,
              "#f0f921"
             ]
            ],
            "type": "histogram2dcontour"
           }
          ],
          "mesh3d": [
           {
            "colorbar": {
             "outlinewidth": 0,
             "ticks": ""
            },
            "type": "mesh3d"
           }
          ],
          "parcoords": [
           {
            "line": {
             "colorbar": {
              "outlinewidth": 0,
              "ticks": ""
             }
            },
            "type": "parcoords"
           }
          ],
          "pie": [
           {
            "automargin": true,
            "type": "pie"
           }
          ],
          "scatter": [
           {
            "fillpattern": {
             "fillmode": "overlay",
             "size": 10,
             "solidity": 0.2
            },
            "type": "scatter"
           }
          ],
          "scatter3d": [
           {
            "line": {
             "colorbar": {
              "outlinewidth": 0,
              "ticks": ""
             }
            },
            "marker": {
             "colorbar": {
              "outlinewidth": 0,
              "ticks": ""
             }
            },
            "type": "scatter3d"
           }
          ],
          "scattercarpet": [
           {
            "marker": {
             "colorbar": {
              "outlinewidth": 0,
              "ticks": ""
             }
            },
            "type": "scattercarpet"
           }
          ],
          "scattergeo": [
           {
            "marker": {
             "colorbar": {
              "outlinewidth": 0,
              "ticks": ""
             }
            },
            "type": "scattergeo"
           }
          ],
          "scattergl": [
           {
            "marker": {
             "colorbar": {
              "outlinewidth": 0,
              "ticks": ""
             }
            },
            "type": "scattergl"
           }
          ],
          "scattermap": [
           {
            "marker": {
             "colorbar": {
              "outlinewidth": 0,
              "ticks": ""
             }
            },
            "type": "scattermap"
           }
          ],
          "scattermapbox": [
           {
            "marker": {
             "colorbar": {
              "outlinewidth": 0,
              "ticks": ""
             }
            },
            "type": "scattermapbox"
           }
          ],
          "scatterpolar": [
           {
            "marker": {
             "colorbar": {
              "outlinewidth": 0,
              "ticks": ""
             }
            },
            "type": "scatterpolar"
           }
          ],
          "scatterpolargl": [
           {
            "marker": {
             "colorbar": {
              "outlinewidth": 0,
              "ticks": ""
             }
            },
            "type": "scatterpolargl"
           }
          ],
          "scatterternary": [
           {
            "marker": {
             "colorbar": {
              "outlinewidth": 0,
              "ticks": ""
             }
            },
            "type": "scatterternary"
           }
          ],
          "surface": [
           {
            "colorbar": {
             "outlinewidth": 0,
             "ticks": ""
            },
            "colorscale": [
             [
              0,
              "#0d0887"
             ],
             [
              0.1111111111111111,
              "#46039f"
             ],
             [
              0.2222222222222222,
              "#7201a8"
             ],
             [
              0.3333333333333333,
              "#9c179e"
             ],
             [
              0.4444444444444444,
              "#bd3786"
             ],
             [
              0.5555555555555556,
              "#d8576b"
             ],
             [
              0.6666666666666666,
              "#ed7953"
             ],
             [
              0.7777777777777778,
              "#fb9f3a"
             ],
             [
              0.8888888888888888,
              "#fdca26"
             ],
             [
              1,
              "#f0f921"
             ]
            ],
            "type": "surface"
           }
          ],
          "table": [
           {
            "cells": {
             "fill": {
              "color": "#EBF0F8"
             },
             "line": {
              "color": "white"
             }
            },
            "header": {
             "fill": {
              "color": "#C8D4E3"
             },
             "line": {
              "color": "white"
             }
            },
            "type": "table"
           }
          ]
         },
         "layout": {
          "annotationdefaults": {
           "arrowcolor": "#2a3f5f",
           "arrowhead": 0,
           "arrowwidth": 1
          },
          "autotypenumbers": "strict",
          "coloraxis": {
           "colorbar": {
            "outlinewidth": 0,
            "ticks": ""
           }
          },
          "colorscale": {
           "diverging": [
            [
             0,
             "#8e0152"
            ],
            [
             0.1,
             "#c51b7d"
            ],
            [
             0.2,
             "#de77ae"
            ],
            [
             0.3,
             "#f1b6da"
            ],
            [
             0.4,
             "#fde0ef"
            ],
            [
             0.5,
             "#f7f7f7"
            ],
            [
             0.6,
             "#e6f5d0"
            ],
            [
             0.7,
             "#b8e186"
            ],
            [
             0.8,
             "#7fbc41"
            ],
            [
             0.9,
             "#4d9221"
            ],
            [
             1,
             "#276419"
            ]
           ],
           "sequential": [
            [
             0,
             "#0d0887"
            ],
            [
             0.1111111111111111,
             "#46039f"
            ],
            [
             0.2222222222222222,
             "#7201a8"
            ],
            [
             0.3333333333333333,
             "#9c179e"
            ],
            [
             0.4444444444444444,
             "#bd3786"
            ],
            [
             0.5555555555555556,
             "#d8576b"
            ],
            [
             0.6666666666666666,
             "#ed7953"
            ],
            [
             0.7777777777777778,
             "#fb9f3a"
            ],
            [
             0.8888888888888888,
             "#fdca26"
            ],
            [
             1,
             "#f0f921"
            ]
           ],
           "sequentialminus": [
            [
             0,
             "#0d0887"
            ],
            [
             0.1111111111111111,
             "#46039f"
            ],
            [
             0.2222222222222222,
             "#7201a8"
            ],
            [
             0.3333333333333333,
             "#9c179e"
            ],
            [
             0.4444444444444444,
             "#bd3786"
            ],
            [
             0.5555555555555556,
             "#d8576b"
            ],
            [
             0.6666666666666666,
             "#ed7953"
            ],
            [
             0.7777777777777778,
             "#fb9f3a"
            ],
            [
             0.8888888888888888,
             "#fdca26"
            ],
            [
             1,
             "#f0f921"
            ]
           ]
          },
          "colorway": [
           "#636efa",
           "#EF553B",
           "#00cc96",
           "#ab63fa",
           "#FFA15A",
           "#19d3f3",
           "#FF6692",
           "#B6E880",
           "#FF97FF",
           "#FECB52"
          ],
          "font": {
           "color": "#2a3f5f"
          },
          "geo": {
           "bgcolor": "white",
           "lakecolor": "white",
           "landcolor": "#E5ECF6",
           "showlakes": true,
           "showland": true,
           "subunitcolor": "white"
          },
          "hoverlabel": {
           "align": "left"
          },
          "hovermode": "closest",
          "mapbox": {
           "style": "light"
          },
          "paper_bgcolor": "white",
          "plot_bgcolor": "#E5ECF6",
          "polar": {
           "angularaxis": {
            "gridcolor": "white",
            "linecolor": "white",
            "ticks": ""
           },
           "bgcolor": "#E5ECF6",
           "radialaxis": {
            "gridcolor": "white",
            "linecolor": "white",
            "ticks": ""
           }
          },
          "scene": {
           "xaxis": {
            "backgroundcolor": "#E5ECF6",
            "gridcolor": "white",
            "gridwidth": 2,
            "linecolor": "white",
            "showbackground": true,
            "ticks": "",
            "zerolinecolor": "white"
           },
           "yaxis": {
            "backgroundcolor": "#E5ECF6",
            "gridcolor": "white",
            "gridwidth": 2,
            "linecolor": "white",
            "showbackground": true,
            "ticks": "",
            "zerolinecolor": "white"
           },
           "zaxis": {
            "backgroundcolor": "#E5ECF6",
            "gridcolor": "white",
            "gridwidth": 2,
            "linecolor": "white",
            "showbackground": true,
            "ticks": "",
            "zerolinecolor": "white"
           }
          },
          "shapedefaults": {
           "line": {
            "color": "#2a3f5f"
           }
          },
          "ternary": {
           "aaxis": {
            "gridcolor": "white",
            "linecolor": "white",
            "ticks": ""
           },
           "baxis": {
            "gridcolor": "white",
            "linecolor": "white",
            "ticks": ""
           },
           "bgcolor": "#E5ECF6",
           "caxis": {
            "gridcolor": "white",
            "linecolor": "white",
            "ticks": ""
           }
          },
          "title": {
           "x": 0.05
          },
          "xaxis": {
           "automargin": true,
           "gridcolor": "white",
           "linecolor": "white",
           "ticks": "",
           "title": {
            "standoff": 15
           },
           "zerolinecolor": "white",
           "zerolinewidth": 2
          },
          "yaxis": {
           "automargin": true,
           "gridcolor": "white",
           "linecolor": "white",
           "ticks": "",
           "title": {
            "standoff": 15
           },
           "zerolinecolor": "white",
           "zerolinewidth": 2
          }
         }
        },
        "title": {
         "text": "Stock Clusters"
        },
        "xaxis": {
         "anchor": "y",
         "domain": [
          0,
          1
         ],
         "title": {
          "text": "volatility"
         }
        },
        "yaxis": {
         "anchor": "x",
         "domain": [
          0,
          1
         ],
         "title": {
          "text": "avg_return"
         }
        }
       }
      }
     },
     "metadata": {},
     "output_type": "display_data"
    }
   ],
   "source": [
    "import plotly.express as px\n",
    "\n",
    "fig = px.scatter(\n",
    "    new.reset_index(),                    # reset_index so 'symbol' becomes a column\n",
    "    x='volatility',\n",
    "    y='avg_return',\n",
    "    color='cluster',\n",
    "    hover_data=['symbol'],                # shows stock symbol on hover\n",
    "    title='Stock Clusters'\n",
    ")\n",
    "\n",
    "fig.show()\n"
   ]
  },
  {
   "cell_type": "markdown",
   "id": "2894227b",
   "metadata": {},
   "source": [
    "- Volatile is basically risk"
   ]
  },
  {
   "cell_type": "code",
   "execution_count": null,
   "id": "2461f0bd",
   "metadata": {},
   "outputs": [],
   "source": []
  }
 ],
 "metadata": {
  "kernelspec": {
   "display_name": "venv",
   "language": "python",
   "name": "python3"
  },
  "language_info": {
   "codemirror_mode": {
    "name": "ipython",
    "version": 3
   },
   "file_extension": ".py",
   "mimetype": "text/x-python",
   "name": "python",
   "nbconvert_exporter": "python",
   "pygments_lexer": "ipython3",
   "version": "3.12.4"
  }
 },
 "nbformat": 4,
 "nbformat_minor": 5
}
