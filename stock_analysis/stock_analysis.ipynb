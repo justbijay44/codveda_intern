{
 "cells": [
  {
   "cell_type": "code",
   "execution_count": 1,
   "id": "d1ed918a",
   "metadata": {},
   "outputs": [],
   "source": [
    "import pandas as pd\n",
    "import numpy as np\n",
    "import matplotlib.pyplot as plt\n",
    "import seaborn as sns"
   ]
  },
  {
   "cell_type": "code",
   "execution_count": 2,
   "id": "e8e85253",
   "metadata": {},
   "outputs": [],
   "source": [
    "stock_df = pd.read_csv(\"data/stock_price.csv\")"
   ]
  },
  {
   "cell_type": "markdown",
   "id": "80b2f4b2",
   "metadata": {},
   "source": [
    "## Understanding Dataset"
   ]
  },
  {
   "cell_type": "code",
   "execution_count": 3,
   "id": "278651da",
   "metadata": {},
   "outputs": [
    {
     "data": {
      "text/html": [
       "<div>\n",
       "<style scoped>\n",
       "    .dataframe tbody tr th:only-of-type {\n",
       "        vertical-align: middle;\n",
       "    }\n",
       "\n",
       "    .dataframe tbody tr th {\n",
       "        vertical-align: top;\n",
       "    }\n",
       "\n",
       "    .dataframe thead th {\n",
       "        text-align: right;\n",
       "    }\n",
       "</style>\n",
       "<table border=\"1\" class=\"dataframe\">\n",
       "  <thead>\n",
       "    <tr style=\"text-align: right;\">\n",
       "      <th></th>\n",
       "      <th>symbol</th>\n",
       "      <th>date</th>\n",
       "      <th>open</th>\n",
       "      <th>high</th>\n",
       "      <th>low</th>\n",
       "      <th>close</th>\n",
       "      <th>volume</th>\n",
       "    </tr>\n",
       "  </thead>\n",
       "  <tbody>\n",
       "    <tr>\n",
       "      <th>0</th>\n",
       "      <td>AAL</td>\n",
       "      <td>2014-01-02</td>\n",
       "      <td>25.0700</td>\n",
       "      <td>25.8200</td>\n",
       "      <td>25.0600</td>\n",
       "      <td>25.3600</td>\n",
       "      <td>8998943</td>\n",
       "    </tr>\n",
       "    <tr>\n",
       "      <th>1</th>\n",
       "      <td>AAPL</td>\n",
       "      <td>2014-01-02</td>\n",
       "      <td>79.3828</td>\n",
       "      <td>79.5756</td>\n",
       "      <td>78.8601</td>\n",
       "      <td>79.0185</td>\n",
       "      <td>58791957</td>\n",
       "    </tr>\n",
       "    <tr>\n",
       "      <th>2</th>\n",
       "      <td>AAP</td>\n",
       "      <td>2014-01-02</td>\n",
       "      <td>110.3600</td>\n",
       "      <td>111.8800</td>\n",
       "      <td>109.2900</td>\n",
       "      <td>109.7400</td>\n",
       "      <td>542711</td>\n",
       "    </tr>\n",
       "    <tr>\n",
       "      <th>3</th>\n",
       "      <td>ABBV</td>\n",
       "      <td>2014-01-02</td>\n",
       "      <td>52.1200</td>\n",
       "      <td>52.3300</td>\n",
       "      <td>51.5200</td>\n",
       "      <td>51.9800</td>\n",
       "      <td>4569061</td>\n",
       "    </tr>\n",
       "    <tr>\n",
       "      <th>4</th>\n",
       "      <td>ABC</td>\n",
       "      <td>2014-01-02</td>\n",
       "      <td>70.1100</td>\n",
       "      <td>70.2300</td>\n",
       "      <td>69.4800</td>\n",
       "      <td>69.8900</td>\n",
       "      <td>1148391</td>\n",
       "    </tr>\n",
       "  </tbody>\n",
       "</table>\n",
       "</div>"
      ],
      "text/plain": [
       "  symbol        date      open      high       low     close    volume\n",
       "0    AAL  2014-01-02   25.0700   25.8200   25.0600   25.3600   8998943\n",
       "1   AAPL  2014-01-02   79.3828   79.5756   78.8601   79.0185  58791957\n",
       "2    AAP  2014-01-02  110.3600  111.8800  109.2900  109.7400    542711\n",
       "3   ABBV  2014-01-02   52.1200   52.3300   51.5200   51.9800   4569061\n",
       "4    ABC  2014-01-02   70.1100   70.2300   69.4800   69.8900   1148391"
      ]
     },
     "execution_count": 3,
     "metadata": {},
     "output_type": "execute_result"
    }
   ],
   "source": [
    "stock_df.head()"
   ]
  },
  {
   "cell_type": "code",
   "execution_count": 4,
   "id": "842d94c2",
   "metadata": {},
   "outputs": [
    {
     "name": "stdout",
     "output_type": "stream",
     "text": [
      "<class 'pandas.core.frame.DataFrame'>\n",
      "RangeIndex: 497472 entries, 0 to 497471\n",
      "Data columns (total 7 columns):\n",
      " #   Column  Non-Null Count   Dtype  \n",
      "---  ------  --------------   -----  \n",
      " 0   symbol  497472 non-null  object \n",
      " 1   date    497472 non-null  object \n",
      " 2   open    497461 non-null  float64\n",
      " 3   high    497464 non-null  float64\n",
      " 4   low     497464 non-null  float64\n",
      " 5   close   497472 non-null  float64\n",
      " 6   volume  497472 non-null  int64  \n",
      "dtypes: float64(4), int64(1), object(2)\n",
      "memory usage: 26.6+ MB\n"
     ]
    }
   ],
   "source": [
    "stock_df.info()"
   ]
  },
  {
   "cell_type": "markdown",
   "id": "dd062ddf",
   "metadata": {},
   "source": [
    "- date is object, convert to datetime"
   ]
  },
  {
   "cell_type": "code",
   "execution_count": 5,
   "id": "640c5c57",
   "metadata": {},
   "outputs": [
    {
     "data": {
      "text/plain": [
       "symbol     0\n",
       "date       0\n",
       "open      11\n",
       "high       8\n",
       "low        8\n",
       "close      0\n",
       "volume     0\n",
       "dtype: int64"
      ]
     },
     "execution_count": 5,
     "metadata": {},
     "output_type": "execute_result"
    }
   ],
   "source": [
    "stock_df.isnull().sum()"
   ]
  },
  {
   "cell_type": "markdown",
   "id": "61d024df",
   "metadata": {},
   "source": [
    "- Very small number of value are missing we will remove them"
   ]
  },
  {
   "cell_type": "code",
   "execution_count": 6,
   "id": "26e2c4b9",
   "metadata": {},
   "outputs": [
    {
     "data": {
      "text/plain": [
       "np.int64(0)"
      ]
     },
     "execution_count": 6,
     "metadata": {},
     "output_type": "execute_result"
    }
   ],
   "source": [
    "stock_df.duplicated().sum()"
   ]
  },
  {
   "cell_type": "code",
   "execution_count": 7,
   "id": "d8c4bc31",
   "metadata": {},
   "outputs": [],
   "source": [
    "stock_df.dropna(inplace=True)"
   ]
  },
  {
   "cell_type": "code",
   "execution_count": 8,
   "id": "b9c3dd02",
   "metadata": {},
   "outputs": [],
   "source": [
    "stock_df['date'] = pd.to_datetime(stock_df['date'])"
   ]
  },
  {
   "cell_type": "code",
   "execution_count": 9,
   "id": "d1299c0b",
   "metadata": {},
   "outputs": [
    {
     "name": "stdout",
     "output_type": "stream",
     "text": [
      "<class 'pandas.core.frame.DataFrame'>\n",
      "Index: 497461 entries, 0 to 497471\n",
      "Data columns (total 7 columns):\n",
      " #   Column  Non-Null Count   Dtype         \n",
      "---  ------  --------------   -----         \n",
      " 0   symbol  497461 non-null  object        \n",
      " 1   date    497461 non-null  datetime64[ns]\n",
      " 2   open    497461 non-null  float64       \n",
      " 3   high    497461 non-null  float64       \n",
      " 4   low     497461 non-null  float64       \n",
      " 5   close   497461 non-null  float64       \n",
      " 6   volume  497461 non-null  int64         \n",
      "dtypes: datetime64[ns](1), float64(4), int64(1), object(1)\n",
      "memory usage: 30.4+ MB\n"
     ]
    }
   ],
   "source": [
    "stock_df.info()"
   ]
  },
  {
   "cell_type": "code",
   "execution_count": 10,
   "id": "637ca2b3",
   "metadata": {},
   "outputs": [],
   "source": [
    "stock_df = stock_df.set_index('date')"
   ]
  },
  {
   "cell_type": "code",
   "execution_count": 11,
   "id": "cf28ebd6",
   "metadata": {},
   "outputs": [
    {
     "data": {
      "text/html": [
       "<div>\n",
       "<style scoped>\n",
       "    .dataframe tbody tr th:only-of-type {\n",
       "        vertical-align: middle;\n",
       "    }\n",
       "\n",
       "    .dataframe tbody tr th {\n",
       "        vertical-align: top;\n",
       "    }\n",
       "\n",
       "    .dataframe thead th {\n",
       "        text-align: right;\n",
       "    }\n",
       "</style>\n",
       "<table border=\"1\" class=\"dataframe\">\n",
       "  <thead>\n",
       "    <tr style=\"text-align: right;\">\n",
       "      <th></th>\n",
       "      <th>symbol</th>\n",
       "      <th>open</th>\n",
       "      <th>high</th>\n",
       "      <th>low</th>\n",
       "      <th>close</th>\n",
       "      <th>volume</th>\n",
       "    </tr>\n",
       "    <tr>\n",
       "      <th>date</th>\n",
       "      <th></th>\n",
       "      <th></th>\n",
       "      <th></th>\n",
       "      <th></th>\n",
       "      <th></th>\n",
       "      <th></th>\n",
       "    </tr>\n",
       "  </thead>\n",
       "  <tbody>\n",
       "    <tr>\n",
       "      <th>2014-01-02</th>\n",
       "      <td>AAL</td>\n",
       "      <td>25.0700</td>\n",
       "      <td>25.8200</td>\n",
       "      <td>25.0600</td>\n",
       "      <td>25.3600</td>\n",
       "      <td>8998943</td>\n",
       "    </tr>\n",
       "    <tr>\n",
       "      <th>2014-01-02</th>\n",
       "      <td>AAPL</td>\n",
       "      <td>79.3828</td>\n",
       "      <td>79.5756</td>\n",
       "      <td>78.8601</td>\n",
       "      <td>79.0185</td>\n",
       "      <td>58791957</td>\n",
       "    </tr>\n",
       "    <tr>\n",
       "      <th>2014-01-02</th>\n",
       "      <td>AAP</td>\n",
       "      <td>110.3600</td>\n",
       "      <td>111.8800</td>\n",
       "      <td>109.2900</td>\n",
       "      <td>109.7400</td>\n",
       "      <td>542711</td>\n",
       "    </tr>\n",
       "    <tr>\n",
       "      <th>2014-01-02</th>\n",
       "      <td>ABBV</td>\n",
       "      <td>52.1200</td>\n",
       "      <td>52.3300</td>\n",
       "      <td>51.5200</td>\n",
       "      <td>51.9800</td>\n",
       "      <td>4569061</td>\n",
       "    </tr>\n",
       "    <tr>\n",
       "      <th>2014-01-02</th>\n",
       "      <td>ABC</td>\n",
       "      <td>70.1100</td>\n",
       "      <td>70.2300</td>\n",
       "      <td>69.4800</td>\n",
       "      <td>69.8900</td>\n",
       "      <td>1148391</td>\n",
       "    </tr>\n",
       "  </tbody>\n",
       "</table>\n",
       "</div>"
      ],
      "text/plain": [
       "           symbol      open      high       low     close    volume\n",
       "date                                                               \n",
       "2014-01-02    AAL   25.0700   25.8200   25.0600   25.3600   8998943\n",
       "2014-01-02   AAPL   79.3828   79.5756   78.8601   79.0185  58791957\n",
       "2014-01-02    AAP  110.3600  111.8800  109.2900  109.7400    542711\n",
       "2014-01-02   ABBV   52.1200   52.3300   51.5200   51.9800   4569061\n",
       "2014-01-02    ABC   70.1100   70.2300   69.4800   69.8900   1148391"
      ]
     },
     "execution_count": 11,
     "metadata": {},
     "output_type": "execute_result"
    }
   ],
   "source": [
    "stock_df.head()"
   ]
  },
  {
   "cell_type": "code",
   "execution_count": 12,
   "id": "3ee20a38",
   "metadata": {},
   "outputs": [
    {
     "name": "stdout",
     "output_type": "stream",
     "text": [
      "2014-01-02 00:00:00\n",
      "2017-12-29 00:00:00\n"
     ]
    }
   ],
   "source": [
    "print(stock_df.index.min())\n",
    "print(stock_df.index.max())"
   ]
  },
  {
   "cell_type": "code",
   "execution_count": 13,
   "id": "fa4d7220",
   "metadata": {},
   "outputs": [
    {
     "data": {
      "text/html": [
       "<div>\n",
       "<style scoped>\n",
       "    .dataframe tbody tr th:only-of-type {\n",
       "        vertical-align: middle;\n",
       "    }\n",
       "\n",
       "    .dataframe tbody tr th {\n",
       "        vertical-align: top;\n",
       "    }\n",
       "\n",
       "    .dataframe thead th {\n",
       "        text-align: right;\n",
       "    }\n",
       "</style>\n",
       "<table border=\"1\" class=\"dataframe\">\n",
       "  <thead>\n",
       "    <tr style=\"text-align: right;\">\n",
       "      <th></th>\n",
       "      <th>symbol</th>\n",
       "      <th>open</th>\n",
       "      <th>high</th>\n",
       "      <th>low</th>\n",
       "      <th>close</th>\n",
       "      <th>volume</th>\n",
       "    </tr>\n",
       "    <tr>\n",
       "      <th>date</th>\n",
       "      <th></th>\n",
       "      <th></th>\n",
       "      <th></th>\n",
       "      <th></th>\n",
       "      <th></th>\n",
       "      <th></th>\n",
       "    </tr>\n",
       "  </thead>\n",
       "  <tbody>\n",
       "    <tr>\n",
       "      <th>2014-01-02</th>\n",
       "      <td>AAL</td>\n",
       "      <td>25.0700</td>\n",
       "      <td>25.8200</td>\n",
       "      <td>25.0600</td>\n",
       "      <td>25.3600</td>\n",
       "      <td>8998943</td>\n",
       "    </tr>\n",
       "    <tr>\n",
       "      <th>2014-01-02</th>\n",
       "      <td>AAPL</td>\n",
       "      <td>79.3828</td>\n",
       "      <td>79.5756</td>\n",
       "      <td>78.8601</td>\n",
       "      <td>79.0185</td>\n",
       "      <td>58791957</td>\n",
       "    </tr>\n",
       "    <tr>\n",
       "      <th>2014-01-02</th>\n",
       "      <td>AAP</td>\n",
       "      <td>110.3600</td>\n",
       "      <td>111.8800</td>\n",
       "      <td>109.2900</td>\n",
       "      <td>109.7400</td>\n",
       "      <td>542711</td>\n",
       "    </tr>\n",
       "    <tr>\n",
       "      <th>2014-01-02</th>\n",
       "      <td>ABBV</td>\n",
       "      <td>52.1200</td>\n",
       "      <td>52.3300</td>\n",
       "      <td>51.5200</td>\n",
       "      <td>51.9800</td>\n",
       "      <td>4569061</td>\n",
       "    </tr>\n",
       "    <tr>\n",
       "      <th>2014-01-02</th>\n",
       "      <td>ABC</td>\n",
       "      <td>70.1100</td>\n",
       "      <td>70.2300</td>\n",
       "      <td>69.4800</td>\n",
       "      <td>69.8900</td>\n",
       "      <td>1148391</td>\n",
       "    </tr>\n",
       "    <tr>\n",
       "      <th>...</th>\n",
       "      <td>...</td>\n",
       "      <td>...</td>\n",
       "      <td>...</td>\n",
       "      <td>...</td>\n",
       "      <td>...</td>\n",
       "      <td>...</td>\n",
       "    </tr>\n",
       "    <tr>\n",
       "      <th>2014-12-31</th>\n",
       "      <td>XYL</td>\n",
       "      <td>38.6500</td>\n",
       "      <td>38.6500</td>\n",
       "      <td>38.0400</td>\n",
       "      <td>38.0700</td>\n",
       "      <td>466877</td>\n",
       "    </tr>\n",
       "    <tr>\n",
       "      <th>2014-12-31</th>\n",
       "      <td>YUM</td>\n",
       "      <td>73.4200</td>\n",
       "      <td>73.7700</td>\n",
       "      <td>72.7800</td>\n",
       "      <td>72.8500</td>\n",
       "      <td>1539425</td>\n",
       "    </tr>\n",
       "    <tr>\n",
       "      <th>2014-12-31</th>\n",
       "      <td>ZBH</td>\n",
       "      <td>115.0600</td>\n",
       "      <td>115.7500</td>\n",
       "      <td>113.3900</td>\n",
       "      <td>113.4200</td>\n",
       "      <td>694720</td>\n",
       "    </tr>\n",
       "    <tr>\n",
       "      <th>2014-12-31</th>\n",
       "      <td>ZION</td>\n",
       "      <td>28.6800</td>\n",
       "      <td>28.7700</td>\n",
       "      <td>28.4900</td>\n",
       "      <td>28.5100</td>\n",
       "      <td>1470851</td>\n",
       "    </tr>\n",
       "    <tr>\n",
       "      <th>2014-12-31</th>\n",
       "      <td>ZTS</td>\n",
       "      <td>43.4600</td>\n",
       "      <td>43.8800</td>\n",
       "      <td>43.0000</td>\n",
       "      <td>43.0300</td>\n",
       "      <td>2148909</td>\n",
       "    </tr>\n",
       "  </tbody>\n",
       "</table>\n",
       "<p>122397 rows × 6 columns</p>\n",
       "</div>"
      ],
      "text/plain": [
       "           symbol      open      high       low     close    volume\n",
       "date                                                               \n",
       "2014-01-02    AAL   25.0700   25.8200   25.0600   25.3600   8998943\n",
       "2014-01-02   AAPL   79.3828   79.5756   78.8601   79.0185  58791957\n",
       "2014-01-02    AAP  110.3600  111.8800  109.2900  109.7400    542711\n",
       "2014-01-02   ABBV   52.1200   52.3300   51.5200   51.9800   4569061\n",
       "2014-01-02    ABC   70.1100   70.2300   69.4800   69.8900   1148391\n",
       "...           ...       ...       ...       ...       ...       ...\n",
       "2014-12-31    XYL   38.6500   38.6500   38.0400   38.0700    466877\n",
       "2014-12-31    YUM   73.4200   73.7700   72.7800   72.8500   1539425\n",
       "2014-12-31    ZBH  115.0600  115.7500  113.3900  113.4200    694720\n",
       "2014-12-31   ZION   28.6800   28.7700   28.4900   28.5100   1470851\n",
       "2014-12-31    ZTS   43.4600   43.8800   43.0000   43.0300   2148909\n",
       "\n",
       "[122397 rows x 6 columns]"
      ]
     },
     "execution_count": 13,
     "metadata": {},
     "output_type": "execute_result"
    }
   ],
   "source": [
    "stock_df.loc['2014-01-01':'2014-12-31']"
   ]
  },
  {
   "cell_type": "markdown",
   "id": "f1d75ac1",
   "metadata": {},
   "source": [
    "so by keeping date as the index we can slice through with date as shown above"
   ]
  },
  {
   "cell_type": "code",
   "execution_count": 14,
   "id": "351d4bc0",
   "metadata": {},
   "outputs": [
    {
     "name": "stdout",
     "output_type": "stream",
     "text": [
      "Column symbol has 505 unique values\n",
      "Column open has 44160 unique values\n",
      "Column high has 71986 unique values\n",
      "Column low has 72344 unique values\n",
      "Column close has 45342 unique values\n",
      "Column volume has 475819 unique values\n"
     ]
    }
   ],
   "source": [
    "for val in stock_df.columns:\n",
    "    print(\"Column\",val,'has',stock_df[val].nunique(),'unique values')"
   ]
  },
  {
   "cell_type": "markdown",
   "id": "f1ed5050",
   "metadata": {},
   "source": [
    "Calculated return daily basis"
   ]
  },
  {
   "cell_type": "code",
   "execution_count": 15,
   "id": "bed3d6be",
   "metadata": {},
   "outputs": [],
   "source": [
    "stock_df['daily_pt'] = stock_df.groupby('symbol')['close'].diff().fillna(0)\n",
    "stock_df['daily_%'] = stock_df.groupby('symbol')['close'].pct_change().fillna(0)"
   ]
  },
  {
   "cell_type": "code",
   "execution_count": 16,
   "id": "d8760215",
   "metadata": {},
   "outputs": [
    {
     "data": {
      "text/html": [
       "<div>\n",
       "<style scoped>\n",
       "    .dataframe tbody tr th:only-of-type {\n",
       "        vertical-align: middle;\n",
       "    }\n",
       "\n",
       "    .dataframe tbody tr th {\n",
       "        vertical-align: top;\n",
       "    }\n",
       "\n",
       "    .dataframe thead th {\n",
       "        text-align: right;\n",
       "    }\n",
       "</style>\n",
       "<table border=\"1\" class=\"dataframe\">\n",
       "  <thead>\n",
       "    <tr style=\"text-align: right;\">\n",
       "      <th></th>\n",
       "      <th>symbol</th>\n",
       "      <th>open</th>\n",
       "      <th>high</th>\n",
       "      <th>low</th>\n",
       "      <th>close</th>\n",
       "      <th>volume</th>\n",
       "      <th>daily_pt</th>\n",
       "      <th>daily_%</th>\n",
       "    </tr>\n",
       "    <tr>\n",
       "      <th>date</th>\n",
       "      <th></th>\n",
       "      <th></th>\n",
       "      <th></th>\n",
       "      <th></th>\n",
       "      <th></th>\n",
       "      <th></th>\n",
       "      <th></th>\n",
       "      <th></th>\n",
       "    </tr>\n",
       "  </thead>\n",
       "  <tbody>\n",
       "    <tr>\n",
       "      <th>2014-01-02</th>\n",
       "      <td>AAPL</td>\n",
       "      <td>79.3828</td>\n",
       "      <td>79.5756</td>\n",
       "      <td>78.8601</td>\n",
       "      <td>79.0185</td>\n",
       "      <td>58791957</td>\n",
       "      <td>0.0000</td>\n",
       "      <td>0.000000</td>\n",
       "    </tr>\n",
       "    <tr>\n",
       "      <th>2014-01-03</th>\n",
       "      <td>AAPL</td>\n",
       "      <td>78.9799</td>\n",
       "      <td>79.0999</td>\n",
       "      <td>77.2042</td>\n",
       "      <td>77.2828</td>\n",
       "      <td>98303870</td>\n",
       "      <td>-1.7357</td>\n",
       "      <td>-0.021966</td>\n",
       "    </tr>\n",
       "    <tr>\n",
       "      <th>2014-01-06</th>\n",
       "      <td>AAPL</td>\n",
       "      <td>76.7785</td>\n",
       "      <td>78.1142</td>\n",
       "      <td>76.2285</td>\n",
       "      <td>77.7042</td>\n",
       "      <td>103359151</td>\n",
       "      <td>0.4214</td>\n",
       "      <td>0.005453</td>\n",
       "    </tr>\n",
       "    <tr>\n",
       "      <th>2014-01-07</th>\n",
       "      <td>AAPL</td>\n",
       "      <td>77.7599</td>\n",
       "      <td>77.9942</td>\n",
       "      <td>76.8464</td>\n",
       "      <td>77.1481</td>\n",
       "      <td>79432766</td>\n",
       "      <td>-0.5561</td>\n",
       "      <td>-0.007157</td>\n",
       "    </tr>\n",
       "    <tr>\n",
       "      <th>2014-01-08</th>\n",
       "      <td>AAPL</td>\n",
       "      <td>76.9728</td>\n",
       "      <td>77.9371</td>\n",
       "      <td>76.9556</td>\n",
       "      <td>77.6371</td>\n",
       "      <td>64686685</td>\n",
       "      <td>0.4890</td>\n",
       "      <td>0.006338</td>\n",
       "    </tr>\n",
       "    <tr>\n",
       "      <th>...</th>\n",
       "      <td>...</td>\n",
       "      <td>...</td>\n",
       "      <td>...</td>\n",
       "      <td>...</td>\n",
       "      <td>...</td>\n",
       "      <td>...</td>\n",
       "      <td>...</td>\n",
       "      <td>...</td>\n",
       "    </tr>\n",
       "    <tr>\n",
       "      <th>2017-12-22</th>\n",
       "      <td>AAPL</td>\n",
       "      <td>174.6800</td>\n",
       "      <td>175.4240</td>\n",
       "      <td>174.5000</td>\n",
       "      <td>175.0100</td>\n",
       "      <td>16349444</td>\n",
       "      <td>0.0000</td>\n",
       "      <td>0.000000</td>\n",
       "    </tr>\n",
       "    <tr>\n",
       "      <th>2017-12-26</th>\n",
       "      <td>AAPL</td>\n",
       "      <td>170.8000</td>\n",
       "      <td>171.4700</td>\n",
       "      <td>169.6790</td>\n",
       "      <td>170.5700</td>\n",
       "      <td>33185536</td>\n",
       "      <td>-4.4400</td>\n",
       "      <td>-0.025370</td>\n",
       "    </tr>\n",
       "    <tr>\n",
       "      <th>2017-12-27</th>\n",
       "      <td>AAPL</td>\n",
       "      <td>170.1000</td>\n",
       "      <td>170.7800</td>\n",
       "      <td>169.7100</td>\n",
       "      <td>170.6000</td>\n",
       "      <td>21498213</td>\n",
       "      <td>0.0300</td>\n",
       "      <td>0.000176</td>\n",
       "    </tr>\n",
       "    <tr>\n",
       "      <th>2017-12-28</th>\n",
       "      <td>AAPL</td>\n",
       "      <td>171.0000</td>\n",
       "      <td>171.8500</td>\n",
       "      <td>170.4800</td>\n",
       "      <td>171.0800</td>\n",
       "      <td>16480187</td>\n",
       "      <td>0.4800</td>\n",
       "      <td>0.002814</td>\n",
       "    </tr>\n",
       "    <tr>\n",
       "      <th>2017-12-29</th>\n",
       "      <td>AAPL</td>\n",
       "      <td>170.5200</td>\n",
       "      <td>170.5900</td>\n",
       "      <td>169.2200</td>\n",
       "      <td>169.2300</td>\n",
       "      <td>25999922</td>\n",
       "      <td>-1.8500</td>\n",
       "      <td>-0.010814</td>\n",
       "    </tr>\n",
       "  </tbody>\n",
       "</table>\n",
       "<p>1007 rows × 8 columns</p>\n",
       "</div>"
      ],
      "text/plain": [
       "           symbol      open      high       low     close     volume  \\\n",
       "date                                                                   \n",
       "2014-01-02   AAPL   79.3828   79.5756   78.8601   79.0185   58791957   \n",
       "2014-01-03   AAPL   78.9799   79.0999   77.2042   77.2828   98303870   \n",
       "2014-01-06   AAPL   76.7785   78.1142   76.2285   77.7042  103359151   \n",
       "2014-01-07   AAPL   77.7599   77.9942   76.8464   77.1481   79432766   \n",
       "2014-01-08   AAPL   76.9728   77.9371   76.9556   77.6371   64686685   \n",
       "...           ...       ...       ...       ...       ...        ...   \n",
       "2017-12-22   AAPL  174.6800  175.4240  174.5000  175.0100   16349444   \n",
       "2017-12-26   AAPL  170.8000  171.4700  169.6790  170.5700   33185536   \n",
       "2017-12-27   AAPL  170.1000  170.7800  169.7100  170.6000   21498213   \n",
       "2017-12-28   AAPL  171.0000  171.8500  170.4800  171.0800   16480187   \n",
       "2017-12-29   AAPL  170.5200  170.5900  169.2200  169.2300   25999922   \n",
       "\n",
       "            daily_pt   daily_%  \n",
       "date                            \n",
       "2014-01-02    0.0000  0.000000  \n",
       "2014-01-03   -1.7357 -0.021966  \n",
       "2014-01-06    0.4214  0.005453  \n",
       "2014-01-07   -0.5561 -0.007157  \n",
       "2014-01-08    0.4890  0.006338  \n",
       "...              ...       ...  \n",
       "2017-12-22    0.0000  0.000000  \n",
       "2017-12-26   -4.4400 -0.025370  \n",
       "2017-12-27    0.0300  0.000176  \n",
       "2017-12-28    0.4800  0.002814  \n",
       "2017-12-29   -1.8500 -0.010814  \n",
       "\n",
       "[1007 rows x 8 columns]"
      ]
     },
     "execution_count": 16,
     "metadata": {},
     "output_type": "execute_result"
    }
   ],
   "source": [
    "stock_df[stock_df['symbol'] == 'AAPL']"
   ]
  },
  {
   "cell_type": "markdown",
   "id": "a50a6f76",
   "metadata": {},
   "source": [
    "Something common is calculating moving averages which can be in 50,100,200 days. <br>\n",
    "Moving Average is indicator if there is upward or downward trend"
   ]
  },
  {
   "cell_type": "code",
   "execution_count": 17,
   "id": "69200e66",
   "metadata": {},
   "outputs": [],
   "source": [
    "stock_df['ma_100'] = stock_df.groupby('symbol')['close'].transform(lambda x:x.rolling(100).mean())\n",
    "stock_df['ma_200'] = stock_df.groupby('symbol')['close'].transform(lambda x:x.rolling(200).mean())\n",
    "stock_df['volatile'] = stock_df.groupby('symbol')['close'].transform(lambda x:x.rolling(20).std())"
   ]
  },
  {
   "cell_type": "code",
   "execution_count": 18,
   "id": "5ad34df2",
   "metadata": {},
   "outputs": [
    {
     "data": {
      "text/html": [
       "<div>\n",
       "<style scoped>\n",
       "    .dataframe tbody tr th:only-of-type {\n",
       "        vertical-align: middle;\n",
       "    }\n",
       "\n",
       "    .dataframe tbody tr th {\n",
       "        vertical-align: top;\n",
       "    }\n",
       "\n",
       "    .dataframe thead th {\n",
       "        text-align: right;\n",
       "    }\n",
       "</style>\n",
       "<table border=\"1\" class=\"dataframe\">\n",
       "  <thead>\n",
       "    <tr style=\"text-align: right;\">\n",
       "      <th></th>\n",
       "      <th>symbol</th>\n",
       "      <th>open</th>\n",
       "      <th>high</th>\n",
       "      <th>low</th>\n",
       "      <th>close</th>\n",
       "      <th>volume</th>\n",
       "      <th>daily_pt</th>\n",
       "      <th>daily_%</th>\n",
       "      <th>ma_100</th>\n",
       "      <th>ma_200</th>\n",
       "      <th>volatile</th>\n",
       "    </tr>\n",
       "    <tr>\n",
       "      <th>date</th>\n",
       "      <th></th>\n",
       "      <th></th>\n",
       "      <th></th>\n",
       "      <th></th>\n",
       "      <th></th>\n",
       "      <th></th>\n",
       "      <th></th>\n",
       "      <th></th>\n",
       "      <th></th>\n",
       "      <th></th>\n",
       "      <th></th>\n",
       "    </tr>\n",
       "  </thead>\n",
       "  <tbody>\n",
       "    <tr>\n",
       "      <th>2014-01-02</th>\n",
       "      <td>AAL</td>\n",
       "      <td>25.0700</td>\n",
       "      <td>25.8200</td>\n",
       "      <td>25.0600</td>\n",
       "      <td>25.3600</td>\n",
       "      <td>8998943</td>\n",
       "      <td>0.0</td>\n",
       "      <td>0.0</td>\n",
       "      <td>NaN</td>\n",
       "      <td>NaN</td>\n",
       "      <td>NaN</td>\n",
       "    </tr>\n",
       "    <tr>\n",
       "      <th>2014-01-02</th>\n",
       "      <td>AAPL</td>\n",
       "      <td>79.3828</td>\n",
       "      <td>79.5756</td>\n",
       "      <td>78.8601</td>\n",
       "      <td>79.0185</td>\n",
       "      <td>58791957</td>\n",
       "      <td>0.0</td>\n",
       "      <td>0.0</td>\n",
       "      <td>NaN</td>\n",
       "      <td>NaN</td>\n",
       "      <td>NaN</td>\n",
       "    </tr>\n",
       "    <tr>\n",
       "      <th>2014-01-02</th>\n",
       "      <td>AAP</td>\n",
       "      <td>110.3600</td>\n",
       "      <td>111.8800</td>\n",
       "      <td>109.2900</td>\n",
       "      <td>109.7400</td>\n",
       "      <td>542711</td>\n",
       "      <td>0.0</td>\n",
       "      <td>0.0</td>\n",
       "      <td>NaN</td>\n",
       "      <td>NaN</td>\n",
       "      <td>NaN</td>\n",
       "    </tr>\n",
       "    <tr>\n",
       "      <th>2014-01-02</th>\n",
       "      <td>ABBV</td>\n",
       "      <td>52.1200</td>\n",
       "      <td>52.3300</td>\n",
       "      <td>51.5200</td>\n",
       "      <td>51.9800</td>\n",
       "      <td>4569061</td>\n",
       "      <td>0.0</td>\n",
       "      <td>0.0</td>\n",
       "      <td>NaN</td>\n",
       "      <td>NaN</td>\n",
       "      <td>NaN</td>\n",
       "    </tr>\n",
       "    <tr>\n",
       "      <th>2014-01-02</th>\n",
       "      <td>ABC</td>\n",
       "      <td>70.1100</td>\n",
       "      <td>70.2300</td>\n",
       "      <td>69.4800</td>\n",
       "      <td>69.8900</td>\n",
       "      <td>1148391</td>\n",
       "      <td>0.0</td>\n",
       "      <td>0.0</td>\n",
       "      <td>NaN</td>\n",
       "      <td>NaN</td>\n",
       "      <td>NaN</td>\n",
       "    </tr>\n",
       "  </tbody>\n",
       "</table>\n",
       "</div>"
      ],
      "text/plain": [
       "           symbol      open      high       low     close    volume  daily_pt  \\\n",
       "date                                                                            \n",
       "2014-01-02    AAL   25.0700   25.8200   25.0600   25.3600   8998943       0.0   \n",
       "2014-01-02   AAPL   79.3828   79.5756   78.8601   79.0185  58791957       0.0   \n",
       "2014-01-02    AAP  110.3600  111.8800  109.2900  109.7400    542711       0.0   \n",
       "2014-01-02   ABBV   52.1200   52.3300   51.5200   51.9800   4569061       0.0   \n",
       "2014-01-02    ABC   70.1100   70.2300   69.4800   69.8900   1148391       0.0   \n",
       "\n",
       "            daily_%  ma_100  ma_200  volatile  \n",
       "date                                           \n",
       "2014-01-02      0.0     NaN     NaN       NaN  \n",
       "2014-01-02      0.0     NaN     NaN       NaN  \n",
       "2014-01-02      0.0     NaN     NaN       NaN  \n",
       "2014-01-02      0.0     NaN     NaN       NaN  \n",
       "2014-01-02      0.0     NaN     NaN       NaN  "
      ]
     },
     "execution_count": 18,
     "metadata": {},
     "output_type": "execute_result"
    }
   ],
   "source": [
    "stock_df.head()"
   ]
  },
  {
   "cell_type": "markdown",
   "id": "984b7f4a",
   "metadata": {},
   "source": [
    "## EDA"
   ]
  },
  {
   "cell_type": "code",
   "execution_count": 19,
   "id": "068e9d40",
   "metadata": {},
   "outputs": [
    {
     "data": {
      "image/png": "[encoded data removed]",
      "text/plain": [
       "<Figure size 1000x600 with 1 Axes>"
      ]
     },
     "metadata": {},
     "output_type": "display_data"
    }
   ],
   "source": [
    "aapl_stock = stock_df[stock_df['symbol'] == 'AAPL']['close']\n",
    "aapl_stock.plot(figsize=(10, 6), title=\"AAPL Stock Price\")\n",
    "plt.show()"
   ]
  },
  {
   "cell_type": "markdown",
   "id": "2282d377",
   "metadata": {},
   "source": [
    "So the AAPL stock price are at its peak"
   ]
  },
  {
   "cell_type": "code",
   "execution_count": 20,
   "id": "9ca6736e",
   "metadata": {},
   "outputs": [
    {
     "data": {
      "image/png": "[encoded data removed]",
      "text/plain": [
       "<Figure size 1000x600 with 1 Axes>"
      ]
     },
     "metadata": {},
     "output_type": "display_data"
    }
   ],
   "source": [
    "aapl_stock = stock_df[stock_df['symbol'] == 'AAL']['close']\n",
    "aapl_stock.plot(figsize=(10, 6), title=\"AAL Stock Price\")\n",
    "plt.show()"
   ]
  },
  {
   "cell_type": "markdown",
   "id": "8146f3bf",
   "metadata": {},
   "source": [
    "There have been sharp down but the stock is recovering to its peak"
   ]
  },
  {
   "cell_type": "code",
   "execution_count": 21,
   "id": "91c64a59",
   "metadata": {},
   "outputs": [
    {
     "data": {
      "text/plain": [
       "<Axes: >"
      ]
     },
     "execution_count": 21,
     "metadata": {},
     "output_type": "execute_result"
    },
    {
     "data": {
      "image/png": "[encoded data removed]",
      "text/plain": [
       "<Figure size 640x480 with 1 Axes>"
      ]
     },
     "metadata": {},
     "output_type": "display_data"
    }
   ],
   "source": [
    "stock_df['daily_%'].hist(bins=100)"
   ]
  },
  {
   "cell_type": "markdown",
   "id": "f7939b6f",
   "metadata": {},
   "source": [
    "This shows high concentration of % within the 0 and occasionally higher % values"
   ]
  },
  {
   "cell_type": "code",
   "execution_count": 22,
   "id": "a4cd80ff",
   "metadata": {},
   "outputs": [
    {
     "data": {
      "text/plain": [
       "<Axes: >"
      ]
     },
     "execution_count": 22,
     "metadata": {},
     "output_type": "execute_result"
    },
    {
     "data": {
      "image/png": "[encoded data removed]",
      "text/plain": [
       "<Figure size 1000x800 with 2 Axes>"
      ]
     },
     "metadata": {},
     "output_type": "display_data"
    }
   ],
   "source": [
    "num_corr = stock_df.corr(numeric_only=True)\n",
    "\n",
    "mask = np.triu(np.ones_like(num_corr, dtype=bool))\n",
    "plt.figure(figsize=(10,8))\n",
    "sns.heatmap(num_corr, annot=True, cmap='coolwarm', mask=mask)"
   ]
  },
  {
   "cell_type": "code",
   "execution_count": 23,
   "id": "23cfa245",
   "metadata": {},
   "outputs": [
    {
     "data": {
      "text/html": [
       "<div>\n",
       "<style scoped>\n",
       "    .dataframe tbody tr th:only-of-type {\n",
       "        vertical-align: middle;\n",
       "    }\n",
       "\n",
       "    .dataframe tbody tr th {\n",
       "        vertical-align: top;\n",
       "    }\n",
       "\n",
       "    .dataframe thead th {\n",
       "        text-align: right;\n",
       "    }\n",
       "</style>\n",
       "<table border=\"1\" class=\"dataframe\">\n",
       "  <thead>\n",
       "    <tr style=\"text-align: right;\">\n",
       "      <th></th>\n",
       "      <th>open</th>\n",
       "      <th>high</th>\n",
       "      <th>low</th>\n",
       "      <th>close</th>\n",
       "      <th>volume</th>\n",
       "      <th>daily_pt</th>\n",
       "      <th>daily_%</th>\n",
       "      <th>ma_100</th>\n",
       "      <th>ma_200</th>\n",
       "      <th>volatile</th>\n",
       "    </tr>\n",
       "  </thead>\n",
       "  <tbody>\n",
       "    <tr>\n",
       "      <th>open</th>\n",
       "      <td>1.000000</td>\n",
       "      <td>0.999941</td>\n",
       "      <td>0.999928</td>\n",
       "      <td>0.999876</td>\n",
       "      <td>-0.148724</td>\n",
       "      <td>0.025864</td>\n",
       "      <td>0.001798</td>\n",
       "      <td>0.995422</td>\n",
       "      <td>0.990918</td>\n",
       "      <td>0.781190</td>\n",
       "    </tr>\n",
       "    <tr>\n",
       "      <th>high</th>\n",
       "      <td>0.999941</td>\n",
       "      <td>1.000000</td>\n",
       "      <td>0.999905</td>\n",
       "      <td>0.999938</td>\n",
       "      <td>-0.148345</td>\n",
       "      <td>0.031563</td>\n",
       "      <td>0.005607</td>\n",
       "      <td>0.995535</td>\n",
       "      <td>0.991109</td>\n",
       "      <td>0.782479</td>\n",
       "    </tr>\n",
       "    <tr>\n",
       "      <th>low</th>\n",
       "      <td>0.999928</td>\n",
       "      <td>0.999905</td>\n",
       "      <td>1.000000</td>\n",
       "      <td>0.999941</td>\n",
       "      <td>-0.149285</td>\n",
       "      <td>0.032922</td>\n",
       "      <td>0.006124</td>\n",
       "      <td>0.995236</td>\n",
       "      <td>0.990693</td>\n",
       "      <td>0.779734</td>\n",
       "    </tr>\n",
       "    <tr>\n",
       "      <th>close</th>\n",
       "      <td>0.999876</td>\n",
       "      <td>0.999938</td>\n",
       "      <td>0.999941</td>\n",
       "      <td>1.000000</td>\n",
       "      <td>-0.148839</td>\n",
       "      <td>0.038356</td>\n",
       "      <td>0.009813</td>\n",
       "      <td>0.995351</td>\n",
       "      <td>0.990872</td>\n",
       "      <td>0.781138</td>\n",
       "    </tr>\n",
       "    <tr>\n",
       "      <th>volume</th>\n",
       "      <td>-0.148724</td>\n",
       "      <td>-0.148345</td>\n",
       "      <td>-0.149285</td>\n",
       "      <td>-0.148839</td>\n",
       "      <td>1.000000</td>\n",
       "      <td>-0.011357</td>\n",
       "      <td>-0.010628</td>\n",
       "      <td>-0.151201</td>\n",
       "      <td>-0.153335</td>\n",
       "      <td>-0.086687</td>\n",
       "    </tr>\n",
       "    <tr>\n",
       "      <th>daily_pt</th>\n",
       "      <td>0.025864</td>\n",
       "      <td>0.031563</td>\n",
       "      <td>0.032922</td>\n",
       "      <td>0.038356</td>\n",
       "      <td>-0.011357</td>\n",
       "      <td>1.000000</td>\n",
       "      <td>0.617796</td>\n",
       "      <td>0.022562</td>\n",
       "      <td>0.025799</td>\n",
       "      <td>0.019697</td>\n",
       "    </tr>\n",
       "    <tr>\n",
       "      <th>daily_%</th>\n",
       "      <td>0.001798</td>\n",
       "      <td>0.005607</td>\n",
       "      <td>0.006124</td>\n",
       "      <td>0.009813</td>\n",
       "      <td>-0.010628</td>\n",
       "      <td>0.617796</td>\n",
       "      <td>1.000000</td>\n",
       "      <td>-0.000555</td>\n",
       "      <td>-0.001096</td>\n",
       "      <td>0.003007</td>\n",
       "    </tr>\n",
       "    <tr>\n",
       "      <th>ma_100</th>\n",
       "      <td>0.995422</td>\n",
       "      <td>0.995535</td>\n",
       "      <td>0.995236</td>\n",
       "      <td>0.995351</td>\n",
       "      <td>-0.151201</td>\n",
       "      <td>0.022562</td>\n",
       "      <td>-0.000555</td>\n",
       "      <td>1.000000</td>\n",
       "      <td>0.997868</td>\n",
       "      <td>0.786174</td>\n",
       "    </tr>\n",
       "    <tr>\n",
       "      <th>ma_200</th>\n",
       "      <td>0.990918</td>\n",
       "      <td>0.991109</td>\n",
       "      <td>0.990693</td>\n",
       "      <td>0.990872</td>\n",
       "      <td>-0.153335</td>\n",
       "      <td>0.025799</td>\n",
       "      <td>-0.001096</td>\n",
       "      <td>0.997868</td>\n",
       "      <td>1.000000</td>\n",
       "      <td>0.789620</td>\n",
       "    </tr>\n",
       "    <tr>\n",
       "      <th>volatile</th>\n",
       "      <td>0.781190</td>\n",
       "      <td>0.782479</td>\n",
       "      <td>0.779734</td>\n",
       "      <td>0.781138</td>\n",
       "      <td>-0.086687</td>\n",
       "      <td>0.019697</td>\n",
       "      <td>0.003007</td>\n",
       "      <td>0.786174</td>\n",
       "      <td>0.789620</td>\n",
       "      <td>1.000000</td>\n",
       "    </tr>\n",
       "  </tbody>\n",
       "</table>\n",
       "</div>"
      ],
      "text/plain": [
       "              open      high       low     close    volume  daily_pt  \\\n",
       "open      1.000000  0.999941  0.999928  0.999876 -0.148724  0.025864   \n",
       "high      0.999941  1.000000  0.999905  0.999938 -0.148345  0.031563   \n",
       "low       0.999928  0.999905  1.000000  0.999941 -0.149285  0.032922   \n",
       "close     0.999876  0.999938  0.999941  1.000000 -0.148839  0.038356   \n",
       "volume   -0.148724 -0.148345 -0.149285 -0.148839  1.000000 -0.011357   \n",
       "daily_pt  0.025864  0.031563  0.032922  0.038356 -0.011357  1.000000   \n",
       "daily_%   0.001798  0.005607  0.006124  0.009813 -0.010628  0.617796   \n",
       "ma_100    0.995422  0.995535  0.995236  0.995351 -0.151201  0.022562   \n",
       "ma_200    0.990918  0.991109  0.990693  0.990872 -0.153335  0.025799   \n",
       "volatile  0.781190  0.782479  0.779734  0.781138 -0.086687  0.019697   \n",
       "\n",
       "           daily_%    ma_100    ma_200  volatile  \n",
       "open      0.001798  0.995422  0.990918  0.781190  \n",
       "high      0.005607  0.995535  0.991109  0.782479  \n",
       "low       0.006124  0.995236  0.990693  0.779734  \n",
       "close     0.009813  0.995351  0.990872  0.781138  \n",
       "volume   -0.010628 -0.151201 -0.153335 -0.086687  \n",
       "daily_pt  0.617796  0.022562  0.025799  0.019697  \n",
       "daily_%   1.000000 -0.000555 -0.001096  0.003007  \n",
       "ma_100   -0.000555  1.000000  0.997868  0.786174  \n",
       "ma_200   -0.001096  0.997868  1.000000  0.789620  \n",
       "volatile  0.003007  0.786174  0.789620  1.000000  "
      ]
     },
     "execution_count": 23,
     "metadata": {},
     "output_type": "execute_result"
    }
   ],
   "source": [
    "stock_df.corr(numeric_only=True)"
   ]
  },
  {
   "cell_type": "code",
   "execution_count": 24,
   "id": "4b27896a",
   "metadata": {},
   "outputs": [],
   "source": [
    "model_df = stock_df.drop(columns=['daily_pt', 'daily_%', 'ma_100', 'ma_200', 'volatile'])"
   ]
  },
  {
   "cell_type": "code",
   "execution_count": 25,
   "id": "42dd4d8e",
   "metadata": {},
   "outputs": [
    {
     "data": {
      "text/html": [
       "<div>\n",
       "<style scoped>\n",
       "    .dataframe tbody tr th:only-of-type {\n",
       "        vertical-align: middle;\n",
       "    }\n",
       "\n",
       "    .dataframe tbody tr th {\n",
       "        vertical-align: top;\n",
       "    }\n",
       "\n",
       "    .dataframe thead th {\n",
       "        text-align: right;\n",
       "    }\n",
       "</style>\n",
       "<table border=\"1\" class=\"dataframe\">\n",
       "  <thead>\n",
       "    <tr style=\"text-align: right;\">\n",
       "      <th></th>\n",
       "      <th>symbol</th>\n",
       "      <th>open</th>\n",
       "      <th>high</th>\n",
       "      <th>low</th>\n",
       "      <th>close</th>\n",
       "      <th>volume</th>\n",
       "    </tr>\n",
       "    <tr>\n",
       "      <th>date</th>\n",
       "      <th></th>\n",
       "      <th></th>\n",
       "      <th></th>\n",
       "      <th></th>\n",
       "      <th></th>\n",
       "      <th></th>\n",
       "    </tr>\n",
       "  </thead>\n",
       "  <tbody>\n",
       "    <tr>\n",
       "      <th>2014-01-02</th>\n",
       "      <td>AAL</td>\n",
       "      <td>25.0700</td>\n",
       "      <td>25.8200</td>\n",
       "      <td>25.0600</td>\n",
       "      <td>25.3600</td>\n",
       "      <td>8998943</td>\n",
       "    </tr>\n",
       "    <tr>\n",
       "      <th>2014-01-02</th>\n",
       "      <td>AAPL</td>\n",
       "      <td>79.3828</td>\n",
       "      <td>79.5756</td>\n",
       "      <td>78.8601</td>\n",
       "      <td>79.0185</td>\n",
       "      <td>58791957</td>\n",
       "    </tr>\n",
       "    <tr>\n",
       "      <th>2014-01-02</th>\n",
       "      <td>AAP</td>\n",
       "      <td>110.3600</td>\n",
       "      <td>111.8800</td>\n",
       "      <td>109.2900</td>\n",
       "      <td>109.7400</td>\n",
       "      <td>542711</td>\n",
       "    </tr>\n",
       "    <tr>\n",
       "      <th>2014-01-02</th>\n",
       "      <td>ABBV</td>\n",
       "      <td>52.1200</td>\n",
       "      <td>52.3300</td>\n",
       "      <td>51.5200</td>\n",
       "      <td>51.9800</td>\n",
       "      <td>4569061</td>\n",
       "    </tr>\n",
       "    <tr>\n",
       "      <th>2014-01-02</th>\n",
       "      <td>ABC</td>\n",
       "      <td>70.1100</td>\n",
       "      <td>70.2300</td>\n",
       "      <td>69.4800</td>\n",
       "      <td>69.8900</td>\n",
       "      <td>1148391</td>\n",
       "    </tr>\n",
       "  </tbody>\n",
       "</table>\n",
       "</div>"
      ],
      "text/plain": [
       "           symbol      open      high       low     close    volume\n",
       "date                                                               \n",
       "2014-01-02    AAL   25.0700   25.8200   25.0600   25.3600   8998943\n",
       "2014-01-02   AAPL   79.3828   79.5756   78.8601   79.0185  58791957\n",
       "2014-01-02    AAP  110.3600  111.8800  109.2900  109.7400    542711\n",
       "2014-01-02   ABBV   52.1200   52.3300   51.5200   51.9800   4569061\n",
       "2014-01-02    ABC   70.1100   70.2300   69.4800   69.8900   1148391"
      ]
     },
     "execution_count": 25,
     "metadata": {},
     "output_type": "execute_result"
    }
   ],
   "source": [
    "model_df.head()"
   ]
  },
  {
   "cell_type": "code",
   "execution_count": 26,
   "id": "34dfa039",
   "metadata": {},
   "outputs": [
    {
     "data": {
      "text/plain": [
       "<Axes: >"
      ]
     },
     "execution_count": 26,
     "metadata": {},
     "output_type": "execute_result"
    },
    {
     "data": {
      "image/png": "[encoded data removed]",
      "text/plain": [
       "<Figure size 640x480 with 2 Axes>"
      ]
     },
     "metadata": {},
     "output_type": "display_data"
    }
   ],
   "source": [
    "model_corr = model_df.corr(numeric_only=True)\n",
    "sns.heatmap(model_corr, annot=True, cmap='coolwarm')"
   ]
  },
  {
   "cell_type": "markdown",
   "id": "96946bc1",
   "metadata": {},
   "source": [
    "This also makes seens as all our columns depend upon each other and changes because of each other. Like suppose if the high goes up the low will decrease, similarly the close of today change the open of tomorrow"
   ]
  },
  {
   "cell_type": "code",
   "execution_count": 27,
   "id": "5ac11c4c",
   "metadata": {},
   "outputs": [
    {
     "data": {
      "image/png": "[encoded data removed]",
      "text/plain": [
       "<Figure size 2500x1000 with 10 Axes>"
      ]
     },
     "metadata": {},
     "output_type": "display_data"
    }
   ],
   "source": [
    "num_plot = model_df.drop(columns=['symbol'])\n",
    "fig, axes = plt.subplots(2, len(num_plot.columns), figsize=(25, 10))\n",
    "\n",
    "axes = axes.flatten()\n",
    "\n",
    "for i, col in enumerate(num_plot.columns):\n",
    "\n",
    "    sns.histplot(num_plot[col], ax=axes[i], kde=True, edgecolor=None)\n",
    "    axes[i].set_title(f\"Histogram: {col}\")\n",
    "\n",
    "for i, col in enumerate(num_plot.columns):\n",
    "\n",
    "    sns.boxplot(x=num_plot[col], ax=axes[i + len(num_plot.columns)])\n",
    "    axes[i + len(num_plot.columns)].set_title(f\"Boxplot: {col}\")\n",
    "\n",
    "plt.tight_layout(pad=1.0)\n",
    "plt.show()\n"
   ]
  },
  {
   "cell_type": "markdown",
   "id": "1f636cb3",
   "metadata": {},
   "source": [
    "- Stocks cannt be uniformly distributed they can change from minute to minute. So its normal for such plots to show.\n",
    "- Applying boxcox or other technique maynt be ideal as it can compress the outliers to move towards normal but then we will loss the actual data which we want to predict"
   ]
  },
  {
   "cell_type": "code",
   "execution_count": 28,
   "id": "ff1165fc",
   "metadata": {},
   "outputs": [
    {
     "data": {
      "text/html": [
       "<div>\n",
       "<style scoped>\n",
       "    .dataframe tbody tr th:only-of-type {\n",
       "        vertical-align: middle;\n",
       "    }\n",
       "\n",
       "    .dataframe tbody tr th {\n",
       "        vertical-align: top;\n",
       "    }\n",
       "\n",
       "    .dataframe thead th {\n",
       "        text-align: right;\n",
       "    }\n",
       "</style>\n",
       "<table border=\"1\" class=\"dataframe\">\n",
       "  <thead>\n",
       "    <tr style=\"text-align: right;\">\n",
       "      <th></th>\n",
       "      <th>symbol</th>\n",
       "      <th>open</th>\n",
       "      <th>high</th>\n",
       "      <th>low</th>\n",
       "      <th>close</th>\n",
       "      <th>volume</th>\n",
       "    </tr>\n",
       "    <tr>\n",
       "      <th>date</th>\n",
       "      <th></th>\n",
       "      <th></th>\n",
       "      <th></th>\n",
       "      <th></th>\n",
       "      <th></th>\n",
       "      <th></th>\n",
       "    </tr>\n",
       "  </thead>\n",
       "  <tbody>\n",
       "    <tr>\n",
       "      <th>2014-01-02</th>\n",
       "      <td>AAL</td>\n",
       "      <td>25.0700</td>\n",
       "      <td>25.8200</td>\n",
       "      <td>25.0600</td>\n",
       "      <td>25.3600</td>\n",
       "      <td>8998943</td>\n",
       "    </tr>\n",
       "    <tr>\n",
       "      <th>2014-01-02</th>\n",
       "      <td>AAPL</td>\n",
       "      <td>79.3828</td>\n",
       "      <td>79.5756</td>\n",
       "      <td>78.8601</td>\n",
       "      <td>79.0185</td>\n",
       "      <td>58791957</td>\n",
       "    </tr>\n",
       "    <tr>\n",
       "      <th>2014-01-02</th>\n",
       "      <td>AAP</td>\n",
       "      <td>110.3600</td>\n",
       "      <td>111.8800</td>\n",
       "      <td>109.2900</td>\n",
       "      <td>109.7400</td>\n",
       "      <td>542711</td>\n",
       "    </tr>\n",
       "    <tr>\n",
       "      <th>2014-01-02</th>\n",
       "      <td>ABBV</td>\n",
       "      <td>52.1200</td>\n",
       "      <td>52.3300</td>\n",
       "      <td>51.5200</td>\n",
       "      <td>51.9800</td>\n",
       "      <td>4569061</td>\n",
       "    </tr>\n",
       "    <tr>\n",
       "      <th>2014-01-02</th>\n",
       "      <td>ABC</td>\n",
       "      <td>70.1100</td>\n",
       "      <td>70.2300</td>\n",
       "      <td>69.4800</td>\n",
       "      <td>69.8900</td>\n",
       "      <td>1148391</td>\n",
       "    </tr>\n",
       "  </tbody>\n",
       "</table>\n",
       "</div>"
      ],
      "text/plain": [
       "           symbol      open      high       low     close    volume\n",
       "date                                                               \n",
       "2014-01-02    AAL   25.0700   25.8200   25.0600   25.3600   8998943\n",
       "2014-01-02   AAPL   79.3828   79.5756   78.8601   79.0185  58791957\n",
       "2014-01-02    AAP  110.3600  111.8800  109.2900  109.7400    542711\n",
       "2014-01-02   ABBV   52.1200   52.3300   51.5200   51.9800   4569061\n",
       "2014-01-02    ABC   70.1100   70.2300   69.4800   69.8900   1148391"
      ]
     },
     "execution_count": 28,
     "metadata": {},
     "output_type": "execute_result"
    }
   ],
   "source": [
    "model_df.head()"
   ]
  },
  {
   "cell_type": "code",
   "execution_count": 29,
   "id": "94c44c10",
   "metadata": {},
   "outputs": [],
   "source": [
    "stock_aapl = model_df[model_df['symbol'] == 'AAPL'].copy()\n",
    "stock_aapl = stock_aapl.drop(columns=['symbol'])"
   ]
  },
  {
   "cell_type": "code",
   "execution_count": 30,
   "id": "d396e60b",
   "metadata": {},
   "outputs": [
    {
     "data": {
      "text/plain": [
       "(497461, 6)"
      ]
     },
     "execution_count": 30,
     "metadata": {},
     "output_type": "execute_result"
    }
   ],
   "source": [
    "model_df.shape"
   ]
  },
  {
   "cell_type": "code",
   "execution_count": 31,
   "id": "cc2e9be2",
   "metadata": {},
   "outputs": [
    {
     "data": {
      "text/plain": [
       "(1007, 5)"
      ]
     },
     "execution_count": 31,
     "metadata": {},
     "output_type": "execute_result"
    }
   ],
   "source": [
    "stock_aapl.shape"
   ]
  },
  {
   "cell_type": "markdown",
   "id": "ef915857",
   "metadata": {},
   "source": [
    "So what we are trying to do get a model up just for a single symbol and use that model for prediction. We have around 500+ unique symbol applying ohe wont make any sense. This we can focus on a single symbol."
   ]
  },
  {
   "cell_type": "code",
   "execution_count": 32,
   "id": "6e624080",
   "metadata": {},
   "outputs": [
    {
     "name": "stdout",
     "output_type": "stream",
     "text": [
      "<class 'pandas.core.frame.DataFrame'>\n",
      "DatetimeIndex: 1007 entries, 2014-01-02 to 2017-12-29\n",
      "Data columns (total 5 columns):\n",
      " #   Column  Non-Null Count  Dtype  \n",
      "---  ------  --------------  -----  \n",
      " 0   open    1007 non-null   float64\n",
      " 1   high    1007 non-null   float64\n",
      " 2   low     1007 non-null   float64\n",
      " 3   close   1007 non-null   float64\n",
      " 4   volume  1007 non-null   int64  \n",
      "dtypes: float64(4), int64(1)\n",
      "memory usage: 47.2 KB\n"
     ]
    }
   ],
   "source": [
    "stock_aapl.info()"
   ]
  },
  {
   "cell_type": "code",
   "execution_count": 33,
   "id": "a1242fe9",
   "metadata": {},
   "outputs": [],
   "source": [
    "from sklearn.model_selection import train_test_split\n",
    "\n",
    "X = stock_aapl.drop(columns=['close'])\n",
    "y = stock_aapl['close']\n",
    "\n",
    "X_train, X_test, y_train, y_test = train_test_split(X, y, test_size=0.2, random_state=42)"
   ]
  },
  {
   "cell_type": "code",
   "execution_count": 34,
   "id": "ac5b97e1",
   "metadata": {},
   "outputs": [],
   "source": [
    "from sklearn.linear_model import LinearRegression\n",
    "from sklearn.ensemble import RandomForestRegressor\n",
    "from sklearn.metrics import mean_absolute_error, mean_squared_error, r2_score\n",
    "import numpy as np"
   ]
  },
  {
   "cell_type": "markdown",
   "id": "de75589a",
   "metadata": {},
   "source": [
    "## Linear Regression"
   ]
  },
  {
   "cell_type": "code",
   "execution_count": 116,
   "id": "57a7a1c4",
   "metadata": {},
   "outputs": [
    {
     "name": "stdout",
     "output_type": "stream",
     "text": [
      "Linear Regression:\n",
      "MAE: 0.43, RMSE: 0.58, R2: 1.00\n"
     ]
    }
   ],
   "source": [
    "lr = LinearRegression()\n",
    "lr.fit(X_train, y_train)\n",
    "\n",
    "y_pred_lr = lr.predict(X_test)\n",
    "\n",
    "mae_lr = mean_absolute_error(y_test, y_pred_lr)\n",
    "rmse_lr = np.sqrt(mean_squared_error(y_test, y_pred_lr))\n",
    "r2_lr = r2_score(y_test, y_pred_lr)\n",
    "\n",
    "print(\"Linear Regression:\")\n",
    "print(f\"MAE: {mae_lr:.2f}, RMSE: {rmse_lr:.2f}, R2: {r2_lr:.2f}\")"
   ]
  },
  {
   "cell_type": "markdown",
   "id": "ce5aa205",
   "metadata": {},
   "source": [
    "## Random forest"
   ]
  },
  {
   "cell_type": "code",
   "execution_count": 117,
   "id": "3a41f528",
   "metadata": {},
   "outputs": [
    {
     "name": "stdout",
     "output_type": "stream",
     "text": [
      "\n",
      "Random Forest Regression:\n",
      "MAE: 0.62, RMSE: 0.81, R2: 1.00\n"
     ]
    }
   ],
   "source": [
    "rf = RandomForestRegressor(n_estimators=100, random_state=42)\n",
    "rf.fit(X_train, y_train)\n",
    "y_pred_rf = rf.predict(X_test)\n",
    "\n",
    "# Metrics\n",
    "mae_rf = mean_absolute_error(y_test, y_pred_rf)\n",
    "rmse_rf = np.sqrt(mean_squared_error(y_test, y_pred_rf))\n",
    "r2_rf = r2_score(y_test, y_pred_rf)\n",
    "\n",
    "print(\"\\nRandom Forest Regression:\")\n",
    "print(f\"MAE: {mae_rf:.2f}, RMSE: {rmse_rf:.2f}, R2: {r2_rf:.2f}\")"
   ]
  },
  {
   "cell_type": "markdown",
   "id": "b13d8c61",
   "metadata": {},
   "source": [
    "Testing the other way"
   ]
  },
  {
   "cell_type": "code",
   "execution_count": 118,
   "id": "4f38ca23",
   "metadata": {},
   "outputs": [
    {
     "name": "stdout",
     "output_type": "stream",
     "text": [
      "X shape: (1002, 25)\n",
      "y shape: (1002,)\n"
     ]
    }
   ],
   "source": [
    "N = 5  \n",
    "features = ['open', 'high', 'low', 'close', 'volume']\n",
    "\n",
    "X_list = []\n",
    "y_list = []\n",
    "\n",
    "for i in range(N, len(stock_aapl)):\n",
    "\n",
    "    X_list.append(stock_aapl[features].iloc[i-N:i].values.flatten())\n",
    "\n",
    "    y_list.append(stock_aapl['close'].iloc[i])\n",
    "\n",
    "X = np.array(X_list)\n",
    "y = np.array(y_list)\n",
    "\n",
    "print(\"X shape:\", X.shape) \n",
    "print(\"y shape:\", y.shape)"
   ]
  },
  {
   "cell_type": "code",
   "execution_count": 119,
   "id": "282495ed",
   "metadata": {},
   "outputs": [],
   "source": [
    "test_size = 0.2\n",
    "split_idx = int(len(X) * (1 - test_size))\n",
    "\n",
    "X_train, X_test = X[:split_idx], X[split_idx:]\n",
    "y_train, y_test = y[:split_idx], y[split_idx:]"
   ]
  },
  {
   "cell_type": "code",
   "execution_count": 120,
   "id": "bcda2bca",
   "metadata": {},
   "outputs": [
    {
     "name": "stdout",
     "output_type": "stream",
     "text": [
      "Linear Regression:\n",
      "MAE: 1.32, RMSE: 1.85, R2: 0.97\n",
      "\n",
      "Random Forest:\n",
      "MAE: 16.49, RMSE: 19.47, R2: -2.53\n",
      "\n"
     ]
    }
   ],
   "source": [
    "from sklearn.linear_model import LinearRegression\n",
    "from sklearn.ensemble import RandomForestRegressor\n",
    "from sklearn.metrics import mean_absolute_error, mean_squared_error, r2_score\n",
    "import numpy as np\n",
    "\n",
    "# Linear Regression\n",
    "lr = LinearRegression()\n",
    "lr.fit(X_train, y_train)\n",
    "y_pred_lr = lr.predict(X_test)\n",
    "\n",
    "# Random Forest\n",
    "rf = RandomForestRegressor(n_estimators=100, random_state=42)\n",
    "rf.fit(X_train, y_train)\n",
    "y_pred_rf = rf.predict(X_test)\n",
    "\n",
    "# Metrics function\n",
    "def print_metrics(y_true, y_pred, name):\n",
    "    print(f\"{name}:\")\n",
    "    print(f\"MAE: {mean_absolute_error(y_true, y_pred):.2f}, \"\n",
    "          f\"RMSE: {np.sqrt(mean_squared_error(y_true, y_pred)):.2f}, \"\n",
    "          f\"R2: {r2_score(y_true, y_pred):.2f}\\n\")\n",
    "\n",
    "print_metrics(y_test, y_pred_lr, \"Linear Regression\")\n",
    "print_metrics(y_test, y_pred_rf, \"Random Forest\")\n"
   ]
  },
  {
   "cell_type": "code",
   "execution_count": null,
   "id": "89f5ce1d",
   "metadata": {},
   "outputs": [],
   "source": []
  }
 ],
 "metadata": {
  "kernelspec": {
   "display_name": "venv",
   "language": "python",
   "name": "python3"
  },
  "language_info": {
   "codemirror_mode": {
    "name": "ipython",
    "version": 3
   },
   "file_extension": ".py",
   "mimetype": "text/x-python",
   "name": "python",
   "nbconvert_exporter": "python",
   "pygments_lexer": "ipython3",
   "version": "3.12.4"
  }
 },
 "nbformat": 4,
 "nbformat_minor": 5
}
