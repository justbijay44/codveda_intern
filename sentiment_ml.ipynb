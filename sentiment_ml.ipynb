{
 "cells": [
  {
   "cell_type": "code",
   "execution_count": 1,
   "id": "47e7c85d",
   "metadata": {},
   "outputs": [],
   "source": [
    "import pandas as pd\n",
    "import numpy as np\n",
    "import matplotlib.pyplot as plt\n",
    "import seaborn as sns"
   ]
  },
  {
   "cell_type": "code",
   "execution_count": 2,
   "id": "4b1cc4ae",
   "metadata": {},
   "outputs": [],
   "source": [
    "sentiment = pd.read_csv(\"data/Sentiment dataset.csv\")"
   ]
  },
  {
   "cell_type": "code",
   "execution_count": 3,
   "id": "72c23ae1",
   "metadata": {},
   "outputs": [
    {
     "data": {
      "text/html": [
       "<div>\n",
       "<style scoped>\n",
       "    .dataframe tbody tr th:only-of-type {\n",
       "        vertical-align: middle;\n",
       "    }\n",
       "\n",
       "    .dataframe tbody tr th {\n",
       "        vertical-align: top;\n",
       "    }\n",
       "\n",
       "    .dataframe thead th {\n",
       "        text-align: right;\n",
       "    }\n",
       "</style>\n",
       "<table border=\"1\" class=\"dataframe\">\n",
       "  <thead>\n",
       "    <tr style=\"text-align: right;\">\n",
       "      <th></th>\n",
       "      <th>Unnamed: 0.1</th>\n",
       "      <th>Unnamed: 0</th>\n",
       "      <th>Text</th>\n",
       "      <th>Sentiment</th>\n",
       "      <th>Timestamp</th>\n",
       "      <th>User</th>\n",
       "      <th>Platform</th>\n",
       "      <th>Hashtags</th>\n",
       "      <th>Retweets</th>\n",
       "      <th>Likes</th>\n",
       "      <th>Country</th>\n",
       "      <th>Year</th>\n",
       "      <th>Month</th>\n",
       "      <th>Day</th>\n",
       "      <th>Hour</th>\n",
       "    </tr>\n",
       "  </thead>\n",
       "  <tbody>\n",
       "    <tr>\n",
       "      <th>0</th>\n",
       "      <td>0</td>\n",
       "      <td>0</td>\n",
       "      <td>Enjoying a beautiful day at the park!        ...</td>\n",
       "      <td>Positive</td>\n",
       "      <td>2023-01-15 12:30:00</td>\n",
       "      <td>User123</td>\n",
       "      <td>Twitter</td>\n",
       "      <td>#Nature #Park</td>\n",
       "      <td>15.0</td>\n",
       "      <td>30.0</td>\n",
       "      <td>USA</td>\n",
       "      <td>2023</td>\n",
       "      <td>1</td>\n",
       "      <td>15</td>\n",
       "      <td>12</td>\n",
       "    </tr>\n",
       "    <tr>\n",
       "      <th>1</th>\n",
       "      <td>1</td>\n",
       "      <td>1</td>\n",
       "      <td>Traffic was terrible this morning.           ...</td>\n",
       "      <td>Negative</td>\n",
       "      <td>2023-01-15 08:45:00</td>\n",
       "      <td>CommuterX</td>\n",
       "      <td>Twitter</td>\n",
       "      <td>#Traffic #Morning</td>\n",
       "      <td>5.0</td>\n",
       "      <td>10.0</td>\n",
       "      <td>Canada</td>\n",
       "      <td>2023</td>\n",
       "      <td>1</td>\n",
       "      <td>15</td>\n",
       "      <td>8</td>\n",
       "    </tr>\n",
       "    <tr>\n",
       "      <th>2</th>\n",
       "      <td>2</td>\n",
       "      <td>2</td>\n",
       "      <td>Just finished an amazing workout! 💪          ...</td>\n",
       "      <td>Positive</td>\n",
       "      <td>2023-01-15 15:45:00</td>\n",
       "      <td>FitnessFan</td>\n",
       "      <td>Instagram</td>\n",
       "      <td>#Fitness #Workout</td>\n",
       "      <td>20.0</td>\n",
       "      <td>40.0</td>\n",
       "      <td>USA</td>\n",
       "      <td>2023</td>\n",
       "      <td>1</td>\n",
       "      <td>15</td>\n",
       "      <td>15</td>\n",
       "    </tr>\n",
       "    <tr>\n",
       "      <th>3</th>\n",
       "      <td>3</td>\n",
       "      <td>3</td>\n",
       "      <td>Excited about the upcoming weekend getaway!  ...</td>\n",
       "      <td>Positive</td>\n",
       "      <td>2023-01-15 18:20:00</td>\n",
       "      <td>AdventureX</td>\n",
       "      <td>Facebook</td>\n",
       "      <td>#Travel #Adventure</td>\n",
       "      <td>8.0</td>\n",
       "      <td>15.0</td>\n",
       "      <td>UK</td>\n",
       "      <td>2023</td>\n",
       "      <td>1</td>\n",
       "      <td>15</td>\n",
       "      <td>18</td>\n",
       "    </tr>\n",
       "    <tr>\n",
       "      <th>4</th>\n",
       "      <td>4</td>\n",
       "      <td>4</td>\n",
       "      <td>Trying out a new recipe for dinner tonight.  ...</td>\n",
       "      <td>Neutral</td>\n",
       "      <td>2023-01-15 19:55:00</td>\n",
       "      <td>ChefCook</td>\n",
       "      <td>Instagram</td>\n",
       "      <td>#Cooking #Food</td>\n",
       "      <td>12.0</td>\n",
       "      <td>25.0</td>\n",
       "      <td>Australia</td>\n",
       "      <td>2023</td>\n",
       "      <td>1</td>\n",
       "      <td>15</td>\n",
       "      <td>19</td>\n",
       "    </tr>\n",
       "  </tbody>\n",
       "</table>\n",
       "</div>"
      ],
      "text/plain": [
       "   Unnamed: 0.1  Unnamed: 0  \\\n",
       "0             0           0   \n",
       "1             1           1   \n",
       "2             2           2   \n",
       "3             3           3   \n",
       "4             4           4   \n",
       "\n",
       "                                                Text    Sentiment  \\\n",
       "0   Enjoying a beautiful day at the park!        ...   Positive     \n",
       "1   Traffic was terrible this morning.           ...   Negative     \n",
       "2   Just finished an amazing workout! 💪          ...   Positive     \n",
       "3   Excited about the upcoming weekend getaway!  ...   Positive     \n",
       "4   Trying out a new recipe for dinner tonight.  ...   Neutral      \n",
       "\n",
       "             Timestamp            User     Platform  \\\n",
       "0  2023-01-15 12:30:00   User123          Twitter     \n",
       "1  2023-01-15 08:45:00   CommuterX        Twitter     \n",
       "2  2023-01-15 15:45:00   FitnessFan      Instagram    \n",
       "3  2023-01-15 18:20:00   AdventureX       Facebook    \n",
       "4  2023-01-15 19:55:00   ChefCook        Instagram    \n",
       "\n",
       "                                     Hashtags  Retweets  Likes       Country  \\\n",
       "0   #Nature #Park                                  15.0   30.0     USA         \n",
       "1   #Traffic #Morning                               5.0   10.0     Canada      \n",
       "2   #Fitness #Workout                              20.0   40.0   USA           \n",
       "3   #Travel #Adventure                              8.0   15.0     UK          \n",
       "4   #Cooking #Food                                 12.0   25.0    Australia    \n",
       "\n",
       "   Year  Month  Day  Hour  \n",
       "0  2023      1   15    12  \n",
       "1  2023      1   15     8  \n",
       "2  2023      1   15    15  \n",
       "3  2023      1   15    18  \n",
       "4  2023      1   15    19  "
      ]
     },
     "execution_count": 3,
     "metadata": {},
     "output_type": "execute_result"
    }
   ],
   "source": [
    "sentiment.head()"
   ]
  },
  {
   "cell_type": "code",
   "execution_count": 4,
   "id": "f568d45d",
   "metadata": {},
   "outputs": [
    {
     "data": {
      "text/plain": [
       "(732, 15)"
      ]
     },
     "execution_count": 4,
     "metadata": {},
     "output_type": "execute_result"
    }
   ],
   "source": [
    "sentiment.shape"
   ]
  },
  {
   "cell_type": "markdown",
   "id": "00c8dfa4",
   "metadata": {},
   "source": [
    "## Data Analysis"
   ]
  },
  {
   "cell_type": "code",
   "execution_count": 5,
   "id": "7be4c2e6",
   "metadata": {},
   "outputs": [
    {
     "data": {
      "text/plain": [
       "Unnamed: 0.1    0\n",
       "Unnamed: 0      0\n",
       "Text            0\n",
       "Sentiment       0\n",
       "Timestamp       0\n",
       "User            0\n",
       "Platform        0\n",
       "Hashtags        0\n",
       "Retweets        0\n",
       "Likes           0\n",
       "Country         0\n",
       "Year            0\n",
       "Month           0\n",
       "Day             0\n",
       "Hour            0\n",
       "dtype: int64"
      ]
     },
     "execution_count": 5,
     "metadata": {},
     "output_type": "execute_result"
    }
   ],
   "source": [
    "sentiment.isnull().sum()"
   ]
  },
  {
   "cell_type": "code",
   "execution_count": 6,
   "id": "a958e219",
   "metadata": {},
   "outputs": [
    {
     "data": {
      "text/plain": [
       "np.int64(0)"
      ]
     },
     "execution_count": 6,
     "metadata": {},
     "output_type": "execute_result"
    }
   ],
   "source": [
    "sentiment.duplicated().sum()"
   ]
  },
  {
   "cell_type": "code",
   "execution_count": 7,
   "id": "5c9a7839",
   "metadata": {},
   "outputs": [
    {
     "data": {
      "text/html": [
       "<div>\n",
       "<style scoped>\n",
       "    .dataframe tbody tr th:only-of-type {\n",
       "        vertical-align: middle;\n",
       "    }\n",
       "\n",
       "    .dataframe tbody tr th {\n",
       "        vertical-align: top;\n",
       "    }\n",
       "\n",
       "    .dataframe thead th {\n",
       "        text-align: right;\n",
       "    }\n",
       "</style>\n",
       "<table border=\"1\" class=\"dataframe\">\n",
       "  <thead>\n",
       "    <tr style=\"text-align: right;\">\n",
       "      <th></th>\n",
       "      <th>Sentiment</th>\n",
       "      <th>count</th>\n",
       "    </tr>\n",
       "  </thead>\n",
       "  <tbody>\n",
       "    <tr>\n",
       "      <th>0</th>\n",
       "      <td>Positive</td>\n",
       "      <td>44</td>\n",
       "    </tr>\n",
       "    <tr>\n",
       "      <th>1</th>\n",
       "      <td>Joy</td>\n",
       "      <td>42</td>\n",
       "    </tr>\n",
       "    <tr>\n",
       "      <th>2</th>\n",
       "      <td>Excitement</td>\n",
       "      <td>32</td>\n",
       "    </tr>\n",
       "    <tr>\n",
       "      <th>3</th>\n",
       "      <td>Happy</td>\n",
       "      <td>14</td>\n",
       "    </tr>\n",
       "    <tr>\n",
       "      <th>4</th>\n",
       "      <td>Neutral</td>\n",
       "      <td>14</td>\n",
       "    </tr>\n",
       "    <tr>\n",
       "      <th>...</th>\n",
       "      <td>...</td>\n",
       "      <td>...</td>\n",
       "    </tr>\n",
       "    <tr>\n",
       "      <th>274</th>\n",
       "      <td>Vibrancy</td>\n",
       "      <td>1</td>\n",
       "    </tr>\n",
       "    <tr>\n",
       "      <th>275</th>\n",
       "      <td>Culinary Adventure</td>\n",
       "      <td>1</td>\n",
       "    </tr>\n",
       "    <tr>\n",
       "      <th>276</th>\n",
       "      <td>Mesmerizing</td>\n",
       "      <td>1</td>\n",
       "    </tr>\n",
       "    <tr>\n",
       "      <th>277</th>\n",
       "      <td>Thrilling Journey</td>\n",
       "      <td>1</td>\n",
       "    </tr>\n",
       "    <tr>\n",
       "      <th>278</th>\n",
       "      <td>Winter Magic</td>\n",
       "      <td>1</td>\n",
       "    </tr>\n",
       "  </tbody>\n",
       "</table>\n",
       "<p>279 rows × 2 columns</p>\n",
       "</div>"
      ],
      "text/plain": [
       "                Sentiment  count\n",
       "0              Positive       44\n",
       "1                    Joy      42\n",
       "2             Excitement      32\n",
       "3                  Happy      14\n",
       "4                Neutral      14\n",
       "..                    ...    ...\n",
       "274             Vibrancy       1\n",
       "275   Culinary Adventure       1\n",
       "276          Mesmerizing       1\n",
       "277    Thrilling Journey       1\n",
       "278         Winter Magic       1\n",
       "\n",
       "[279 rows x 2 columns]"
      ]
     },
     "execution_count": 7,
     "metadata": {},
     "output_type": "execute_result"
    }
   ],
   "source": [
    "pd.DataFrame(sentiment['Sentiment'].value_counts()).reset_index()"
   ]
  },
  {
   "cell_type": "code",
   "execution_count": 8,
   "id": "ceb51c3c",
   "metadata": {},
   "outputs": [
    {
     "data": {
      "image/png": "[encoded data removed]",
      "text/plain": [
       "<Figure size 1600x600 with 1 Axes>"
      ]
     },
     "metadata": {},
     "output_type": "display_data"
    }
   ],
   "source": [
    "plt.figure(figsize=(16,6))\n",
    "\n",
    "mycounts = sentiment['Sentiment'].value_counts()\n",
    "\n",
    "mycounts[mycounts > 5].plot(kind='bar')\n",
    "\n",
    "plt.show()"
   ]
  },
  {
   "cell_type": "code",
   "execution_count": 9,
   "id": "ea2d0bd4",
   "metadata": {},
   "outputs": [
    {
     "data": {
      "text/html": [
       "<div>\n",
       "<style scoped>\n",
       "    .dataframe tbody tr th:only-of-type {\n",
       "        vertical-align: middle;\n",
       "    }\n",
       "\n",
       "    .dataframe tbody tr th {\n",
       "        vertical-align: top;\n",
       "    }\n",
       "\n",
       "    .dataframe thead th {\n",
       "        text-align: right;\n",
       "    }\n",
       "</style>\n",
       "<table border=\"1\" class=\"dataframe\">\n",
       "  <thead>\n",
       "    <tr style=\"text-align: right;\">\n",
       "      <th></th>\n",
       "      <th>Platform</th>\n",
       "      <th>count</th>\n",
       "    </tr>\n",
       "  </thead>\n",
       "  <tbody>\n",
       "    <tr>\n",
       "      <th>0</th>\n",
       "      <td>Instagram</td>\n",
       "      <td>258</td>\n",
       "    </tr>\n",
       "    <tr>\n",
       "      <th>1</th>\n",
       "      <td>Facebook</td>\n",
       "      <td>231</td>\n",
       "    </tr>\n",
       "    <tr>\n",
       "      <th>2</th>\n",
       "      <td>Twitter</td>\n",
       "      <td>128</td>\n",
       "    </tr>\n",
       "    <tr>\n",
       "      <th>3</th>\n",
       "      <td>Twitter</td>\n",
       "      <td>115</td>\n",
       "    </tr>\n",
       "  </tbody>\n",
       "</table>\n",
       "</div>"
      ],
      "text/plain": [
       "      Platform  count\n",
       "0   Instagram     258\n",
       "1    Facebook     231\n",
       "2     Twitter     128\n",
       "3    Twitter      115"
      ]
     },
     "execution_count": 9,
     "metadata": {},
     "output_type": "execute_result"
    }
   ],
   "source": [
    "pd.DataFrame(sentiment['Platform'].value_counts()).reset_index()"
   ]
  },
  {
   "cell_type": "code",
   "execution_count": 10,
   "id": "09fb52a0",
   "metadata": {},
   "outputs": [
    {
     "data": {
      "text/html": [
       "<div>\n",
       "<style scoped>\n",
       "    .dataframe tbody tr th:only-of-type {\n",
       "        vertical-align: middle;\n",
       "    }\n",
       "\n",
       "    .dataframe tbody tr th {\n",
       "        vertical-align: top;\n",
       "    }\n",
       "\n",
       "    .dataframe thead th {\n",
       "        text-align: right;\n",
       "    }\n",
       "</style>\n",
       "<table border=\"1\" class=\"dataframe\">\n",
       "  <thead>\n",
       "    <tr style=\"text-align: right;\">\n",
       "      <th></th>\n",
       "      <th>Unnamed: 0.1</th>\n",
       "      <th>Unnamed: 0</th>\n",
       "      <th>Text</th>\n",
       "      <th>Sentiment</th>\n",
       "      <th>Timestamp</th>\n",
       "      <th>User</th>\n",
       "      <th>Platform</th>\n",
       "      <th>Hashtags</th>\n",
       "      <th>Retweets</th>\n",
       "      <th>Likes</th>\n",
       "      <th>Country</th>\n",
       "      <th>Year</th>\n",
       "      <th>Month</th>\n",
       "      <th>Day</th>\n",
       "      <th>Hour</th>\n",
       "    </tr>\n",
       "  </thead>\n",
       "  <tbody>\n",
       "    <tr>\n",
       "      <th>0</th>\n",
       "      <td>0</td>\n",
       "      <td>0</td>\n",
       "      <td>Enjoying a beautiful day at the park!        ...</td>\n",
       "      <td>Positive</td>\n",
       "      <td>2023-01-15 12:30:00</td>\n",
       "      <td>User123</td>\n",
       "      <td>Twitter</td>\n",
       "      <td>#Nature #Park</td>\n",
       "      <td>15.0</td>\n",
       "      <td>30.0</td>\n",
       "      <td>USA</td>\n",
       "      <td>2023</td>\n",
       "      <td>1</td>\n",
       "      <td>15</td>\n",
       "      <td>12</td>\n",
       "    </tr>\n",
       "  </tbody>\n",
       "</table>\n",
       "</div>"
      ],
      "text/plain": [
       "   Unnamed: 0.1  Unnamed: 0  \\\n",
       "0             0           0   \n",
       "\n",
       "                                                Text    Sentiment  \\\n",
       "0   Enjoying a beautiful day at the park!        ...   Positive     \n",
       "\n",
       "             Timestamp            User    Platform  \\\n",
       "0  2023-01-15 12:30:00   User123         Twitter     \n",
       "\n",
       "                                     Hashtags  Retweets  Likes     Country  \\\n",
       "0   #Nature #Park                                  15.0   30.0   USA         \n",
       "\n",
       "   Year  Month  Day  Hour  \n",
       "0  2023      1   15    12  "
      ]
     },
     "execution_count": 10,
     "metadata": {},
     "output_type": "execute_result"
    }
   ],
   "source": [
    "sentiment.head(1)"
   ]
  },
  {
   "cell_type": "code",
   "execution_count": 11,
   "id": "322553a2",
   "metadata": {},
   "outputs": [],
   "source": [
    "sentiment.drop(columns=['Unnamed: 0.1','Unnamed: 0','User','Year','Month','Day','Hour'], inplace=True)"
   ]
  },
  {
   "cell_type": "code",
   "execution_count": 12,
   "id": "b8492524",
   "metadata": {},
   "outputs": [
    {
     "name": "stdout",
     "output_type": "stream",
     "text": [
      "<class 'pandas.core.frame.DataFrame'>\n",
      "RangeIndex: 732 entries, 0 to 731\n",
      "Data columns (total 8 columns):\n",
      " #   Column     Non-Null Count  Dtype  \n",
      "---  ------     --------------  -----  \n",
      " 0   Text       732 non-null    object \n",
      " 1   Sentiment  732 non-null    object \n",
      " 2   Timestamp  732 non-null    object \n",
      " 3   Platform   732 non-null    object \n",
      " 4   Hashtags   732 non-null    object \n",
      " 5   Retweets   732 non-null    float64\n",
      " 6   Likes      732 non-null    float64\n",
      " 7   Country    732 non-null    object \n",
      "dtypes: float64(2), object(6)\n",
      "memory usage: 45.9+ KB\n"
     ]
    }
   ],
   "source": [
    "sentiment.info()"
   ]
  },
  {
   "cell_type": "markdown",
   "id": "d950479c",
   "metadata": {},
   "source": [
    "## Understanding\n",
    "\n",
    "- Sentiment has 279 different type so at first we will group similar type of emotion then assign all with value less than 10 or 5 to be other\n",
    "- The platform has twitter appear twice we should combine that\n",
    "- Work on the text column to clean it"
   ]
  },
  {
   "cell_type": "code",
   "execution_count": null,
   "id": "067b49c0",
   "metadata": {},
   "outputs": [],
   "source": [
    "emotion_group_map = {\n",
    "    'Positive': ['positive', 'happy', 'joy', 'love', 'gratitude', 'satisfaction', 'amusement', 'cheerful', 'thrilled', \n",
    "                 'overjoyed', 'excited', 'proud', 'strong', 'assured', 'empowerment', 'delighted', 'contentment', 'enjoyment', \n",
    "                 'playful', 'happiness', 'admiration', 'affection', 'kind', 'pride', 'compassion', 'tenderness', 'enthusiasm'\n",
    "                 ,'Excitement','Elation','Hopeful', 'Grateful', 'Ecstasy', 'Positivity',],\n",
    "\n",
    "    'Negative': ['negative', 'sad', 'anger', 'fear', 'disgust', 'gloom', 'depressed', 'melancholy', 'regret', 'furious', \n",
    "                 'mad', 'irritated', 'annoyed', 'anxious', 'scared', 'worried', 'terrified', 'despair', 'resentment', \n",
    "                 'frustration', 'sadness', 'grief', 'loneliness', 'jealousy', 'bitter', 'confusion', 'shame', 'disappointed', \n",
    "                 'intimidation', 'helplessness', 'envy', 'hate', 'bad', 'embarrassed', 'mischievous','Fearful', 'Betrayal', 'Devastated',\n",
    "                 'Envious', 'Frustrated','Sorrow', 'Suffering','Jealous','Overwhelmed' ,'Disappointment', 'Numbness','Desperation', 'Isolation'],\n",
    "\n",
    "    'Neutral': ['neutral', 'indifference', 'bored', 'uninterested', 'boredom', 'curious', 'curiosity', 'interested', \n",
    "                'inquisitive', 'fascinated', 'whispers of the past', 'ocean\\'s freedom', 'runway creativity',\n",
    "                'Surprise','Calmness','Creative Inspiration','awe','Nostalgia', 'Ambivalence','Captivation', 'Accomplishment',\n",
    "                'Inspiration', 'Inspired', 'Creativity', 'Arousal', 'Kindness', 'Friendship', 'Thrill', 'relief','Anticipation',\n",
    "                 'fulfillment', 'Motivation', 'Success','Adoration', 'Compassionate', 'Hope','Acceptance'],\n",
    "                \n",
    "    'Other': []\n",
    "}\n",
    "\n"
   ]
  },
  {
   "cell_type": "code",
   "execution_count": 14,
   "id": "2fd6bc21",
   "metadata": {},
   "outputs": [],
   "source": [
    "def change_emotion(emotion):\n",
    "    emotion_lower = emotion.lower().strip()\n",
    "    for group, synonyms in emotion_group_map.items():\n",
    "        if emotion_lower in [syn.lower().strip() for syn in synonyms]:\n",
    "            return group\n",
    "    return 'Other'"
   ]
  },
  {
   "cell_type": "code",
   "execution_count": 15,
   "id": "51e46ef2",
   "metadata": {},
   "outputs": [],
   "source": [
    "sentiment['MappedSentiment'] = sentiment['Sentiment'].apply(change_emotion)"
   ]
  },
  {
   "cell_type": "code",
   "execution_count": 16,
   "id": "d06be0f3",
   "metadata": {},
   "outputs": [
    {
     "name": "stdout",
     "output_type": "stream",
     "text": [
      "MappedSentiment\n",
      "Positive    262\n",
      "Other       167\n",
      "Negative    161\n",
      "Neutral     142\n",
      "Name: count, dtype: int64\n"
     ]
    }
   ],
   "source": [
    "print(sentiment['MappedSentiment'].value_counts())"
   ]
  },
  {
   "cell_type": "code",
   "execution_count": 17,
   "id": "d43177f8",
   "metadata": {},
   "outputs": [
    {
     "data": {
      "image/png": "[encoded data removed]",
      "text/plain": [
       "<Figure size 1600x600 with 1 Axes>"
      ]
     },
     "metadata": {},
     "output_type": "display_data"
    }
   ],
   "source": [
    "plt.figure(figsize=(16,6))\n",
    "\n",
    "mycounts = sentiment['MappedSentiment'].value_counts()\n",
    "\n",
    "mycounts.plot(kind='bar')\n",
    "\n",
    "plt.show()"
   ]
  },
  {
   "cell_type": "code",
   "execution_count": 18,
   "id": "3038f4fa",
   "metadata": {},
   "outputs": [
    {
     "data": {
      "text/html": [
       "<div>\n",
       "<style scoped>\n",
       "    .dataframe tbody tr th:only-of-type {\n",
       "        vertical-align: middle;\n",
       "    }\n",
       "\n",
       "    .dataframe tbody tr th {\n",
       "        vertical-align: top;\n",
       "    }\n",
       "\n",
       "    .dataframe thead th {\n",
       "        text-align: right;\n",
       "    }\n",
       "</style>\n",
       "<table border=\"1\" class=\"dataframe\">\n",
       "  <thead>\n",
       "    <tr style=\"text-align: right;\">\n",
       "      <th></th>\n",
       "      <th>Text</th>\n",
       "      <th>Sentiment</th>\n",
       "      <th>Timestamp</th>\n",
       "      <th>Platform</th>\n",
       "      <th>Hashtags</th>\n",
       "      <th>Retweets</th>\n",
       "      <th>Likes</th>\n",
       "      <th>Country</th>\n",
       "      <th>MappedSentiment</th>\n",
       "    </tr>\n",
       "  </thead>\n",
       "  <tbody>\n",
       "    <tr>\n",
       "      <th>513</th>\n",
       "      <td>Rocking out to the guitar solos at a Queen tri...</td>\n",
       "      <td>Nostalgia</td>\n",
       "      <td>2018-12-02 22:15:00</td>\n",
       "      <td>Instagram</td>\n",
       "      <td>#Nostalgia #QueenTribute</td>\n",
       "      <td>22.0</td>\n",
       "      <td>45.0</td>\n",
       "      <td>UK</td>\n",
       "      <td>Neutral</td>\n",
       "    </tr>\n",
       "    <tr>\n",
       "      <th>257</th>\n",
       "      <td>Navigating the sea of hope, sailing towards t...</td>\n",
       "      <td>Hopeful</td>\n",
       "      <td>2023-10-05 07:30:00</td>\n",
       "      <td>Facebook</td>\n",
       "      <td>#Hopeful #SunriseOfPossibilities</td>\n",
       "      <td>12.0</td>\n",
       "      <td>24.0</td>\n",
       "      <td>USA</td>\n",
       "      <td>Positive</td>\n",
       "    </tr>\n",
       "    <tr>\n",
       "      <th>717</th>\n",
       "      <td>Participating in a debate club to enhance crit...</td>\n",
       "      <td>Neutral</td>\n",
       "      <td>2023-10-15 20:45:00</td>\n",
       "      <td>Twitter</td>\n",
       "      <td>#DebateSkills #HighSchoolIntellect</td>\n",
       "      <td>22.0</td>\n",
       "      <td>43.0</td>\n",
       "      <td>Canada</td>\n",
       "      <td>Neutral</td>\n",
       "    </tr>\n",
       "    <tr>\n",
       "      <th>463</th>\n",
       "      <td>Betrayal, a venomous serpent slithering throug...</td>\n",
       "      <td>Betrayal</td>\n",
       "      <td>2021-03-02 17:45:00</td>\n",
       "      <td>Instagram</td>\n",
       "      <td>#Betrayal #PoisonedTrust</td>\n",
       "      <td>25.0</td>\n",
       "      <td>50.0</td>\n",
       "      <td>Canada</td>\n",
       "      <td>Negative</td>\n",
       "    </tr>\n",
       "    <tr>\n",
       "      <th>728</th>\n",
       "      <td>Attending a surprise birthday party organized ...</td>\n",
       "      <td>Happy</td>\n",
       "      <td>2018-06-22 14:15:00</td>\n",
       "      <td>Instagram</td>\n",
       "      <td>#SurpriseCelebration #HighSchoolFriendship</td>\n",
       "      <td>25.0</td>\n",
       "      <td>48.0</td>\n",
       "      <td>USA</td>\n",
       "      <td>Positive</td>\n",
       "    </tr>\n",
       "    <tr>\n",
       "      <th>642</th>\n",
       "      <td>Survived a challenging physics exam. Equations...</td>\n",
       "      <td>Relief</td>\n",
       "      <td>2023-08-01 13:30:00</td>\n",
       "      <td>Instagram</td>\n",
       "      <td>#PhysicsSurvivor #HighSchoolAdventures</td>\n",
       "      <td>20.0</td>\n",
       "      <td>40.0</td>\n",
       "      <td>USA</td>\n",
       "      <td>Neutral</td>\n",
       "    </tr>\n",
       "    <tr>\n",
       "      <th>551</th>\n",
       "      <td>In the tennis tournament, a highly anticipated...</td>\n",
       "      <td>Frustration</td>\n",
       "      <td>2018-07-10 21:15:00</td>\n",
       "      <td>Instagram</td>\n",
       "      <td>#Frustration #TennisSetback</td>\n",
       "      <td>35.0</td>\n",
       "      <td>70.0</td>\n",
       "      <td>USA</td>\n",
       "      <td>Negative</td>\n",
       "    </tr>\n",
       "    <tr>\n",
       "      <th>32</th>\n",
       "      <td>Coding a new project with enthusiasm.        ...</td>\n",
       "      <td>Positive</td>\n",
       "      <td>2023-01-25 13:15:00</td>\n",
       "      <td>Facebook</td>\n",
       "      <td>#Coding #Enthusiasm</td>\n",
       "      <td>30.0</td>\n",
       "      <td>60.0</td>\n",
       "      <td>USA</td>\n",
       "      <td>Positive</td>\n",
       "    </tr>\n",
       "    <tr>\n",
       "      <th>220</th>\n",
       "      <td>A melancholic symphony playing in the backgro...</td>\n",
       "      <td>Melancholy</td>\n",
       "      <td>2019-03-25 21:00:00</td>\n",
       "      <td>Twitter</td>\n",
       "      <td>#Melancholy #WistfulHeart</td>\n",
       "      <td>13.0</td>\n",
       "      <td>26.0</td>\n",
       "      <td>Canada</td>\n",
       "      <td>Negative</td>\n",
       "    </tr>\n",
       "    <tr>\n",
       "      <th>471</th>\n",
       "      <td>Laughter echoes in the air, a chorus of happin...</td>\n",
       "      <td>Happiness</td>\n",
       "      <td>2018-04-12 18:30:00</td>\n",
       "      <td>Twitter</td>\n",
       "      <td>#Happiness #SpiritLifter</td>\n",
       "      <td>35.0</td>\n",
       "      <td>70.0</td>\n",
       "      <td>Canada</td>\n",
       "      <td>Positive</td>\n",
       "    </tr>\n",
       "  </tbody>\n",
       "</table>\n",
       "</div>"
      ],
      "text/plain": [
       "                                                  Text          Sentiment  \\\n",
       "513  Rocking out to the guitar solos at a Queen tri...         Nostalgia    \n",
       "257   Navigating the sea of hope, sailing towards t...           Hopeful    \n",
       "717  Participating in a debate club to enhance crit...           Neutral    \n",
       "463  Betrayal, a venomous serpent slithering throug...          Betrayal    \n",
       "728  Attending a surprise birthday party organized ...             Happy    \n",
       "642  Survived a challenging physics exam. Equations...            Relief    \n",
       "551  In the tennis tournament, a highly anticipated...       Frustration    \n",
       "32    Coding a new project with enthusiasm.        ...         Positive     \n",
       "220   A melancholic symphony playing in the backgro...   Melancholy         \n",
       "471  Laughter echoes in the air, a chorus of happin...         Happiness    \n",
       "\n",
       "               Timestamp     Platform  \\\n",
       "513  2018-12-02 22:15:00   Instagram    \n",
       "257  2023-10-05 07:30:00    Facebook    \n",
       "717  2023-10-15 20:45:00     Twitter    \n",
       "463  2021-03-02 17:45:00   Instagram    \n",
       "728  2018-06-22 14:15:00   Instagram    \n",
       "642  2023-08-01 13:30:00   Instagram    \n",
       "551  2018-07-10 21:15:00   Instagram    \n",
       "32   2023-01-25 13:15:00    Facebook    \n",
       "220  2019-03-25 21:00:00    Twitter     \n",
       "471  2018-04-12 18:30:00     Twitter    \n",
       "\n",
       "                                         Hashtags  Retweets  Likes  \\\n",
       "513                     #Nostalgia #QueenTribute       22.0   45.0   \n",
       "257             #Hopeful #SunriseOfPossibilities       12.0   24.0   \n",
       "717           #DebateSkills #HighSchoolIntellect       22.0   43.0   \n",
       "463                     #Betrayal #PoisonedTrust       25.0   50.0   \n",
       "728   #SurpriseCelebration #HighSchoolFriendship       25.0   48.0   \n",
       "642       #PhysicsSurvivor #HighSchoolAdventures       20.0   40.0   \n",
       "551                  #Frustration #TennisSetback       35.0   70.0   \n",
       "32         #Coding #Enthusiasm                         30.0   60.0   \n",
       "220     #Melancholy #WistfulHeart                      13.0   26.0   \n",
       "471                     #Happiness #SpiritLifter       35.0   70.0   \n",
       "\n",
       "             Country MappedSentiment  \n",
       "513              UK          Neutral  \n",
       "257             USA         Positive  \n",
       "717           Canada         Neutral  \n",
       "463          Canada         Negative  \n",
       "728              USA        Positive  \n",
       "642              USA         Neutral  \n",
       "551             USA         Negative  \n",
       "32              USA         Positive  \n",
       "220   Canada                Negative  \n",
       "471          Canada         Positive  "
      ]
     },
     "execution_count": 18,
     "metadata": {},
     "output_type": "execute_result"
    }
   ],
   "source": [
    "sentiment.sample(10)"
   ]
  },
  {
   "cell_type": "markdown",
   "id": "6509759e",
   "metadata": {},
   "source": [
    "For text\n",
    "- Lower case\n",
    "- tokenize\n",
    "- remove special characters\n",
    "- remove stop words and punctuation\n",
    "- stemming"
   ]
  },
  {
   "cell_type": "code",
   "execution_count": 19,
   "id": "e05d0919",
   "metadata": {},
   "outputs": [],
   "source": [
    "import nltk"
   ]
  },
  {
   "cell_type": "code",
   "execution_count": 20,
   "id": "952755ce",
   "metadata": {},
   "outputs": [
    {
     "name": "stderr",
     "output_type": "stream",
     "text": [
      "[nltk_data] Downloading package punkt to\n",
      "[nltk_data]     C:\\Users\\Bijay\\AppData\\Roaming\\nltk_data...\n",
      "[nltk_data]   Package punkt is already up-to-date!\n"
     ]
    },
    {
     "data": {
      "text/plain": [
       "True"
      ]
     },
     "execution_count": 20,
     "metadata": {},
     "output_type": "execute_result"
    }
   ],
   "source": [
    "nltk.download('punkt')"
   ]
  },
  {
   "cell_type": "code",
   "execution_count": 21,
   "id": "55f8fa59",
   "metadata": {},
   "outputs": [],
   "source": [
    "import string\n",
    "\n",
    "from nltk.tokenize import TreebankWordTokenizer\n",
    "from nltk.corpus import stopwords\n",
    "from nltk.stem.porter import PorterStemmer\n",
    "\n",
    "ps = PorterStemmer()\n",
    "\n",
    "tokenizer = TreebankWordTokenizer()\n",
    "\n",
    "stop_words = set(stopwords.words('english'))\n",
    "\n",
    "def transform_text(text):\n",
    "    text = text.lower()\n",
    "    tokens = tokenizer.tokenize(text)\n",
    "\n",
    "    filtered = [ps.stem(i) for i in tokens if i.isalnum() and i not in stop_words]\n",
    "\n",
    "    return ' '.join(filtered)"
   ]
  },
  {
   "cell_type": "code",
   "execution_count": 22,
   "id": "ba5238c8",
   "metadata": {},
   "outputs": [
    {
     "data": {
      "text/plain": [
       "'hi bijay love code'"
      ]
     },
     "execution_count": 22,
     "metadata": {},
     "output_type": "execute_result"
    }
   ],
   "source": [
    "transform_text(\"Hi how are you, Bijay %% ? Loving your codes\")"
   ]
  },
  {
   "cell_type": "code",
   "execution_count": 23,
   "id": "830dd5ab",
   "metadata": {},
   "outputs": [],
   "source": [
    "sentiment['Text'] = sentiment['Text'].apply(transform_text)"
   ]
  },
  {
   "cell_type": "code",
   "execution_count": 24,
   "id": "a4d3e0c2",
   "metadata": {},
   "outputs": [
    {
     "data": {
      "text/html": [
       "<div>\n",
       "<style scoped>\n",
       "    .dataframe tbody tr th:only-of-type {\n",
       "        vertical-align: middle;\n",
       "    }\n",
       "\n",
       "    .dataframe tbody tr th {\n",
       "        vertical-align: top;\n",
       "    }\n",
       "\n",
       "    .dataframe thead th {\n",
       "        text-align: right;\n",
       "    }\n",
       "</style>\n",
       "<table border=\"1\" class=\"dataframe\">\n",
       "  <thead>\n",
       "    <tr style=\"text-align: right;\">\n",
       "      <th></th>\n",
       "      <th>Text</th>\n",
       "      <th>Sentiment</th>\n",
       "      <th>Timestamp</th>\n",
       "      <th>Platform</th>\n",
       "      <th>Hashtags</th>\n",
       "      <th>Retweets</th>\n",
       "      <th>Likes</th>\n",
       "      <th>Country</th>\n",
       "      <th>MappedSentiment</th>\n",
       "    </tr>\n",
       "  </thead>\n",
       "  <tbody>\n",
       "    <tr>\n",
       "      <th>0</th>\n",
       "      <td>enjoy beauti day park</td>\n",
       "      <td>Positive</td>\n",
       "      <td>2023-01-15 12:30:00</td>\n",
       "      <td>Twitter</td>\n",
       "      <td>#Nature #Park</td>\n",
       "      <td>15.0</td>\n",
       "      <td>30.0</td>\n",
       "      <td>USA</td>\n",
       "      <td>Positive</td>\n",
       "    </tr>\n",
       "    <tr>\n",
       "      <th>1</th>\n",
       "      <td>traffic terribl morn</td>\n",
       "      <td>Negative</td>\n",
       "      <td>2023-01-15 08:45:00</td>\n",
       "      <td>Twitter</td>\n",
       "      <td>#Traffic #Morning</td>\n",
       "      <td>5.0</td>\n",
       "      <td>10.0</td>\n",
       "      <td>Canada</td>\n",
       "      <td>Negative</td>\n",
       "    </tr>\n",
       "    <tr>\n",
       "      <th>2</th>\n",
       "      <td>finish amaz workout</td>\n",
       "      <td>Positive</td>\n",
       "      <td>2023-01-15 15:45:00</td>\n",
       "      <td>Instagram</td>\n",
       "      <td>#Fitness #Workout</td>\n",
       "      <td>20.0</td>\n",
       "      <td>40.0</td>\n",
       "      <td>USA</td>\n",
       "      <td>Positive</td>\n",
       "    </tr>\n",
       "    <tr>\n",
       "      <th>3</th>\n",
       "      <td>excit upcom weekend getaway</td>\n",
       "      <td>Positive</td>\n",
       "      <td>2023-01-15 18:20:00</td>\n",
       "      <td>Facebook</td>\n",
       "      <td>#Travel #Adventure</td>\n",
       "      <td>8.0</td>\n",
       "      <td>15.0</td>\n",
       "      <td>UK</td>\n",
       "      <td>Positive</td>\n",
       "    </tr>\n",
       "    <tr>\n",
       "      <th>4</th>\n",
       "      <td>tri new recip dinner tonight</td>\n",
       "      <td>Neutral</td>\n",
       "      <td>2023-01-15 19:55:00</td>\n",
       "      <td>Instagram</td>\n",
       "      <td>#Cooking #Food</td>\n",
       "      <td>12.0</td>\n",
       "      <td>25.0</td>\n",
       "      <td>Australia</td>\n",
       "      <td>Neutral</td>\n",
       "    </tr>\n",
       "  </tbody>\n",
       "</table>\n",
       "</div>"
      ],
      "text/plain": [
       "                           Text    Sentiment            Timestamp  \\\n",
       "0         enjoy beauti day park   Positive    2023-01-15 12:30:00   \n",
       "1          traffic terribl morn   Negative    2023-01-15 08:45:00   \n",
       "2           finish amaz workout   Positive    2023-01-15 15:45:00   \n",
       "3   excit upcom weekend getaway   Positive    2023-01-15 18:20:00   \n",
       "4  tri new recip dinner tonight   Neutral     2023-01-15 19:55:00   \n",
       "\n",
       "      Platform                                    Hashtags  Retweets  Likes  \\\n",
       "0    Twitter     #Nature #Park                                  15.0   30.0   \n",
       "1    Twitter     #Traffic #Morning                               5.0   10.0   \n",
       "2   Instagram    #Fitness #Workout                              20.0   40.0   \n",
       "3    Facebook    #Travel #Adventure                              8.0   15.0   \n",
       "4   Instagram    #Cooking #Food                                 12.0   25.0   \n",
       "\n",
       "        Country MappedSentiment  \n",
       "0     USA              Positive  \n",
       "1     Canada           Negative  \n",
       "2   USA                Positive  \n",
       "3     UK               Positive  \n",
       "4    Australia          Neutral  "
      ]
     },
     "execution_count": 24,
     "metadata": {},
     "output_type": "execute_result"
    }
   ],
   "source": [
    "sentiment.head()"
   ]
  },
  {
   "cell_type": "code",
   "execution_count": 25,
   "id": "b4b3bf96",
   "metadata": {},
   "outputs": [],
   "source": [
    "sentiment['Timestamp'] = pd.to_datetime(sentiment['Timestamp'])\n",
    "sentiment['Likes'] = sentiment['Likes'].astype(int)\n",
    "sentiment['Retweets'] = sentiment['Retweets'].astype(int)"
   ]
  },
  {
   "cell_type": "code",
   "execution_count": 26,
   "id": "b8003ad5",
   "metadata": {},
   "outputs": [],
   "source": [
    "sentiment.drop(columns=['Sentiment'], inplace=True)"
   ]
  },
  {
   "cell_type": "code",
   "execution_count": 27,
   "id": "208c764e",
   "metadata": {},
   "outputs": [
    {
     "data": {
      "text/html": [
       "<div>\n",
       "<style scoped>\n",
       "    .dataframe tbody tr th:only-of-type {\n",
       "        vertical-align: middle;\n",
       "    }\n",
       "\n",
       "    .dataframe tbody tr th {\n",
       "        vertical-align: top;\n",
       "    }\n",
       "\n",
       "    .dataframe thead th {\n",
       "        text-align: right;\n",
       "    }\n",
       "</style>\n",
       "<table border=\"1\" class=\"dataframe\">\n",
       "  <thead>\n",
       "    <tr style=\"text-align: right;\">\n",
       "      <th></th>\n",
       "      <th>Text</th>\n",
       "      <th>Timestamp</th>\n",
       "      <th>Platform</th>\n",
       "      <th>Hashtags</th>\n",
       "      <th>Retweets</th>\n",
       "      <th>Likes</th>\n",
       "      <th>Country</th>\n",
       "      <th>MappedSentiment</th>\n",
       "    </tr>\n",
       "  </thead>\n",
       "  <tbody>\n",
       "    <tr>\n",
       "      <th>0</th>\n",
       "      <td>enjoy beauti day park</td>\n",
       "      <td>2023-01-15 12:30:00</td>\n",
       "      <td>Twitter</td>\n",
       "      <td>#Nature #Park</td>\n",
       "      <td>15</td>\n",
       "      <td>30</td>\n",
       "      <td>USA</td>\n",
       "      <td>Positive</td>\n",
       "    </tr>\n",
       "    <tr>\n",
       "      <th>1</th>\n",
       "      <td>traffic terribl morn</td>\n",
       "      <td>2023-01-15 08:45:00</td>\n",
       "      <td>Twitter</td>\n",
       "      <td>#Traffic #Morning</td>\n",
       "      <td>5</td>\n",
       "      <td>10</td>\n",
       "      <td>Canada</td>\n",
       "      <td>Negative</td>\n",
       "    </tr>\n",
       "    <tr>\n",
       "      <th>2</th>\n",
       "      <td>finish amaz workout</td>\n",
       "      <td>2023-01-15 15:45:00</td>\n",
       "      <td>Instagram</td>\n",
       "      <td>#Fitness #Workout</td>\n",
       "      <td>20</td>\n",
       "      <td>40</td>\n",
       "      <td>USA</td>\n",
       "      <td>Positive</td>\n",
       "    </tr>\n",
       "    <tr>\n",
       "      <th>3</th>\n",
       "      <td>excit upcom weekend getaway</td>\n",
       "      <td>2023-01-15 18:20:00</td>\n",
       "      <td>Facebook</td>\n",
       "      <td>#Travel #Adventure</td>\n",
       "      <td>8</td>\n",
       "      <td>15</td>\n",
       "      <td>UK</td>\n",
       "      <td>Positive</td>\n",
       "    </tr>\n",
       "    <tr>\n",
       "      <th>4</th>\n",
       "      <td>tri new recip dinner tonight</td>\n",
       "      <td>2023-01-15 19:55:00</td>\n",
       "      <td>Instagram</td>\n",
       "      <td>#Cooking #Food</td>\n",
       "      <td>12</td>\n",
       "      <td>25</td>\n",
       "      <td>Australia</td>\n",
       "      <td>Neutral</td>\n",
       "    </tr>\n",
       "  </tbody>\n",
       "</table>\n",
       "</div>"
      ],
      "text/plain": [
       "                           Text           Timestamp     Platform  \\\n",
       "0         enjoy beauti day park 2023-01-15 12:30:00    Twitter     \n",
       "1          traffic terribl morn 2023-01-15 08:45:00    Twitter     \n",
       "2           finish amaz workout 2023-01-15 15:45:00   Instagram    \n",
       "3   excit upcom weekend getaway 2023-01-15 18:20:00    Facebook    \n",
       "4  tri new recip dinner tonight 2023-01-15 19:55:00   Instagram    \n",
       "\n",
       "                                     Hashtags  Retweets  Likes       Country  \\\n",
       "0   #Nature #Park                                    15     30     USA         \n",
       "1   #Traffic #Morning                                 5     10     Canada      \n",
       "2   #Fitness #Workout                                20     40   USA           \n",
       "3   #Travel #Adventure                                8     15     UK          \n",
       "4   #Cooking #Food                                   12     25    Australia    \n",
       "\n",
       "  MappedSentiment  \n",
       "0        Positive  \n",
       "1        Negative  \n",
       "2        Positive  \n",
       "3        Positive  \n",
       "4         Neutral  "
      ]
     },
     "execution_count": 27,
     "metadata": {},
     "output_type": "execute_result"
    }
   ],
   "source": [
    "sentiment.head(5)"
   ]
  },
  {
   "cell_type": "code",
   "execution_count": 28,
   "id": "86437d00",
   "metadata": {},
   "outputs": [
    {
     "data": {
      "text/plain": [
       "Hashtags\n",
       "#Compassionate #TearsOfEmpathy                 3\n",
       "#Proud #ScalingPeaks                           3\n",
       "#Hopeful #SeedsOfOptimism                      3\n",
       "#Playful #CarnivalEscapade                     3\n",
       "#Hopeful #SailorOfDreams                       2\n",
       "                                              ..\n",
       "#ScienceFairWinner #HighSchoolScience          1\n",
       "#SurpriseCelebration #HighSchoolFriendship     1\n",
       "#CommunityGiving #HighSchoolPhilanthropy       1\n",
       "#CulturalCelebration #HighSchoolUnity          1\n",
       "#TeamSpirit #HighSchoolProjects                1\n",
       "Name: count, Length: 697, dtype: int64"
      ]
     },
     "execution_count": 28,
     "metadata": {},
     "output_type": "execute_result"
    }
   ],
   "source": [
    "sentiment['Hashtags'].value_counts()"
   ]
  },
  {
   "cell_type": "code",
   "execution_count": 29,
   "id": "b09cd3f4",
   "metadata": {},
   "outputs": [],
   "source": [
    "def remove_hash(text):\n",
    "    return ', '.join(i.strip('#') for i in text.split())"
   ]
  },
  {
   "cell_type": "code",
   "execution_count": 30,
   "id": "e2e26f62",
   "metadata": {},
   "outputs": [
    {
     "data": {
      "text/plain": [
       "'Travel, Adventure'"
      ]
     },
     "execution_count": 30,
     "metadata": {},
     "output_type": "execute_result"
    }
   ],
   "source": [
    "remove_hash('#Travel #Adventure')"
   ]
  },
  {
   "cell_type": "code",
   "execution_count": 31,
   "id": "15db7a3e",
   "metadata": {},
   "outputs": [],
   "source": [
    "sentiment['Hashtags'] = sentiment['Hashtags'].apply(remove_hash)"
   ]
  },
  {
   "cell_type": "code",
   "execution_count": 32,
   "id": "f0c81146",
   "metadata": {},
   "outputs": [
    {
     "data": {
      "text/html": [
       "<div>\n",
       "<style scoped>\n",
       "    .dataframe tbody tr th:only-of-type {\n",
       "        vertical-align: middle;\n",
       "    }\n",
       "\n",
       "    .dataframe tbody tr th {\n",
       "        vertical-align: top;\n",
       "    }\n",
       "\n",
       "    .dataframe thead th {\n",
       "        text-align: right;\n",
       "    }\n",
       "</style>\n",
       "<table border=\"1\" class=\"dataframe\">\n",
       "  <thead>\n",
       "    <tr style=\"text-align: right;\">\n",
       "      <th></th>\n",
       "      <th>Text</th>\n",
       "      <th>Timestamp</th>\n",
       "      <th>Platform</th>\n",
       "      <th>Hashtags</th>\n",
       "      <th>Retweets</th>\n",
       "      <th>Likes</th>\n",
       "      <th>Country</th>\n",
       "      <th>MappedSentiment</th>\n",
       "    </tr>\n",
       "  </thead>\n",
       "  <tbody>\n",
       "    <tr>\n",
       "      <th>0</th>\n",
       "      <td>enjoy beauti day park</td>\n",
       "      <td>2023-01-15 12:30:00</td>\n",
       "      <td>Twitter</td>\n",
       "      <td>Nature, Park</td>\n",
       "      <td>15</td>\n",
       "      <td>30</td>\n",
       "      <td>USA</td>\n",
       "      <td>Positive</td>\n",
       "    </tr>\n",
       "    <tr>\n",
       "      <th>1</th>\n",
       "      <td>traffic terribl morn</td>\n",
       "      <td>2023-01-15 08:45:00</td>\n",
       "      <td>Twitter</td>\n",
       "      <td>Traffic, Morning</td>\n",
       "      <td>5</td>\n",
       "      <td>10</td>\n",
       "      <td>Canada</td>\n",
       "      <td>Negative</td>\n",
       "    </tr>\n",
       "    <tr>\n",
       "      <th>2</th>\n",
       "      <td>finish amaz workout</td>\n",
       "      <td>2023-01-15 15:45:00</td>\n",
       "      <td>Instagram</td>\n",
       "      <td>Fitness, Workout</td>\n",
       "      <td>20</td>\n",
       "      <td>40</td>\n",
       "      <td>USA</td>\n",
       "      <td>Positive</td>\n",
       "    </tr>\n",
       "    <tr>\n",
       "      <th>3</th>\n",
       "      <td>excit upcom weekend getaway</td>\n",
       "      <td>2023-01-15 18:20:00</td>\n",
       "      <td>Facebook</td>\n",
       "      <td>Travel, Adventure</td>\n",
       "      <td>8</td>\n",
       "      <td>15</td>\n",
       "      <td>UK</td>\n",
       "      <td>Positive</td>\n",
       "    </tr>\n",
       "    <tr>\n",
       "      <th>4</th>\n",
       "      <td>tri new recip dinner tonight</td>\n",
       "      <td>2023-01-15 19:55:00</td>\n",
       "      <td>Instagram</td>\n",
       "      <td>Cooking, Food</td>\n",
       "      <td>12</td>\n",
       "      <td>25</td>\n",
       "      <td>Australia</td>\n",
       "      <td>Neutral</td>\n",
       "    </tr>\n",
       "  </tbody>\n",
       "</table>\n",
       "</div>"
      ],
      "text/plain": [
       "                           Text           Timestamp     Platform  \\\n",
       "0         enjoy beauti day park 2023-01-15 12:30:00    Twitter     \n",
       "1          traffic terribl morn 2023-01-15 08:45:00    Twitter     \n",
       "2           finish amaz workout 2023-01-15 15:45:00   Instagram    \n",
       "3   excit upcom weekend getaway 2023-01-15 18:20:00    Facebook    \n",
       "4  tri new recip dinner tonight 2023-01-15 19:55:00   Instagram    \n",
       "\n",
       "            Hashtags  Retweets  Likes       Country MappedSentiment  \n",
       "0       Nature, Park        15     30     USA              Positive  \n",
       "1   Traffic, Morning         5     10     Canada           Negative  \n",
       "2   Fitness, Workout        20     40   USA                Positive  \n",
       "3  Travel, Adventure         8     15     UK               Positive  \n",
       "4      Cooking, Food        12     25    Australia          Neutral  "
      ]
     },
     "execution_count": 32,
     "metadata": {},
     "output_type": "execute_result"
    }
   ],
   "source": [
    "sentiment.head(5)"
   ]
  },
  {
   "cell_type": "code",
   "execution_count": 33,
   "id": "a8edc748",
   "metadata": {},
   "outputs": [],
   "source": [
    "sentiment['Platform'] = sentiment['Platform'].str.strip().str.lower()"
   ]
  },
  {
   "cell_type": "code",
   "execution_count": 34,
   "id": "3a9d0eff",
   "metadata": {},
   "outputs": [
    {
     "data": {
      "text/plain": [
       "Platform\n",
       "instagram    258\n",
       "twitter      243\n",
       "facebook     231\n",
       "Name: count, dtype: int64"
      ]
     },
     "execution_count": 34,
     "metadata": {},
     "output_type": "execute_result"
    }
   ],
   "source": [
    "sentiment['Platform'].value_counts()"
   ]
  },
  {
   "cell_type": "code",
   "execution_count": 35,
   "id": "d3f7fe74",
   "metadata": {},
   "outputs": [
    {
     "name": "stdout",
     "output_type": "stream",
     "text": [
      "<class 'pandas.core.frame.DataFrame'>\n",
      "RangeIndex: 732 entries, 0 to 731\n",
      "Data columns (total 8 columns):\n",
      " #   Column           Non-Null Count  Dtype         \n",
      "---  ------           --------------  -----         \n",
      " 0   Text             732 non-null    object        \n",
      " 1   Timestamp        732 non-null    datetime64[ns]\n",
      " 2   Platform         732 non-null    object        \n",
      " 3   Hashtags         732 non-null    object        \n",
      " 4   Retweets         732 non-null    int64         \n",
      " 5   Likes            732 non-null    int64         \n",
      " 6   Country          732 non-null    object        \n",
      " 7   MappedSentiment  732 non-null    object        \n",
      "dtypes: datetime64[ns](1), int64(2), object(5)\n",
      "memory usage: 45.9+ KB\n"
     ]
    }
   ],
   "source": [
    "sentiment.info()"
   ]
  },
  {
   "cell_type": "code",
   "execution_count": 36,
   "id": "859029b6",
   "metadata": {},
   "outputs": [
    {
     "data": {
      "text/plain": [
       "<Axes: xlabel='MappedSentiment'>"
      ]
     },
     "execution_count": 36,
     "metadata": {},
     "output_type": "execute_result"
    },
    {
     "data": {
      "image/png": "[encoded data removed]",
      "text/plain": [
       "<Figure size 640x480 with 1 Axes>"
      ]
     },
     "metadata": {},
     "output_type": "display_data"
    }
   ],
   "source": [
    "sentiment['MappedSentiment'].value_counts().plot(kind='bar')"
   ]
  },
  {
   "cell_type": "code",
   "execution_count": 37,
   "id": "5b162e68",
   "metadata": {},
   "outputs": [
    {
     "data": {
      "text/plain": [
       "<Axes: xlabel='Platform'>"
      ]
     },
     "execution_count": 37,
     "metadata": {},
     "output_type": "execute_result"
    },
    {
     "data": {
      "image/png": "[encoded data removed]",
      "text/plain": [
       "<Figure size 640x480 with 1 Axes>"
      ]
     },
     "metadata": {},
     "output_type": "display_data"
    }
   ],
   "source": [
    "sentiment.groupby('Platform')[['Likes', 'Retweets']].mean().plot(kind='bar')"
   ]
  },
  {
   "cell_type": "code",
   "execution_count": 38,
   "id": "24f2439d",
   "metadata": {},
   "outputs": [
    {
     "data": {
      "text/plain": [
       "<Axes: xlabel='Timestamp'>"
      ]
     },
     "execution_count": 38,
     "metadata": {},
     "output_type": "execute_result"
    },
    {
     "data": {
      "image/png": "[encoded data removed]",
      "text/plain": [
       "<Figure size 640x480 with 1 Axes>"
      ]
     },
     "metadata": {},
     "output_type": "display_data"
    }
   ],
   "source": [
    "sentiment['Timestamp'].dt.date.value_counts().sort_index().plot()"
   ]
  },
  {
   "cell_type": "code",
   "execution_count": 39,
   "id": "7e6bdfa2",
   "metadata": {},
   "outputs": [
    {
     "data": {
      "text/plain": [
       "<Axes: >"
      ]
     },
     "execution_count": 39,
     "metadata": {},
     "output_type": "execute_result"
    },
    {
     "data": {
      "image/png": "[encoded data removed]",
      "text/plain": [
       "<Figure size 640x480 with 1 Axes>"
      ]
     },
     "metadata": {},
     "output_type": "display_data"
    }
   ],
   "source": [
    "from collections import Counter\n",
    "\n",
    "hashtag_list = sentiment['Hashtags'].str.split(', ').sum()\n",
    "hashtag_counts = Counter(hashtag_list)\n",
    "pd.Series(hashtag_counts).sort_values(ascending=False).head(10).plot(kind='bar')"
   ]
  },
  {
   "cell_type": "code",
   "execution_count": 40,
   "id": "cdd4306d",
   "metadata": {},
   "outputs": [
    {
     "data": {
      "text/plain": [
       "'finish amaz workout'"
      ]
     },
     "execution_count": 40,
     "metadata": {},
     "output_type": "execute_result"
    }
   ],
   "source": [
    "sentiment['Text'][2]"
   ]
  },
  {
   "cell_type": "code",
   "execution_count": 41,
   "id": "6346c4c8",
   "metadata": {},
   "outputs": [],
   "source": [
    "from sklearn.preprocessing import LabelEncoder\n",
    "\n",
    "le = LabelEncoder()\n",
    "sentiment['Platform_encoded'] = le.fit_transform(sentiment['Platform'])"
   ]
  },
  {
   "cell_type": "code",
   "execution_count": 42,
   "id": "8bc77752",
   "metadata": {},
   "outputs": [],
   "source": [
    "sentiment = pd.get_dummies(sentiment, columns=['Platform_encoded'], drop_first=True, dtype=int)"
   ]
  },
  {
   "cell_type": "code",
   "execution_count": 43,
   "id": "ccd4ce50",
   "metadata": {},
   "outputs": [
    {
     "data": {
      "text/html": [
       "<div>\n",
       "<style scoped>\n",
       "    .dataframe tbody tr th:only-of-type {\n",
       "        vertical-align: middle;\n",
       "    }\n",
       "\n",
       "    .dataframe tbody tr th {\n",
       "        vertical-align: top;\n",
       "    }\n",
       "\n",
       "    .dataframe thead th {\n",
       "        text-align: right;\n",
       "    }\n",
       "</style>\n",
       "<table border=\"1\" class=\"dataframe\">\n",
       "  <thead>\n",
       "    <tr style=\"text-align: right;\">\n",
       "      <th></th>\n",
       "      <th>Text</th>\n",
       "      <th>Timestamp</th>\n",
       "      <th>Platform</th>\n",
       "      <th>Hashtags</th>\n",
       "      <th>Retweets</th>\n",
       "      <th>Likes</th>\n",
       "      <th>Country</th>\n",
       "      <th>MappedSentiment</th>\n",
       "      <th>Platform_encoded_1</th>\n",
       "      <th>Platform_encoded_2</th>\n",
       "    </tr>\n",
       "  </thead>\n",
       "  <tbody>\n",
       "    <tr>\n",
       "      <th>0</th>\n",
       "      <td>enjoy beauti day park</td>\n",
       "      <td>2023-01-15 12:30:00</td>\n",
       "      <td>twitter</td>\n",
       "      <td>Nature, Park</td>\n",
       "      <td>15</td>\n",
       "      <td>30</td>\n",
       "      <td>USA</td>\n",
       "      <td>Positive</td>\n",
       "      <td>0</td>\n",
       "      <td>1</td>\n",
       "    </tr>\n",
       "    <tr>\n",
       "      <th>1</th>\n",
       "      <td>traffic terribl morn</td>\n",
       "      <td>2023-01-15 08:45:00</td>\n",
       "      <td>twitter</td>\n",
       "      <td>Traffic, Morning</td>\n",
       "      <td>5</td>\n",
       "      <td>10</td>\n",
       "      <td>Canada</td>\n",
       "      <td>Negative</td>\n",
       "      <td>0</td>\n",
       "      <td>1</td>\n",
       "    </tr>\n",
       "    <tr>\n",
       "      <th>2</th>\n",
       "      <td>finish amaz workout</td>\n",
       "      <td>2023-01-15 15:45:00</td>\n",
       "      <td>instagram</td>\n",
       "      <td>Fitness, Workout</td>\n",
       "      <td>20</td>\n",
       "      <td>40</td>\n",
       "      <td>USA</td>\n",
       "      <td>Positive</td>\n",
       "      <td>1</td>\n",
       "      <td>0</td>\n",
       "    </tr>\n",
       "    <tr>\n",
       "      <th>3</th>\n",
       "      <td>excit upcom weekend getaway</td>\n",
       "      <td>2023-01-15 18:20:00</td>\n",
       "      <td>facebook</td>\n",
       "      <td>Travel, Adventure</td>\n",
       "      <td>8</td>\n",
       "      <td>15</td>\n",
       "      <td>UK</td>\n",
       "      <td>Positive</td>\n",
       "      <td>0</td>\n",
       "      <td>0</td>\n",
       "    </tr>\n",
       "    <tr>\n",
       "      <th>4</th>\n",
       "      <td>tri new recip dinner tonight</td>\n",
       "      <td>2023-01-15 19:55:00</td>\n",
       "      <td>instagram</td>\n",
       "      <td>Cooking, Food</td>\n",
       "      <td>12</td>\n",
       "      <td>25</td>\n",
       "      <td>Australia</td>\n",
       "      <td>Neutral</td>\n",
       "      <td>1</td>\n",
       "      <td>0</td>\n",
       "    </tr>\n",
       "  </tbody>\n",
       "</table>\n",
       "</div>"
      ],
      "text/plain": [
       "                           Text           Timestamp   Platform  \\\n",
       "0         enjoy beauti day park 2023-01-15 12:30:00    twitter   \n",
       "1          traffic terribl morn 2023-01-15 08:45:00    twitter   \n",
       "2           finish amaz workout 2023-01-15 15:45:00  instagram   \n",
       "3   excit upcom weekend getaway 2023-01-15 18:20:00   facebook   \n",
       "4  tri new recip dinner tonight 2023-01-15 19:55:00  instagram   \n",
       "\n",
       "            Hashtags  Retweets  Likes       Country MappedSentiment  \\\n",
       "0       Nature, Park        15     30     USA              Positive   \n",
       "1   Traffic, Morning         5     10     Canada           Negative   \n",
       "2   Fitness, Workout        20     40   USA                Positive   \n",
       "3  Travel, Adventure         8     15     UK               Positive   \n",
       "4      Cooking, Food        12     25    Australia          Neutral   \n",
       "\n",
       "   Platform_encoded_1  Platform_encoded_2  \n",
       "0                   0                   1  \n",
       "1                   0                   1  \n",
       "2                   1                   0  \n",
       "3                   0                   0  \n",
       "4                   1                   0  "
      ]
     },
     "execution_count": 43,
     "metadata": {},
     "output_type": "execute_result"
    }
   ],
   "source": [
    "sentiment.head()"
   ]
  },
  {
   "cell_type": "code",
   "execution_count": 44,
   "id": "7ce7c82f",
   "metadata": {},
   "outputs": [
    {
     "name": "stdout",
     "output_type": "stream",
     "text": [
      "<class 'pandas.core.frame.DataFrame'>\n",
      "RangeIndex: 732 entries, 0 to 731\n",
      "Data columns (total 10 columns):\n",
      " #   Column              Non-Null Count  Dtype         \n",
      "---  ------              --------------  -----         \n",
      " 0   Text                732 non-null    object        \n",
      " 1   Timestamp           732 non-null    datetime64[ns]\n",
      " 2   Platform            732 non-null    object        \n",
      " 3   Hashtags            732 non-null    object        \n",
      " 4   Retweets            732 non-null    int64         \n",
      " 5   Likes               732 non-null    int64         \n",
      " 6   Country             732 non-null    object        \n",
      " 7   MappedSentiment     732 non-null    object        \n",
      " 8   Platform_encoded_1  732 non-null    int64         \n",
      " 9   Platform_encoded_2  732 non-null    int64         \n",
      "dtypes: datetime64[ns](1), int64(4), object(5)\n",
      "memory usage: 57.3+ KB\n"
     ]
    }
   ],
   "source": [
    "sentiment.info()"
   ]
  },
  {
   "cell_type": "code",
   "execution_count": 45,
   "id": "6c52ad45",
   "metadata": {},
   "outputs": [],
   "source": [
    "sentiment['SentimentEncoded'] = le.fit_transform(sentiment['MappedSentiment'])"
   ]
  },
  {
   "cell_type": "code",
   "execution_count": 46,
   "id": "e8263e87",
   "metadata": {},
   "outputs": [
    {
     "data": {
      "text/html": [
       "<div>\n",
       "<style scoped>\n",
       "    .dataframe tbody tr th:only-of-type {\n",
       "        vertical-align: middle;\n",
       "    }\n",
       "\n",
       "    .dataframe tbody tr th {\n",
       "        vertical-align: top;\n",
       "    }\n",
       "\n",
       "    .dataframe thead th {\n",
       "        text-align: right;\n",
       "    }\n",
       "</style>\n",
       "<table border=\"1\" class=\"dataframe\">\n",
       "  <thead>\n",
       "    <tr style=\"text-align: right;\">\n",
       "      <th></th>\n",
       "      <th>Retweets</th>\n",
       "      <th>Likes</th>\n",
       "      <th>Platform_encoded_1</th>\n",
       "      <th>Platform_encoded_2</th>\n",
       "      <th>SentimentEncoded</th>\n",
       "    </tr>\n",
       "  </thead>\n",
       "  <tbody>\n",
       "    <tr>\n",
       "      <th>Retweets</th>\n",
       "      <td>1.000000</td>\n",
       "      <td>0.998482</td>\n",
       "      <td>0.114232</td>\n",
       "      <td>-0.064746</td>\n",
       "      <td>0.279795</td>\n",
       "    </tr>\n",
       "    <tr>\n",
       "      <th>Likes</th>\n",
       "      <td>0.998482</td>\n",
       "      <td>1.000000</td>\n",
       "      <td>0.114620</td>\n",
       "      <td>-0.067186</td>\n",
       "      <td>0.277014</td>\n",
       "    </tr>\n",
       "    <tr>\n",
       "      <th>Platform_encoded_1</th>\n",
       "      <td>0.114232</td>\n",
       "      <td>0.114620</td>\n",
       "      <td>1.000000</td>\n",
       "      <td>-0.520079</td>\n",
       "      <td>0.027500</td>\n",
       "    </tr>\n",
       "    <tr>\n",
       "      <th>Platform_encoded_2</th>\n",
       "      <td>-0.064746</td>\n",
       "      <td>-0.067186</td>\n",
       "      <td>-0.520079</td>\n",
       "      <td>1.000000</td>\n",
       "      <td>-0.027265</td>\n",
       "    </tr>\n",
       "    <tr>\n",
       "      <th>SentimentEncoded</th>\n",
       "      <td>0.279795</td>\n",
       "      <td>0.277014</td>\n",
       "      <td>0.027500</td>\n",
       "      <td>-0.027265</td>\n",
       "      <td>1.000000</td>\n",
       "    </tr>\n",
       "  </tbody>\n",
       "</table>\n",
       "</div>"
      ],
      "text/plain": [
       "                    Retweets     Likes  Platform_encoded_1  \\\n",
       "Retweets            1.000000  0.998482            0.114232   \n",
       "Likes               0.998482  1.000000            0.114620   \n",
       "Platform_encoded_1  0.114232  0.114620            1.000000   \n",
       "Platform_encoded_2 -0.064746 -0.067186           -0.520079   \n",
       "SentimentEncoded    0.279795  0.277014            0.027500   \n",
       "\n",
       "                    Platform_encoded_2  SentimentEncoded  \n",
       "Retweets                     -0.064746          0.279795  \n",
       "Likes                        -0.067186          0.277014  \n",
       "Platform_encoded_1           -0.520079          0.027500  \n",
       "Platform_encoded_2            1.000000         -0.027265  \n",
       "SentimentEncoded             -0.027265          1.000000  "
      ]
     },
     "execution_count": 46,
     "metadata": {},
     "output_type": "execute_result"
    }
   ],
   "source": [
    "sentiment.corr(numeric_only=True)"
   ]
  },
  {
   "cell_type": "code",
   "execution_count": 47,
   "id": "3c2527b6",
   "metadata": {},
   "outputs": [
    {
     "data": {
      "text/plain": [
       "Country\n",
       "USA           59\n",
       "USA           55\n",
       "UK            49\n",
       "Canada        44\n",
       "Australia     41\n",
       "              ..\n",
       "Ireland        1\n",
       "Scotland       1\n",
       "Kenya          1\n",
       "Jamaica        1\n",
       "Thailand       1\n",
       "Name: count, Length: 115, dtype: int64"
      ]
     },
     "execution_count": 47,
     "metadata": {},
     "output_type": "execute_result"
    }
   ],
   "source": [
    "sentiment['Country'].value_counts()"
   ]
  },
  {
   "cell_type": "code",
   "execution_count": 48,
   "id": "1be619cf",
   "metadata": {},
   "outputs": [
    {
     "data": {
      "image/png": "[encoded data removed]",
      "text/plain": [
       "<Figure size 1600x800 with 1 Axes>"
      ]
     },
     "metadata": {},
     "output_type": "display_data"
    }
   ],
   "source": [
    "plt.figure(figsize=(16,8))\n",
    "sentiment['Country'].value_counts().plot(kind='bar')\n",
    "plt.show()"
   ]
  },
  {
   "cell_type": "code",
   "execution_count": 49,
   "id": "9e211b45",
   "metadata": {},
   "outputs": [],
   "source": [
    "sentiment['Country'] = sentiment['Country'].str.strip().str.lower()\n",
    "\n",
    "country_count = sentiment['Country'].value_counts()\n",
    "\n",
    "high_count_countries = set(country_count[country_count > 20].index)\n"
   ]
  },
  {
   "cell_type": "code",
   "execution_count": 50,
   "id": "4bcb9c3f",
   "metadata": {},
   "outputs": [
    {
     "name": "stdout",
     "output_type": "stream",
     "text": [
      "Country\n",
      "usa          188\n",
      "uk           143\n",
      "canada       135\n",
      "other        121\n",
      "australia     75\n",
      "india         70\n",
      "Name: count, dtype: int64\n"
     ]
    },
    {
     "data": {
      "image/png": "[encoded data removed]",
      "text/plain": [
       "<Figure size 640x480 with 1 Axes>"
      ]
     },
     "metadata": {},
     "output_type": "display_data"
    }
   ],
   "source": [
    "sentiment['Country'] = sentiment['Country'].apply(lambda x: x if x in high_count_countries else 'other')\n",
    "sentiment['Country'].value_counts().plot(kind='bar')\n",
    "print(sentiment['Country'].value_counts())"
   ]
  },
  {
   "cell_type": "code",
   "execution_count": 79,
   "id": "cd265c09",
   "metadata": {},
   "outputs": [
    {
     "data": {
      "text/html": [
       "<div>\n",
       "<style scoped>\n",
       "    .dataframe tbody tr th:only-of-type {\n",
       "        vertical-align: middle;\n",
       "    }\n",
       "\n",
       "    .dataframe tbody tr th {\n",
       "        vertical-align: top;\n",
       "    }\n",
       "\n",
       "    .dataframe thead th {\n",
       "        text-align: right;\n",
       "    }\n",
       "</style>\n",
       "<table border=\"1\" class=\"dataframe\">\n",
       "  <thead>\n",
       "    <tr style=\"text-align: right;\">\n",
       "      <th></th>\n",
       "      <th>Text</th>\n",
       "      <th>Timestamp</th>\n",
       "      <th>Platform</th>\n",
       "      <th>Hashtags</th>\n",
       "      <th>Retweets</th>\n",
       "      <th>Likes</th>\n",
       "      <th>Country</th>\n",
       "      <th>MappedSentiment</th>\n",
       "      <th>Platform_encoded_1</th>\n",
       "      <th>Platform_encoded_2</th>\n",
       "      <th>SentimentEncoded</th>\n",
       "      <th>Country_encoded</th>\n",
       "    </tr>\n",
       "  </thead>\n",
       "  <tbody>\n",
       "    <tr>\n",
       "      <th>197</th>\n",
       "      <td>lost vast sea inform indiffer wave digit ocean</td>\n",
       "      <td>2022-11-28 17:30:00</td>\n",
       "      <td>instagram</td>\n",
       "      <td>Indifference, DigitalOverload</td>\n",
       "      <td>7</td>\n",
       "      <td>15</td>\n",
       "      <td>canada</td>\n",
       "      <td>Neutral</td>\n",
       "      <td>1</td>\n",
       "      <td>0</td>\n",
       "      <td>1</td>\n",
       "      <td>1</td>\n",
       "    </tr>\n",
       "    <tr>\n",
       "      <th>384</th>\n",
       "      <td>whisper inspir rustl leav seren forest</td>\n",
       "      <td>2016-11-15 11:45:00</td>\n",
       "      <td>facebook</td>\n",
       "      <td>Inspiration, ForestWhispers</td>\n",
       "      <td>28</td>\n",
       "      <td>55</td>\n",
       "      <td>other</td>\n",
       "      <td>Neutral</td>\n",
       "      <td>0</td>\n",
       "      <td>0</td>\n",
       "      <td>1</td>\n",
       "      <td>3</td>\n",
       "    </tr>\n",
       "    <tr>\n",
       "      <th>621</th>\n",
       "      <td>join write group pen thought write journey dep...</td>\n",
       "      <td>2023-06-30 19:30:00</td>\n",
       "      <td>twitter</td>\n",
       "      <td>SoulfulWriting, SeniorReflections</td>\n",
       "      <td>28</td>\n",
       "      <td>55</td>\n",
       "      <td>uk</td>\n",
       "      <td>Positive</td>\n",
       "      <td>0</td>\n",
       "      <td>1</td>\n",
       "      <td>3</td>\n",
       "      <td>4</td>\n",
       "    </tr>\n",
       "    <tr>\n",
       "      <th>482</th>\n",
       "      <td>symphoni excit note burst energi ignit soul fe...</td>\n",
       "      <td>2021-04-18 14:20:00</td>\n",
       "      <td>facebook</td>\n",
       "      <td>Excitement, IgnitedSoul</td>\n",
       "      <td>30</td>\n",
       "      <td>60</td>\n",
       "      <td>uk</td>\n",
       "      <td>Positive</td>\n",
       "      <td>0</td>\n",
       "      <td>0</td>\n",
       "      <td>3</td>\n",
       "      <td>4</td>\n",
       "    </tr>\n",
       "    <tr>\n",
       "      <th>416</th>\n",
       "      <td>spark inspir ignit like shoot star night sky</td>\n",
       "      <td>2018-02-10 23:30:00</td>\n",
       "      <td>facebook</td>\n",
       "      <td>Spark, InspirationIgnited</td>\n",
       "      <td>30</td>\n",
       "      <td>60</td>\n",
       "      <td>australia</td>\n",
       "      <td>Other</td>\n",
       "      <td>0</td>\n",
       "      <td>0</td>\n",
       "      <td>2</td>\n",
       "      <td>0</td>\n",
       "    </tr>\n",
       "  </tbody>\n",
       "</table>\n",
       "</div>"
      ],
      "text/plain": [
       "                                                  Text           Timestamp  \\\n",
       "197     lost vast sea inform indiffer wave digit ocean 2022-11-28 17:30:00   \n",
       "384             whisper inspir rustl leav seren forest 2016-11-15 11:45:00   \n",
       "621  join write group pen thought write journey dep... 2023-06-30 19:30:00   \n",
       "482  symphoni excit note burst energi ignit soul fe... 2021-04-18 14:20:00   \n",
       "416       spark inspir ignit like shoot star night sky 2018-02-10 23:30:00   \n",
       "\n",
       "      Platform                           Hashtags  Retweets  Likes    Country  \\\n",
       "197  instagram      Indifference, DigitalOverload         7     15     canada   \n",
       "384   facebook        Inspiration, ForestWhispers        28     55      other   \n",
       "621    twitter  SoulfulWriting, SeniorReflections        28     55         uk   \n",
       "482   facebook            Excitement, IgnitedSoul        30     60         uk   \n",
       "416   facebook          Spark, InspirationIgnited        30     60  australia   \n",
       "\n",
       "    MappedSentiment  Platform_encoded_1  Platform_encoded_2  SentimentEncoded  \\\n",
       "197         Neutral                   1                   0                 1   \n",
       "384         Neutral                   0                   0                 1   \n",
       "621        Positive                   0                   1                 3   \n",
       "482        Positive                   0                   0                 3   \n",
       "416           Other                   0                   0                 2   \n",
       "\n",
       "     Country_encoded  \n",
       "197                1  \n",
       "384                3  \n",
       "621                4  \n",
       "482                4  \n",
       "416                0  "
      ]
     },
     "execution_count": 79,
     "metadata": {},
     "output_type": "execute_result"
    }
   ],
   "source": [
    "sentiment.sample(5)"
   ]
  },
  {
   "cell_type": "markdown",
   "id": "7eba7dd0",
   "metadata": {},
   "source": [
    "The sentiment encoded to be \n",
    "- Negative -> 0\n",
    "- Neutral -> 1\n",
    "- Other -> 2\n",
    "- Positive -> 3"
   ]
  },
  {
   "cell_type": "code",
   "execution_count": 60,
   "id": "5c35b091",
   "metadata": {},
   "outputs": [],
   "source": [
    "sentiment['Country_encoded'] = le.fit_transform(sentiment['Country'])"
   ]
  },
  {
   "cell_type": "code",
   "execution_count": 61,
   "id": "49743f92",
   "metadata": {},
   "outputs": [],
   "source": [
    "sentiment.to_csv('clean_data/sentiment.csv')"
   ]
  },
  {
   "cell_type": "markdown",
   "id": "1281b6fb",
   "metadata": {},
   "source": [
    "## Starting to model.\n",
    "-Now we need to capture X and y which we will train_Test"
   ]
  },
  {
   "cell_type": "code",
   "execution_count": 62,
   "id": "e00e1171",
   "metadata": {},
   "outputs": [],
   "source": [
    "from sklearn.feature_extraction.text import TfidfVectorizer\n",
    "from sklearn.preprocessing import StandardScaler\n",
    "from scipy.sparse import hstack, csr_matrix"
   ]
  },
  {
   "cell_type": "markdown",
   "id": "46d132aa",
   "metadata": {},
   "source": [
    "As for X -> we will use Text (using TF-IDF),Retweets, Likes,Platform_encoded_1, Platform_encoded_2,country_encoded "
   ]
  },
  {
   "cell_type": "code",
   "execution_count": 100,
   "id": "7b370124",
   "metadata": {},
   "outputs": [],
   "source": [
    "tfidf = TfidfVectorizer(max_features=500)\n",
    "X_text = tfidf.fit_transform(sentiment['Text'])\n",
    "y = sentiment['SentimentEncoded']"
   ]
  },
  {
   "cell_type": "code",
   "execution_count": 101,
   "id": "3b25a00d",
   "metadata": {},
   "outputs": [],
   "source": [
    "from sklearn.model_selection import train_test_split\n",
    "\n",
    "X_train, X_test, y_train, y_test = train_test_split(X_text, y, test_size=0.2, random_state=42)"
   ]
  },
  {
   "cell_type": "code",
   "execution_count": 102,
   "id": "e4181c7a",
   "metadata": {},
   "outputs": [
    {
     "data": {
      "text/plain": [
       "(732, 12)"
      ]
     },
     "execution_count": 102,
     "metadata": {},
     "output_type": "execute_result"
    }
   ],
   "source": [
    "sentiment.shape"
   ]
  },
  {
   "cell_type": "code",
   "execution_count": 103,
   "id": "401c1fca",
   "metadata": {},
   "outputs": [
    {
     "data": {
      "text/plain": [
       "(585, 500)"
      ]
     },
     "execution_count": 103,
     "metadata": {},
     "output_type": "execute_result"
    }
   ],
   "source": [
    "# 500 features we added + the 5 features from sentiment\n",
    "X_train.shape"
   ]
  },
  {
   "cell_type": "code",
   "execution_count": 104,
   "id": "8d9d9c1a",
   "metadata": {},
   "outputs": [],
   "source": [
    "from sklearn.linear_model import LinearRegression, LogisticRegression\n",
    "from sklearn.neighbors import KNeighborsClassifier\n",
    "from sklearn.tree import DecisionTreeClassifier\n",
    "from sklearn.cluster import KMeans"
   ]
  },
  {
   "cell_type": "code",
   "execution_count": 105,
   "id": "eff57ce8",
   "metadata": {},
   "outputs": [],
   "source": [
    "from sklearn.metrics import r2_score, mean_squared_error,accuracy_score, confusion_matrix, classification_report"
   ]
  },
  {
   "cell_type": "code",
   "execution_count": 106,
   "id": "f3beee5c",
   "metadata": {},
   "outputs": [
    {
     "name": "stdout",
     "output_type": "stream",
     "text": [
      "R2 Score : -2.927025503959996\n",
      "MSE      : 5.7063538721988\n"
     ]
    }
   ],
   "source": [
    "lr = LinearRegression()\n",
    "lr.fit(X_train, y_train)\n",
    "\n",
    "y_pred_lr = lr.predict(X_test)\n",
    "\n",
    "lr_score = r2_score(y_test,y_pred_lr)\n",
    "\n",
    "print(\"R2 Score :\", lr_score)\n",
    "\n",
    "print(\"MSE      :\", mean_squared_error(y_test,y_pred_lr))"
   ]
  },
  {
   "cell_type": "markdown",
   "id": "e9dc1eea",
   "metadata": {},
   "source": [
    "## Logistic Regression"
   ]
  },
  {
   "cell_type": "code",
   "execution_count": 107,
   "id": "05df8ecf",
   "metadata": {},
   "outputs": [
    {
     "name": "stdout",
     "output_type": "stream",
     "text": [
      "Accuracy Score   : 0.6326530612244898\n",
      "              precision    recall  f1-score   support\n",
      "\n",
      "           0       0.69      0.66      0.68        38\n",
      "           1       0.67      0.64      0.65        28\n",
      "           2       0.44      0.52      0.48        29\n",
      "           3       0.70      0.67      0.69        52\n",
      "\n",
      "    accuracy                           0.63       147\n",
      "   macro avg       0.63      0.62      0.62       147\n",
      "weighted avg       0.64      0.63      0.64       147\n",
      "\n",
      "[[25  1  8  4]\n",
      " [ 1 18  3  6]\n",
      " [ 8  1 15  5]\n",
      " [ 2  7  8 35]]\n"
     ]
    }
   ],
   "source": [
    "log = LogisticRegression(max_iter=1000, class_weight='balanced')\n",
    "\n",
    "log.fit(X_train, y_train)\n",
    "\n",
    "y_pred_log = log.predict(X_test)\n",
    "\n",
    "log_score = accuracy_score(y_test, y_pred_log)\n",
    "\n",
    "print(\"Accuracy Score   :\", log_score)\n",
    "\n",
    "print(classification_report(y_test, y_pred_log))\n",
    "\n",
    "print(confusion_matrix(y_test, y_pred_log))"
   ]
  },
  {
   "cell_type": "markdown",
   "id": "4b05c321",
   "metadata": {},
   "source": [
    "The sentiment encoded to be \n",
    "- Negative -> 0\n",
    "- Neutral -> 1\n",
    "- Other -> 2\n",
    "- Positive -> 3"
   ]
  },
  {
   "cell_type": "code",
   "execution_count": 108,
   "id": "8df237c1",
   "metadata": {},
   "outputs": [],
   "source": [
    "def predict_sentiment(text):\n",
    "    vec = tfidf.transform([text])\n",
    "    pred = log.predict(vec)[0]\n",
    "    label_map = {0:'Negative', 1:'Neutral', 2:'Other', 3:'Positive'}\n",
    "    return label_map.get(pred, \"Unknown\")"
   ]
  },
  {
   "cell_type": "code",
   "execution_count": 111,
   "id": "a1881cff",
   "metadata": {},
   "outputs": [
    {
     "name": "stdout",
     "output_type": "stream",
     "text": [
      "Predicted Sentiment: Negative\n"
     ]
    }
   ],
   "source": [
    "sample_text = \"Its bad\"\n",
    "\n",
    "print(\"Predicted Sentiment:\", predict_sentiment(sample_text))\n"
   ]
  },
  {
   "cell_type": "code",
   "execution_count": null,
   "id": "2fd9f2ce",
   "metadata": {},
   "outputs": [],
   "source": []
  }
 ],
 "metadata": {
  "kernelspec": {
   "display_name": "venv",
   "language": "python",
   "name": "python3"
  },
  "language_info": {
   "codemirror_mode": {
    "name": "ipython",
    "version": 3
   },
   "file_extension": ".py",
   "mimetype": "text/x-python",
   "name": "python",
   "nbconvert_exporter": "python",
   "pygments_lexer": "ipython3",
   "version": "3.12.4"
  }
 },
 "nbformat": 4,
 "nbformat_minor": 5
}
